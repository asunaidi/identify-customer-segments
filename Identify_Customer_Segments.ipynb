{
 "cells": [
  {
   "cell_type": "markdown",
   "metadata": {},
   "source": [
    "# Project: Identify Customer Segments\n",
    "\n",
    "In this project, you will apply unsupervised learning techniques to identify segments of the population that form the core customer base for a mail-order sales company in Germany. These segments can then be used to direct marketing campaigns towards audiences that will have the highest expected rate of returns. The data that you will use has been provided by our partners at Bertelsmann Arvato Analytics, and represents a real-life data science task.\n",
    "\n",
    "This notebook will help you complete this task by providing a framework within which you will perform your analysis steps. In each step of the project, you will see some text describing the subtask that you will perform, followed by one or more code cells for you to complete your work. **Feel free to add additional code and markdown cells as you go along so that you can explore everything in precise chunks.** The code cells provided in the base template will outline only the major tasks, and will usually not be enough to cover all of the minor tasks that comprise it.\n",
    "\n",
    "It should be noted that while there will be precise guidelines on how you should handle certain tasks in the project, there will also be places where an exact specification is not provided. **There will be times in the project where you will need to make and justify your own decisions on how to treat the data.** These are places where there may not be only one way to handle the data. In real-life tasks, there may be many valid ways to approach an analysis task. One of the most important things you can do is clearly document your approach so that other scientists can understand the decisions you've made.\n",
    "\n",
    "At the end of most sections, there will be a Markdown cell labeled **Discussion**. In these cells, you will report your findings for the completed section, as well as document the decisions that you made in your approach to each subtask. **Your project will be evaluated not just on the code used to complete the tasks outlined, but also your communication about your observations and conclusions at each stage.**"
   ]
  },
  {
   "cell_type": "code",
   "execution_count": 1,
   "metadata": {},
   "outputs": [],
   "source": [
    "# import libraries here; add more as necessary\n",
    "import numpy as np\n",
    "import pandas as pd\n",
    "import matplotlib.pyplot as plt\n",
    "import seaborn as sns\n",
    "from sklearn.preprocessing import Imputer, StandardScaler\n",
    "from sklearn.decomposition import PCA\n",
    "from sklearn.cluster import KMeans\n",
    "\n",
    "# magic word for producing visualizations in notebook\n",
    "%matplotlib inline"
   ]
  },
  {
   "cell_type": "markdown",
   "metadata": {},
   "source": [
    "### Step 0: Load the Data\n",
    "\n",
    "There are four files associated with this project (not including this one):\n",
    "\n",
    "- `Udacity_AZDIAS_Subset.csv`: Demographics data for the general population of Germany; 891211 persons (rows) x 85 features (columns).\n",
    "- `Udacity_CUSTOMERS_Subset.csv`: Demographics data for customers of a mail-order company; 191652 persons (rows) x 85 features (columns).\n",
    "- `Data_Dictionary.md`: Detailed information file about the features in the provided datasets.\n",
    "- `AZDIAS_Feature_Summary.csv`: Summary of feature attributes for demographics data; 85 features (rows) x 4 columns\n",
    "\n",
    "Each row of the demographics files represents a single person, but also includes information outside of individuals, including information about their household, building, and neighborhood. You will use this information to cluster the general population into groups with similar demographic properties. Then, you will see how the people in the customers dataset fit into those created clusters. The hope here is that certain clusters are over-represented in the customers data, as compared to the general population; those over-represented clusters will be assumed to be part of the core userbase. This information can then be used for further applications, such as targeting for a marketing campaign.\n",
    "\n",
    "To start off with, load in the demographics data for the general population into a pandas DataFrame, and do the same for the feature attributes summary. Note for all of the `.csv` data files in this project: they're semicolon (`;`) delimited, so you'll need an additional argument in your [`read_csv()`](https://pandas.pydata.org/pandas-docs/stable/generated/pandas.read_csv.html) call to read in the data properly. Also, considering the size of the main dataset, it may take some time for it to load completely.\n",
    "\n",
    "Once the dataset is loaded, it's recommended that you take a little bit of time just browsing the general structure of the dataset and feature summary file. You'll be getting deep into the innards of the cleaning in the first major step of the project, so gaining some general familiarity can help you get your bearings."
   ]
  },
  {
   "cell_type": "code",
   "execution_count": 2,
   "metadata": {},
   "outputs": [],
   "source": [
    "# Load in the general demographics data.\n",
    "azdias = pd.read_csv('Udacity_AZDIAS_Subset.csv', delimiter=';')\n",
    "\n",
    "# Load in the feature summary file.\n",
    "feat_info = pd.read_csv('AZDIAS_Feature_Summary.csv', delimiter=';')"
   ]
  },
  {
   "cell_type": "code",
   "execution_count": 3,
   "metadata": {
    "scrolled": true
   },
   "outputs": [
    {
     "name": "stdout",
     "output_type": "stream",
     "text": [
      "Total number of rows: 891221 , columns: 85\n"
     ]
    }
   ],
   "source": [
    "# Check the structure of the data after it's loaded (e.g. print the number of\n",
    "# rows and columns, print the first few rows).\n",
    "n_rows,n_cols = azdias.shape\n",
    "print(\"Total number of rows: {} , columns: {}\".format(n_rows,n_cols))"
   ]
  },
  {
   "cell_type": "code",
   "execution_count": 4,
   "metadata": {},
   "outputs": [
    {
     "data": {
      "text/html": [
       "<div>\n",
       "<style scoped>\n",
       "    .dataframe tbody tr th:only-of-type {\n",
       "        vertical-align: middle;\n",
       "    }\n",
       "\n",
       "    .dataframe tbody tr th {\n",
       "        vertical-align: top;\n",
       "    }\n",
       "\n",
       "    .dataframe thead th {\n",
       "        text-align: right;\n",
       "    }\n",
       "</style>\n",
       "<table border=\"1\" class=\"dataframe\">\n",
       "  <thead>\n",
       "    <tr style=\"text-align: right;\">\n",
       "      <th></th>\n",
       "      <th>AGER_TYP</th>\n",
       "      <th>ALTERSKATEGORIE_GROB</th>\n",
       "      <th>ANREDE_KZ</th>\n",
       "      <th>CJT_GESAMTTYP</th>\n",
       "      <th>FINANZ_MINIMALIST</th>\n",
       "      <th>FINANZ_SPARER</th>\n",
       "      <th>FINANZ_VORSORGER</th>\n",
       "      <th>FINANZ_ANLEGER</th>\n",
       "      <th>FINANZ_UNAUFFAELLIGER</th>\n",
       "      <th>FINANZ_HAUSBAUER</th>\n",
       "      <th>...</th>\n",
       "      <th>PLZ8_ANTG1</th>\n",
       "      <th>PLZ8_ANTG2</th>\n",
       "      <th>PLZ8_ANTG3</th>\n",
       "      <th>PLZ8_ANTG4</th>\n",
       "      <th>PLZ8_BAUMAX</th>\n",
       "      <th>PLZ8_HHZ</th>\n",
       "      <th>PLZ8_GBZ</th>\n",
       "      <th>ARBEIT</th>\n",
       "      <th>ORTSGR_KLS9</th>\n",
       "      <th>RELAT_AB</th>\n",
       "    </tr>\n",
       "  </thead>\n",
       "  <tbody>\n",
       "    <tr>\n",
       "      <th>0</th>\n",
       "      <td>-1</td>\n",
       "      <td>2</td>\n",
       "      <td>1</td>\n",
       "      <td>2.0</td>\n",
       "      <td>3</td>\n",
       "      <td>4</td>\n",
       "      <td>3</td>\n",
       "      <td>5</td>\n",
       "      <td>5</td>\n",
       "      <td>3</td>\n",
       "      <td>...</td>\n",
       "      <td>NaN</td>\n",
       "      <td>NaN</td>\n",
       "      <td>NaN</td>\n",
       "      <td>NaN</td>\n",
       "      <td>NaN</td>\n",
       "      <td>NaN</td>\n",
       "      <td>NaN</td>\n",
       "      <td>NaN</td>\n",
       "      <td>NaN</td>\n",
       "      <td>NaN</td>\n",
       "    </tr>\n",
       "    <tr>\n",
       "      <th>1</th>\n",
       "      <td>-1</td>\n",
       "      <td>1</td>\n",
       "      <td>2</td>\n",
       "      <td>5.0</td>\n",
       "      <td>1</td>\n",
       "      <td>5</td>\n",
       "      <td>2</td>\n",
       "      <td>5</td>\n",
       "      <td>4</td>\n",
       "      <td>5</td>\n",
       "      <td>...</td>\n",
       "      <td>2.0</td>\n",
       "      <td>3.0</td>\n",
       "      <td>2.0</td>\n",
       "      <td>1.0</td>\n",
       "      <td>1.0</td>\n",
       "      <td>5.0</td>\n",
       "      <td>4.0</td>\n",
       "      <td>3.0</td>\n",
       "      <td>5.0</td>\n",
       "      <td>4.0</td>\n",
       "    </tr>\n",
       "    <tr>\n",
       "      <th>2</th>\n",
       "      <td>-1</td>\n",
       "      <td>3</td>\n",
       "      <td>2</td>\n",
       "      <td>3.0</td>\n",
       "      <td>1</td>\n",
       "      <td>4</td>\n",
       "      <td>1</td>\n",
       "      <td>2</td>\n",
       "      <td>3</td>\n",
       "      <td>5</td>\n",
       "      <td>...</td>\n",
       "      <td>3.0</td>\n",
       "      <td>3.0</td>\n",
       "      <td>1.0</td>\n",
       "      <td>0.0</td>\n",
       "      <td>1.0</td>\n",
       "      <td>4.0</td>\n",
       "      <td>4.0</td>\n",
       "      <td>3.0</td>\n",
       "      <td>5.0</td>\n",
       "      <td>2.0</td>\n",
       "    </tr>\n",
       "    <tr>\n",
       "      <th>3</th>\n",
       "      <td>2</td>\n",
       "      <td>4</td>\n",
       "      <td>2</td>\n",
       "      <td>2.0</td>\n",
       "      <td>4</td>\n",
       "      <td>2</td>\n",
       "      <td>5</td>\n",
       "      <td>2</td>\n",
       "      <td>1</td>\n",
       "      <td>2</td>\n",
       "      <td>...</td>\n",
       "      <td>2.0</td>\n",
       "      <td>2.0</td>\n",
       "      <td>2.0</td>\n",
       "      <td>0.0</td>\n",
       "      <td>1.0</td>\n",
       "      <td>3.0</td>\n",
       "      <td>4.0</td>\n",
       "      <td>2.0</td>\n",
       "      <td>3.0</td>\n",
       "      <td>3.0</td>\n",
       "    </tr>\n",
       "    <tr>\n",
       "      <th>4</th>\n",
       "      <td>-1</td>\n",
       "      <td>3</td>\n",
       "      <td>1</td>\n",
       "      <td>5.0</td>\n",
       "      <td>4</td>\n",
       "      <td>3</td>\n",
       "      <td>4</td>\n",
       "      <td>1</td>\n",
       "      <td>3</td>\n",
       "      <td>2</td>\n",
       "      <td>...</td>\n",
       "      <td>2.0</td>\n",
       "      <td>4.0</td>\n",
       "      <td>2.0</td>\n",
       "      <td>1.0</td>\n",
       "      <td>2.0</td>\n",
       "      <td>3.0</td>\n",
       "      <td>3.0</td>\n",
       "      <td>4.0</td>\n",
       "      <td>6.0</td>\n",
       "      <td>5.0</td>\n",
       "    </tr>\n",
       "  </tbody>\n",
       "</table>\n",
       "<p>5 rows × 85 columns</p>\n",
       "</div>"
      ],
      "text/plain": [
       "   AGER_TYP  ALTERSKATEGORIE_GROB  ANREDE_KZ  CJT_GESAMTTYP  \\\n",
       "0        -1                     2          1            2.0   \n",
       "1        -1                     1          2            5.0   \n",
       "2        -1                     3          2            3.0   \n",
       "3         2                     4          2            2.0   \n",
       "4        -1                     3          1            5.0   \n",
       "\n",
       "   FINANZ_MINIMALIST  FINANZ_SPARER  FINANZ_VORSORGER  FINANZ_ANLEGER  \\\n",
       "0                  3              4                 3               5   \n",
       "1                  1              5                 2               5   \n",
       "2                  1              4                 1               2   \n",
       "3                  4              2                 5               2   \n",
       "4                  4              3                 4               1   \n",
       "\n",
       "   FINANZ_UNAUFFAELLIGER  FINANZ_HAUSBAUER    ...     PLZ8_ANTG1  PLZ8_ANTG2  \\\n",
       "0                      5                 3    ...            NaN         NaN   \n",
       "1                      4                 5    ...            2.0         3.0   \n",
       "2                      3                 5    ...            3.0         3.0   \n",
       "3                      1                 2    ...            2.0         2.0   \n",
       "4                      3                 2    ...            2.0         4.0   \n",
       "\n",
       "   PLZ8_ANTG3  PLZ8_ANTG4  PLZ8_BAUMAX  PLZ8_HHZ  PLZ8_GBZ  ARBEIT  \\\n",
       "0         NaN         NaN          NaN       NaN       NaN     NaN   \n",
       "1         2.0         1.0          1.0       5.0       4.0     3.0   \n",
       "2         1.0         0.0          1.0       4.0       4.0     3.0   \n",
       "3         2.0         0.0          1.0       3.0       4.0     2.0   \n",
       "4         2.0         1.0          2.0       3.0       3.0     4.0   \n",
       "\n",
       "   ORTSGR_KLS9  RELAT_AB  \n",
       "0          NaN       NaN  \n",
       "1          5.0       4.0  \n",
       "2          5.0       2.0  \n",
       "3          3.0       3.0  \n",
       "4          6.0       5.0  \n",
       "\n",
       "[5 rows x 85 columns]"
      ]
     },
     "metadata": {},
     "output_type": "display_data"
    }
   ],
   "source": [
    "display(azdias.head())"
   ]
  },
  {
   "cell_type": "code",
   "execution_count": 5,
   "metadata": {},
   "outputs": [
    {
     "name": "stdout",
     "output_type": "stream",
     "text": [
      "feature name: AGER_TYP, unique values:\n"
     ]
    },
    {
     "data": {
      "text/plain": [
       "array([-1,  2,  3,  0,  1])"
      ]
     },
     "metadata": {},
     "output_type": "display_data"
    },
    {
     "name": "stdout",
     "output_type": "stream",
     "text": [
      "feature name: ALTERSKATEGORIE_GROB, unique values:\n"
     ]
    },
    {
     "data": {
      "text/plain": [
       "array([2, 1, 3, 4, 9])"
      ]
     },
     "metadata": {},
     "output_type": "display_data"
    },
    {
     "name": "stdout",
     "output_type": "stream",
     "text": [
      "feature name: ANREDE_KZ, unique values:\n"
     ]
    },
    {
     "data": {
      "text/plain": [
       "array([1, 2])"
      ]
     },
     "metadata": {},
     "output_type": "display_data"
    },
    {
     "name": "stdout",
     "output_type": "stream",
     "text": [
      "feature name: CJT_GESAMTTYP, unique values:\n"
     ]
    },
    {
     "data": {
      "text/plain": [
       "array([  2.,   5.,   3.,   4.,   1.,   6.,  nan])"
      ]
     },
     "metadata": {},
     "output_type": "display_data"
    },
    {
     "name": "stdout",
     "output_type": "stream",
     "text": [
      "feature name: FINANZ_MINIMALIST, unique values:\n"
     ]
    },
    {
     "data": {
      "text/plain": [
       "array([3, 1, 4, 2, 5])"
      ]
     },
     "metadata": {},
     "output_type": "display_data"
    },
    {
     "name": "stdout",
     "output_type": "stream",
     "text": [
      "feature name: FINANZ_SPARER, unique values:\n"
     ]
    },
    {
     "data": {
      "text/plain": [
       "array([4, 5, 2, 3, 1])"
      ]
     },
     "metadata": {},
     "output_type": "display_data"
    },
    {
     "name": "stdout",
     "output_type": "stream",
     "text": [
      "feature name: FINANZ_VORSORGER, unique values:\n"
     ]
    },
    {
     "data": {
      "text/plain": [
       "array([3, 2, 1, 5, 4])"
      ]
     },
     "metadata": {},
     "output_type": "display_data"
    },
    {
     "name": "stdout",
     "output_type": "stream",
     "text": [
      "feature name: FINANZ_ANLEGER, unique values:\n"
     ]
    },
    {
     "data": {
      "text/plain": [
       "array([5, 2, 1, 4, 3])"
      ]
     },
     "metadata": {},
     "output_type": "display_data"
    },
    {
     "name": "stdout",
     "output_type": "stream",
     "text": [
      "feature name: FINANZ_UNAUFFAELLIGER, unique values:\n"
     ]
    },
    {
     "data": {
      "text/plain": [
       "array([5, 4, 3, 1, 2])"
      ]
     },
     "metadata": {},
     "output_type": "display_data"
    },
    {
     "name": "stdout",
     "output_type": "stream",
     "text": [
      "feature name: FINANZ_HAUSBAUER, unique values:\n"
     ]
    },
    {
     "data": {
      "text/plain": [
       "array([3, 5, 2, 4, 1])"
      ]
     },
     "metadata": {},
     "output_type": "display_data"
    },
    {
     "name": "stdout",
     "output_type": "stream",
     "text": [
      "feature name: FINANZTYP, unique values:\n"
     ]
    },
    {
     "data": {
      "text/plain": [
       "array([4, 1, 6, 5, 2, 3])"
      ]
     },
     "metadata": {},
     "output_type": "display_data"
    },
    {
     "name": "stdout",
     "output_type": "stream",
     "text": [
      "feature name: GEBURTSJAHR, unique values:\n"
     ]
    },
    {
     "data": {
      "text/plain": [
       "array([   0, 1996, 1979, 1957, 1963, 1943, 1964, 1974, 1975, 1941, 1993,\n",
       "       1946, 1988, 1991, 1966, 1949, 1982, 1972, 1990, 1985, 1989, 1948,\n",
       "       1935, 1997, 1994, 1987, 2002, 1950, 1965, 1969, 1978, 1958, 1944,\n",
       "       1967, 1977, 1960, 1970, 1973, 1971, 1937, 1947, 1926, 1954, 1981,\n",
       "       1962, 1992, 2008, 1976, 1928, 1927, 1968, 1940, 1952, 1961, 2006,\n",
       "       1938, 1945, 1942, 1984, 1930, 1980, 1959, 1986, 1931, 1955, 1983,\n",
       "       2010, 1951, 1921, 1929, 1939, 2001, 1995, 1956, 1953, 2012, 1934,\n",
       "       1913, 1914, 1922, 2004, 1936, 2009, 1915, 2003, 2013, 1998, 2007,\n",
       "       1932, 2005, 1923, 1925, 2015, 1933, 2017, 2000, 1999, 2014, 1920,\n",
       "       1918, 1924, 2016, 2011, 1908, 1919, 1916, 1917, 1912, 1911, 1909,\n",
       "       1910, 1904, 1906, 1905, 1900, 1907, 1902])"
      ]
     },
     "metadata": {},
     "output_type": "display_data"
    },
    {
     "name": "stdout",
     "output_type": "stream",
     "text": [
      "feature name: GFK_URLAUBERTYP, unique values:\n"
     ]
    },
    {
     "data": {
      "text/plain": [
       "array([ 10.,   1.,   5.,  12.,   9.,   3.,   8.,  11.,   4.,   2.,   7.,\n",
       "         6.,  nan])"
      ]
     },
     "metadata": {},
     "output_type": "display_data"
    },
    {
     "name": "stdout",
     "output_type": "stream",
     "text": [
      "feature name: GREEN_AVANTGARDE, unique values:\n"
     ]
    },
    {
     "data": {
      "text/plain": [
       "array([0, 1])"
      ]
     },
     "metadata": {},
     "output_type": "display_data"
    },
    {
     "name": "stdout",
     "output_type": "stream",
     "text": [
      "feature name: HEALTH_TYP, unique values:\n"
     ]
    },
    {
     "data": {
      "text/plain": [
       "array([-1,  3,  2,  1])"
      ]
     },
     "metadata": {},
     "output_type": "display_data"
    },
    {
     "name": "stdout",
     "output_type": "stream",
     "text": [
      "feature name: LP_LEBENSPHASE_FEIN, unique values:\n"
     ]
    },
    {
     "data": {
      "text/plain": [
       "array([ 15.,  21.,   3.,   0.,  32.,   8.,   2.,   5.,  10.,   4.,   6.,\n",
       "        23.,  12.,  20.,   1.,  11.,  25.,  13.,   7.,  18.,  31.,  19.,\n",
       "        38.,  35.,  30.,  22.,  14.,  33.,  29.,  24.,  28.,  37.,  26.,\n",
       "        39.,  27.,  36.,   9.,  34.,  nan,  40.,  16.,  17.])"
      ]
     },
     "metadata": {},
     "output_type": "display_data"
    },
    {
     "name": "stdout",
     "output_type": "stream",
     "text": [
      "feature name: LP_LEBENSPHASE_GROB, unique values:\n"
     ]
    },
    {
     "data": {
      "text/plain": [
       "array([  4.,   6.,   1.,   0.,  10.,   2.,   3.,   5.,   7.,  12.,  11.,\n",
       "         9.,   8.,  nan])"
      ]
     },
     "metadata": {},
     "output_type": "display_data"
    },
    {
     "name": "stdout",
     "output_type": "stream",
     "text": [
      "feature name: LP_FAMILIE_FEIN, unique values:\n"
     ]
    },
    {
     "data": {
      "text/plain": [
       "array([  2.,   5.,   1.,   0.,  10.,   7.,  11.,   3.,   8.,   4.,   6.,\n",
       "        nan,   9.])"
      ]
     },
     "metadata": {},
     "output_type": "display_data"
    },
    {
     "name": "stdout",
     "output_type": "stream",
     "text": [
      "feature name: LP_FAMILIE_GROB, unique values:\n"
     ]
    },
    {
     "data": {
      "text/plain": [
       "array([  2.,   3.,   1.,   0.,   5.,   4.,  nan])"
      ]
     },
     "metadata": {},
     "output_type": "display_data"
    },
    {
     "name": "stdout",
     "output_type": "stream",
     "text": [
      "feature name: LP_STATUS_FEIN, unique values:\n"
     ]
    },
    {
     "data": {
      "text/plain": [
       "array([  1.,   2.,   3.,   9.,   4.,  10.,   5.,   8.,   6.,   7.,  nan])"
      ]
     },
     "metadata": {},
     "output_type": "display_data"
    },
    {
     "name": "stdout",
     "output_type": "stream",
     "text": [
      "feature name: LP_STATUS_GROB, unique values:\n"
     ]
    },
    {
     "data": {
      "text/plain": [
       "array([  1.,   2.,   4.,   5.,   3.,  nan])"
      ]
     },
     "metadata": {},
     "output_type": "display_data"
    },
    {
     "name": "stdout",
     "output_type": "stream",
     "text": [
      "feature name: NATIONALITAET_KZ, unique values:\n"
     ]
    },
    {
     "data": {
      "text/plain": [
       "array([0, 1, 3, 2])"
      ]
     },
     "metadata": {},
     "output_type": "display_data"
    },
    {
     "name": "stdout",
     "output_type": "stream",
     "text": [
      "feature name: PRAEGENDE_JUGENDJAHRE, unique values:\n"
     ]
    },
    {
     "data": {
      "text/plain": [
       "array([ 0, 14, 15,  8,  3, 10, 11,  5,  9,  6,  4,  2,  1, 12, 13,  7])"
      ]
     },
     "metadata": {},
     "output_type": "display_data"
    },
    {
     "name": "stdout",
     "output_type": "stream",
     "text": [
      "feature name: RETOURTYP_BK_S, unique values:\n"
     ]
    },
    {
     "data": {
      "text/plain": [
       "array([  5.,   1.,   3.,   2.,   4.,  nan])"
      ]
     },
     "metadata": {},
     "output_type": "display_data"
    },
    {
     "name": "stdout",
     "output_type": "stream",
     "text": [
      "feature name: SEMIO_SOZ, unique values:\n"
     ]
    },
    {
     "data": {
      "text/plain": [
       "array([2, 5, 4, 6, 7, 3, 1])"
      ]
     },
     "metadata": {},
     "output_type": "display_data"
    },
    {
     "name": "stdout",
     "output_type": "stream",
     "text": [
      "feature name: SEMIO_FAM, unique values:\n"
     ]
    },
    {
     "data": {
      "text/plain": [
       "array([6, 4, 1, 5, 7, 2, 3])"
      ]
     },
     "metadata": {},
     "output_type": "display_data"
    },
    {
     "name": "stdout",
     "output_type": "stream",
     "text": [
      "feature name: SEMIO_REL, unique values:\n"
     ]
    },
    {
     "data": {
      "text/plain": [
       "array([7, 4, 3, 2, 5, 1, 6])"
      ]
     },
     "metadata": {},
     "output_type": "display_data"
    },
    {
     "name": "stdout",
     "output_type": "stream",
     "text": [
      "feature name: SEMIO_MAT, unique values:\n"
     ]
    },
    {
     "data": {
      "text/plain": [
       "array([5, 3, 1, 2, 4, 7, 6])"
      ]
     },
     "metadata": {},
     "output_type": "display_data"
    },
    {
     "name": "stdout",
     "output_type": "stream",
     "text": [
      "feature name: SEMIO_VERT, unique values:\n"
     ]
    },
    {
     "data": {
      "text/plain": [
       "array([1, 4, 7, 2, 6, 5, 3])"
      ]
     },
     "metadata": {},
     "output_type": "display_data"
    },
    {
     "name": "stdout",
     "output_type": "stream",
     "text": [
      "feature name: SEMIO_LUST, unique values:\n"
     ]
    },
    {
     "data": {
      "text/plain": [
       "array([5, 2, 4, 6, 7, 3, 1])"
      ]
     },
     "metadata": {},
     "output_type": "display_data"
    },
    {
     "name": "stdout",
     "output_type": "stream",
     "text": [
      "feature name: SEMIO_ERL, unique values:\n"
     ]
    },
    {
     "data": {
      "text/plain": [
       "array([3, 2, 6, 7, 4, 5, 1])"
      ]
     },
     "metadata": {},
     "output_type": "display_data"
    },
    {
     "name": "stdout",
     "output_type": "stream",
     "text": [
      "feature name: SEMIO_KULT, unique values:\n"
     ]
    },
    {
     "data": {
      "text/plain": [
       "array([3, 4, 6, 5, 7, 1, 2])"
      ]
     },
     "metadata": {},
     "output_type": "display_data"
    },
    {
     "name": "stdout",
     "output_type": "stream",
     "text": [
      "feature name: SEMIO_RAT, unique values:\n"
     ]
    },
    {
     "data": {
      "text/plain": [
       "array([4, 6, 3, 2, 7, 5, 1])"
      ]
     },
     "metadata": {},
     "output_type": "display_data"
    },
    {
     "name": "stdout",
     "output_type": "stream",
     "text": [
      "feature name: SEMIO_KRIT, unique values:\n"
     ]
    },
    {
     "data": {
      "text/plain": [
       "array([7, 4, 3, 1, 5, 6, 2])"
      ]
     },
     "metadata": {},
     "output_type": "display_data"
    },
    {
     "name": "stdout",
     "output_type": "stream",
     "text": [
      "feature name: SEMIO_DOM, unique values:\n"
     ]
    },
    {
     "data": {
      "text/plain": [
       "array([6, 7, 4, 2, 1, 5, 3])"
      ]
     },
     "metadata": {},
     "output_type": "display_data"
    },
    {
     "name": "stdout",
     "output_type": "stream",
     "text": [
      "feature name: SEMIO_KAEM, unique values:\n"
     ]
    },
    {
     "data": {
      "text/plain": [
       "array([6, 4, 7, 5, 2, 3, 1])"
      ]
     },
     "metadata": {},
     "output_type": "display_data"
    },
    {
     "name": "stdout",
     "output_type": "stream",
     "text": [
      "feature name: SEMIO_PFLICHT, unique values:\n"
     ]
    },
    {
     "data": {
      "text/plain": [
       "array([5, 7, 3, 4, 1, 6, 2])"
      ]
     },
     "metadata": {},
     "output_type": "display_data"
    },
    {
     "name": "stdout",
     "output_type": "stream",
     "text": [
      "feature name: SEMIO_TRADV, unique values:\n"
     ]
    },
    {
     "data": {
      "text/plain": [
       "array([3, 6, 4, 2, 7, 5, 1])"
      ]
     },
     "metadata": {},
     "output_type": "display_data"
    },
    {
     "name": "stdout",
     "output_type": "stream",
     "text": [
      "feature name: SHOPPER_TYP, unique values:\n"
     ]
    },
    {
     "data": {
      "text/plain": [
       "array([-1,  3,  2,  1,  0])"
      ]
     },
     "metadata": {},
     "output_type": "display_data"
    },
    {
     "name": "stdout",
     "output_type": "stream",
     "text": [
      "feature name: SOHO_KZ, unique values:\n"
     ]
    },
    {
     "data": {
      "text/plain": [
       "array([ nan,   1.,   0.])"
      ]
     },
     "metadata": {},
     "output_type": "display_data"
    },
    {
     "name": "stdout",
     "output_type": "stream",
     "text": [
      "feature name: TITEL_KZ, unique values:\n"
     ]
    },
    {
     "data": {
      "text/plain": [
       "array([ nan,   0.,   4.,   1.,   3.,   5.,   2.])"
      ]
     },
     "metadata": {},
     "output_type": "display_data"
    },
    {
     "name": "stdout",
     "output_type": "stream",
     "text": [
      "feature name: VERS_TYP, unique values:\n"
     ]
    },
    {
     "data": {
      "text/plain": [
       "array([-1,  2,  1])"
      ]
     },
     "metadata": {},
     "output_type": "display_data"
    },
    {
     "name": "stdout",
     "output_type": "stream",
     "text": [
      "feature name: ZABEOTYP, unique values:\n"
     ]
    },
    {
     "data": {
      "text/plain": [
       "array([3, 5, 4, 1, 6, 2])"
      ]
     },
     "metadata": {},
     "output_type": "display_data"
    },
    {
     "name": "stdout",
     "output_type": "stream",
     "text": [
      "feature name: ALTER_HH, unique values:\n"
     ]
    },
    {
     "data": {
      "text/plain": [
       "array([ nan,   0.,  17.,  13.,  20.,  10.,  14.,  16.,  21.,  11.,  19.,\n",
       "        15.,   9.,  18.,   8.,   7.,  12.,   4.,   3.,   6.,   5.,   2.,\n",
       "         1.])"
      ]
     },
     "metadata": {},
     "output_type": "display_data"
    },
    {
     "name": "stdout",
     "output_type": "stream",
     "text": [
      "feature name: ANZ_PERSONEN, unique values:\n"
     ]
    },
    {
     "data": {
      "text/plain": [
       "array([ nan,   2.,   1.,   0.,   4.,   3.,   5.,   7.,   6.,   8.,  12.,\n",
       "         9.,  21.,  10.,  13.,  11.,  14.,  45.,  20.,  31.,  29.,  37.,\n",
       "        16.,  22.,  15.,  23.,  18.,  35.,  17.,  40.,  38.])"
      ]
     },
     "metadata": {},
     "output_type": "display_data"
    },
    {
     "name": "stdout",
     "output_type": "stream",
     "text": [
      "feature name: ANZ_TITEL, unique values:\n"
     ]
    },
    {
     "data": {
      "text/plain": [
       "array([ nan,   0.,   1.,   2.,   4.,   3.,   6.])"
      ]
     },
     "metadata": {},
     "output_type": "display_data"
    },
    {
     "name": "stdout",
     "output_type": "stream",
     "text": [
      "feature name: HH_EINKOMMEN_SCORE, unique values:\n"
     ]
    },
    {
     "data": {
      "text/plain": [
       "array([  2.,   6.,   4.,   1.,   5.,   3.,  nan])"
      ]
     },
     "metadata": {},
     "output_type": "display_data"
    },
    {
     "name": "stdout",
     "output_type": "stream",
     "text": [
      "feature name: KK_KUNDENTYP, unique values:\n"
     ]
    },
    {
     "data": {
      "text/plain": [
       "array([ nan,   1.,   3.,   6.,   4.,   2.,   5.])"
      ]
     },
     "metadata": {},
     "output_type": "display_data"
    },
    {
     "name": "stdout",
     "output_type": "stream",
     "text": [
      "feature name: W_KEIT_KIND_HH, unique values:\n"
     ]
    },
    {
     "data": {
      "text/plain": [
       "array([ nan,   3.,   2.,   6.,   5.,   4.,   0.,   1.])"
      ]
     },
     "metadata": {},
     "output_type": "display_data"
    },
    {
     "name": "stdout",
     "output_type": "stream",
     "text": [
      "feature name: WOHNDAUER_2008, unique values:\n"
     ]
    },
    {
     "data": {
      "text/plain": [
       "array([ nan,   9.,   8.,   3.,   4.,   5.,   6.,   2.,   7.,   1.])"
      ]
     },
     "metadata": {},
     "output_type": "display_data"
    },
    {
     "name": "stdout",
     "output_type": "stream",
     "text": [
      "feature name: ANZ_HAUSHALTE_AKTIV, unique values:\n"
     ]
    },
    {
     "data": {
      "text/plain": [
       "array([  nan,   11.,   10.,    1.,    3.,    5.,    4.,    6.,    2.,\n",
       "          9.,    0.,   14.,   13.,    8.,    7.,   44.,   25.,   36.,\n",
       "         16.,  272.,   33.,   15.,   12.,   22.,   21.,   20.,   67.,\n",
       "         23.,   18.,   27.,   24.,   31.,   39.,   19.,   30.,   17.,\n",
       "         29.,   61.,   54.,   88.,   49.,   60.,   38.,   34.,   48.,\n",
       "         35.,   62.,   26.,   45.,   42.,   28.,   77.,   47.,   50.,\n",
       "        236.,  137.,   43.,   52.,   41.,   76.,   63.,   32.,   40.,\n",
       "         37.,   59.,   53.,   57.,  118.,   66.,   95.,   78.,   70.,\n",
       "         46.,  185.,   73.,  154.,   80.,  102.,   92.,  126.,   94.,\n",
       "         71.,   68.,   81.,   69.,  121.,  258.,   58.,   86.,  124.,\n",
       "         85.,   90.,  128.,   51.,   72.,   64.,   56.,   83.,  150.,\n",
       "        259.,   91.,  160.,  134.,  169.,  246.,   82.,  114.,  183.,\n",
       "        116.,   74.,  143.,   99.,  216.,   98.,  125.,  112.,  123.,\n",
       "         55.,  120.,   75.,  141.,  103.,   87.,   89.,  223.,   93.,\n",
       "        179.,  135.,  149.,   97.,  101.,  110.,   79.,  111.,  109.,\n",
       "         65.,   84.,  367.,  162.,  195.,  107.,  119.,  331.,  122.,\n",
       "        161.,  157.,  175.,  177.,  136.,  104.,  316.,  127.,  100.,\n",
       "        180.,  155.,  133.,  178.,  176.,  108.,  353.,  131.,  130.,\n",
       "         96.,  256.,  117.,  146.,  211.,  199.,  140.,  200.,  106.,\n",
       "        285.,  263.,  314.,  253.,  163.,  377.,  171.,  148.,  191.,\n",
       "        243.,  153.,  145.,  174.,  172.,  190.,  142.,  317.,  244.,\n",
       "        189.,  286.,  105.,  170.,  215.,  321.,  113.,  115.,  156.,\n",
       "        129.,  242.,  132.,  280.,  159.,  138.,  158.,  267.,  151.,\n",
       "        164.,  187.,  206.,  266.,  265.,  209.,  196.,  139.,  193.,\n",
       "        184.,  210.,  260.,  366.,  194.,  318.,  344.,  277.,  595.,\n",
       "        197.,  247.,  165.,  283.,  326.,  181.,  186.,  438.,  222.,\n",
       "        144.,  378.,  237.,  152.,  208.,  274.,  430.,  202.,  214.,\n",
       "        231.,  219.,  225.,  230.,  198.,  224.,  333.,  168.,  221.,\n",
       "        523.,  254.,  305.,  166.,  252.,  445.,  147.,  301.,  213.,\n",
       "        536.,  220.,  249.,  290.,  515.,  276.,  241.,  204.,  250.,\n",
       "        218.,  226.,  201.,  240.,  404.,  348.,  328.,  228.,  304.,\n",
       "        167.,  346.,  205.,  207.,  293.,  255.,  307.,  414.,  311.,\n",
       "        347.,  379.,  395.,  229.,  232.])"
      ]
     },
     "metadata": {},
     "output_type": "display_data"
    },
    {
     "name": "stdout",
     "output_type": "stream",
     "text": [
      "feature name: ANZ_HH_TITEL, unique values:\n"
     ]
    },
    {
     "data": {
      "text/plain": [
       "array([ nan,   0.,   1.,   5.,   2.,   3.,   7.,   4.,   6.,   9.,  15.,\n",
       "        14.,   8.,  11.,  10.,  12.,  13.,  20.,  16.,  17.,  23.,  18.])"
      ]
     },
     "metadata": {},
     "output_type": "display_data"
    },
    {
     "name": "stdout",
     "output_type": "stream",
     "text": [
      "feature name: GEBAEUDETYP, unique values:\n"
     ]
    },
    {
     "data": {
      "text/plain": [
       "array([ nan,   8.,   1.,   3.,   2.,   6.,   4.,   5.])"
      ]
     },
     "metadata": {},
     "output_type": "display_data"
    },
    {
     "name": "stdout",
     "output_type": "stream",
     "text": [
      "feature name: KONSUMNAEHE, unique values:\n"
     ]
    },
    {
     "data": {
      "text/plain": [
       "array([ nan,   1.,   5.,   4.,   3.,   2.,   6.,   7.])"
      ]
     },
     "metadata": {},
     "output_type": "display_data"
    },
    {
     "name": "stdout",
     "output_type": "stream",
     "text": [
      "feature name: MIN_GEBAEUDEJAHR, unique values:\n"
     ]
    },
    {
     "data": {
      "text/plain": [
       "array([   nan,  1992.,  1997.,  2005.,  2009.,  1994.,  1996.,  2002.,\n",
       "        2015.,  1991.,  1993.,  1995.,  2003.,  2014.,  2008.,  2006.,\n",
       "        2000.,  1990.,  2004.,  1999.,  1998.,  2001.,  2007.,  2013.,\n",
       "        1989.,  2011.,  2012.,  2010.,  1987.,  1988.,  1985.,  2016.,\n",
       "        1986.])"
      ]
     },
     "metadata": {},
     "output_type": "display_data"
    },
    {
     "name": "stdout",
     "output_type": "stream",
     "text": [
      "feature name: OST_WEST_KZ, unique values:\n"
     ]
    },
    {
     "data": {
      "text/plain": [
       "array([nan, 'W', 'O'], dtype=object)"
      ]
     },
     "metadata": {},
     "output_type": "display_data"
    },
    {
     "name": "stdout",
     "output_type": "stream",
     "text": [
      "feature name: WOHNLAGE, unique values:\n"
     ]
    },
    {
     "data": {
      "text/plain": [
       "array([ nan,   4.,   2.,   7.,   3.,   5.,   1.,   8.,   0.])"
      ]
     },
     "metadata": {},
     "output_type": "display_data"
    },
    {
     "name": "stdout",
     "output_type": "stream",
     "text": [
      "feature name: CAMEO_DEUG_2015, unique values:\n"
     ]
    },
    {
     "data": {
      "text/plain": [
       "array([nan, '8', '4', '2', '6', '1', '9', '5', '7', '3', 'X'], dtype=object)"
      ]
     },
     "metadata": {},
     "output_type": "display_data"
    },
    {
     "name": "stdout",
     "output_type": "stream",
     "text": [
      "feature name: CAMEO_DEU_2015, unique values:\n"
     ]
    },
    {
     "data": {
      "text/plain": [
       "array([nan, '8A', '4C', '2A', '6B', '8C', '4A', '2D', '1A', '1E', '9D',\n",
       "       '5C', '8B', '7A', '5D', '9E', '9B', '1B', '3D', '4E', '4B', '3C',\n",
       "       '5A', '7B', '9A', '6D', '6E', '2C', '7C', '9C', '7D', '5E', '1D',\n",
       "       '8D', '6C', '6A', '5B', '4D', '3A', '2B', '7E', '3B', '6F', '5F',\n",
       "       '1C', 'XX'], dtype=object)"
      ]
     },
     "metadata": {},
     "output_type": "display_data"
    },
    {
     "name": "stdout",
     "output_type": "stream",
     "text": [
      "feature name: CAMEO_INTL_2015, unique values:\n"
     ]
    },
    {
     "data": {
      "text/plain": [
       "array([nan, '51', '24', '12', '43', '54', '22', '14', '13', '15', '33',\n",
       "       '41', '34', '55', '25', '23', '31', '52', '35', '45', '44', '32',\n",
       "       'XX'], dtype=object)"
      ]
     },
     "metadata": {},
     "output_type": "display_data"
    },
    {
     "name": "stdout",
     "output_type": "stream",
     "text": [
      "feature name: KBA05_ANTG1, unique values:\n"
     ]
    },
    {
     "data": {
      "text/plain": [
       "array([ nan,   0.,   1.,   4.,   2.,   3.])"
      ]
     },
     "metadata": {},
     "output_type": "display_data"
    },
    {
     "name": "stdout",
     "output_type": "stream",
     "text": [
      "feature name: KBA05_ANTG2, unique values:\n"
     ]
    },
    {
     "data": {
      "text/plain": [
       "array([ nan,   0.,   3.,   1.,   4.,   2.])"
      ]
     },
     "metadata": {},
     "output_type": "display_data"
    },
    {
     "name": "stdout",
     "output_type": "stream",
     "text": [
      "feature name: KBA05_ANTG3, unique values:\n"
     ]
    },
    {
     "data": {
      "text/plain": [
       "array([ nan,   0.,   1.,   2.,   3.])"
      ]
     },
     "metadata": {},
     "output_type": "display_data"
    },
    {
     "name": "stdout",
     "output_type": "stream",
     "text": [
      "feature name: KBA05_ANTG4, unique values:\n"
     ]
    },
    {
     "data": {
      "text/plain": [
       "array([ nan,   2.,   0.,   1.])"
      ]
     },
     "metadata": {},
     "output_type": "display_data"
    },
    {
     "name": "stdout",
     "output_type": "stream",
     "text": [
      "feature name: KBA05_BAUMAX, unique values:\n"
     ]
    },
    {
     "data": {
      "text/plain": [
       "array([ nan,   5.,   0.,   1.,   2.,   3.,   4.])"
      ]
     },
     "metadata": {},
     "output_type": "display_data"
    },
    {
     "name": "stdout",
     "output_type": "stream",
     "text": [
      "feature name: KBA05_GBZ, unique values:\n"
     ]
    },
    {
     "data": {
      "text/plain": [
       "array([ nan,   1.,   3.,   4.,   5.,   2.])"
      ]
     },
     "metadata": {},
     "output_type": "display_data"
    },
    {
     "name": "stdout",
     "output_type": "stream",
     "text": [
      "feature name: BALLRAUM, unique values:\n"
     ]
    },
    {
     "data": {
      "text/plain": [
       "array([ nan,   6.,   2.,   4.,   3.,   7.,   1.,   5.])"
      ]
     },
     "metadata": {},
     "output_type": "display_data"
    },
    {
     "name": "stdout",
     "output_type": "stream",
     "text": [
      "feature name: EWDICHTE, unique values:\n"
     ]
    },
    {
     "data": {
      "text/plain": [
       "array([ nan,   3.,   4.,   2.,   5.,   6.,   1.])"
      ]
     },
     "metadata": {},
     "output_type": "display_data"
    },
    {
     "name": "stdout",
     "output_type": "stream",
     "text": [
      "feature name: INNENSTADT, unique values:\n"
     ]
    },
    {
     "data": {
      "text/plain": [
       "array([ nan,   8.,   4.,   6.,   1.,   7.,   3.,   2.,   5.])"
      ]
     },
     "metadata": {},
     "output_type": "display_data"
    },
    {
     "name": "stdout",
     "output_type": "stream",
     "text": [
      "feature name: GEBAEUDETYP_RASTER, unique values:\n"
     ]
    },
    {
     "data": {
      "text/plain": [
       "array([ nan,   3.,   4.,   5.,   1.,   2.])"
      ]
     },
     "metadata": {},
     "output_type": "display_data"
    },
    {
     "name": "stdout",
     "output_type": "stream",
     "text": [
      "feature name: KKK, unique values:\n"
     ]
    },
    {
     "data": {
      "text/plain": [
       "array([ nan,   2.,   0.,   3.,   4.,   1.])"
      ]
     },
     "metadata": {},
     "output_type": "display_data"
    },
    {
     "name": "stdout",
     "output_type": "stream",
     "text": [
      "feature name: MOBI_REGIO, unique values:\n"
     ]
    },
    {
     "data": {
      "text/plain": [
       "array([ nan,   1.,   3.,   4.,   5.,   2.,   6.])"
      ]
     },
     "metadata": {},
     "output_type": "display_data"
    },
    {
     "name": "stdout",
     "output_type": "stream",
     "text": [
      "feature name: ONLINE_AFFINITAET, unique values:\n"
     ]
    },
    {
     "data": {
      "text/plain": [
       "array([  1.,   3.,   2.,   5.,   4.,   0.,  nan])"
      ]
     },
     "metadata": {},
     "output_type": "display_data"
    },
    {
     "name": "stdout",
     "output_type": "stream",
     "text": [
      "feature name: REGIOTYP, unique values:\n"
     ]
    },
    {
     "data": {
      "text/plain": [
       "array([ nan,   3.,   2.,   0.,   5.,   1.,   7.,   6.,   4.])"
      ]
     },
     "metadata": {},
     "output_type": "display_data"
    },
    {
     "name": "stdout",
     "output_type": "stream",
     "text": [
      "feature name: KBA13_ANZAHL_PKW, unique values:\n"
     ]
    },
    {
     "data": {
      "text/plain": [
       "array([  nan,  963.,  712., ...,    2.,   30.,    7.])"
      ]
     },
     "metadata": {},
     "output_type": "display_data"
    },
    {
     "name": "stdout",
     "output_type": "stream",
     "text": [
      "feature name: PLZ8_ANTG1, unique values:\n"
     ]
    },
    {
     "data": {
      "text/plain": [
       "array([ nan,   2.,   3.,   1.,   4.,   0.])"
      ]
     },
     "metadata": {},
     "output_type": "display_data"
    },
    {
     "name": "stdout",
     "output_type": "stream",
     "text": [
      "feature name: PLZ8_ANTG2, unique values:\n"
     ]
    },
    {
     "data": {
      "text/plain": [
       "array([ nan,   3.,   2.,   4.,   1.,   0.])"
      ]
     },
     "metadata": {},
     "output_type": "display_data"
    },
    {
     "name": "stdout",
     "output_type": "stream",
     "text": [
      "feature name: PLZ8_ANTG3, unique values:\n"
     ]
    },
    {
     "data": {
      "text/plain": [
       "array([ nan,   2.,   1.,   3.,   0.])"
      ]
     },
     "metadata": {},
     "output_type": "display_data"
    },
    {
     "name": "stdout",
     "output_type": "stream",
     "text": [
      "feature name: PLZ8_ANTG4, unique values:\n"
     ]
    },
    {
     "data": {
      "text/plain": [
       "array([ nan,   1.,   0.,   2.])"
      ]
     },
     "metadata": {},
     "output_type": "display_data"
    },
    {
     "name": "stdout",
     "output_type": "stream",
     "text": [
      "feature name: PLZ8_BAUMAX, unique values:\n"
     ]
    },
    {
     "data": {
      "text/plain": [
       "array([ nan,   1.,   2.,   4.,   5.,   3.])"
      ]
     },
     "metadata": {},
     "output_type": "display_data"
    },
    {
     "name": "stdout",
     "output_type": "stream",
     "text": [
      "feature name: PLZ8_HHZ, unique values:\n"
     ]
    },
    {
     "data": {
      "text/plain": [
       "array([ nan,   5.,   4.,   3.,   2.,   1.])"
      ]
     },
     "metadata": {},
     "output_type": "display_data"
    },
    {
     "name": "stdout",
     "output_type": "stream",
     "text": [
      "feature name: PLZ8_GBZ, unique values:\n"
     ]
    },
    {
     "data": {
      "text/plain": [
       "array([ nan,   4.,   3.,   5.,   2.,   1.])"
      ]
     },
     "metadata": {},
     "output_type": "display_data"
    },
    {
     "name": "stdout",
     "output_type": "stream",
     "text": [
      "feature name: ARBEIT, unique values:\n"
     ]
    },
    {
     "data": {
      "text/plain": [
       "array([ nan,   3.,   2.,   4.,   1.,   5.,   9.])"
      ]
     },
     "metadata": {},
     "output_type": "display_data"
    },
    {
     "name": "stdout",
     "output_type": "stream",
     "text": [
      "feature name: ORTSGR_KLS9, unique values:\n"
     ]
    },
    {
     "data": {
      "text/plain": [
       "array([ nan,   5.,   3.,   6.,   4.,   8.,   2.,   7.,   9.,   1.,   0.])"
      ]
     },
     "metadata": {},
     "output_type": "display_data"
    },
    {
     "name": "stdout",
     "output_type": "stream",
     "text": [
      "feature name: RELAT_AB, unique values:\n"
     ]
    },
    {
     "data": {
      "text/plain": [
       "array([ nan,   4.,   2.,   3.,   5.,   1.,   9.])"
      ]
     },
     "metadata": {},
     "output_type": "display_data"
    }
   ],
   "source": [
    "for col in azdias.columns:\n",
    "    print(\"feature name: {}, unique values:\".format(col)) \n",
    "    display(azdias[col].unique())"
   ]
  },
  {
   "cell_type": "code",
   "execution_count": 6,
   "metadata": {},
   "outputs": [
    {
     "data": {
      "text/plain": [
       "AGER_TYP                      0\n",
       "ALTERSKATEGORIE_GROB          0\n",
       "ANREDE_KZ                     0\n",
       "CJT_GESAMTTYP              4854\n",
       "FINANZ_MINIMALIST             0\n",
       "FINANZ_SPARER                 0\n",
       "FINANZ_VORSORGER              0\n",
       "FINANZ_ANLEGER                0\n",
       "FINANZ_UNAUFFAELLIGER         0\n",
       "FINANZ_HAUSBAUER              0\n",
       "FINANZTYP                     0\n",
       "GEBURTSJAHR                   0\n",
       "GFK_URLAUBERTYP            4854\n",
       "GREEN_AVANTGARDE              0\n",
       "HEALTH_TYP                    0\n",
       "LP_LEBENSPHASE_FEIN        4854\n",
       "LP_LEBENSPHASE_GROB        4854\n",
       "LP_FAMILIE_FEIN            4854\n",
       "LP_FAMILIE_GROB            4854\n",
       "LP_STATUS_FEIN             4854\n",
       "LP_STATUS_GROB             4854\n",
       "NATIONALITAET_KZ              0\n",
       "PRAEGENDE_JUGENDJAHRE         0\n",
       "RETOURTYP_BK_S             4854\n",
       "SEMIO_SOZ                     0\n",
       "SEMIO_FAM                     0\n",
       "SEMIO_REL                     0\n",
       "SEMIO_MAT                     0\n",
       "SEMIO_VERT                    0\n",
       "SEMIO_LUST                    0\n",
       "                          ...  \n",
       "OST_WEST_KZ               93148\n",
       "WOHNLAGE                  93148\n",
       "CAMEO_DEUG_2015           98979\n",
       "CAMEO_DEU_2015            98979\n",
       "CAMEO_INTL_2015           98979\n",
       "KBA05_ANTG1              133324\n",
       "KBA05_ANTG2              133324\n",
       "KBA05_ANTG3              133324\n",
       "KBA05_ANTG4              133324\n",
       "KBA05_BAUMAX             133324\n",
       "KBA05_GBZ                133324\n",
       "BALLRAUM                  93740\n",
       "EWDICHTE                  93740\n",
       "INNENSTADT                93740\n",
       "GEBAEUDETYP_RASTER        93155\n",
       "KKK                      121196\n",
       "MOBI_REGIO               133324\n",
       "ONLINE_AFFINITAET          4854\n",
       "REGIOTYP                 121196\n",
       "KBA13_ANZAHL_PKW         105800\n",
       "PLZ8_ANTG1               116515\n",
       "PLZ8_ANTG2               116515\n",
       "PLZ8_ANTG3               116515\n",
       "PLZ8_ANTG4               116515\n",
       "PLZ8_BAUMAX              116515\n",
       "PLZ8_HHZ                 116515\n",
       "PLZ8_GBZ                 116515\n",
       "ARBEIT                    97216\n",
       "ORTSGR_KLS9               97216\n",
       "RELAT_AB                  97216\n",
       "Length: 85, dtype: int64"
      ]
     },
     "metadata": {},
     "output_type": "display_data"
    }
   ],
   "source": [
    "missing_count = azdias.isna().sum()\n",
    "display(missing_count)"
   ]
  },
  {
   "cell_type": "code",
   "execution_count": 7,
   "metadata": {
    "scrolled": true
   },
   "outputs": [
    {
     "data": {
      "text/html": [
       "<div>\n",
       "<style scoped>\n",
       "    .dataframe tbody tr th:only-of-type {\n",
       "        vertical-align: middle;\n",
       "    }\n",
       "\n",
       "    .dataframe tbody tr th {\n",
       "        vertical-align: top;\n",
       "    }\n",
       "\n",
       "    .dataframe thead th {\n",
       "        text-align: right;\n",
       "    }\n",
       "</style>\n",
       "<table border=\"1\" class=\"dataframe\">\n",
       "  <thead>\n",
       "    <tr style=\"text-align: right;\">\n",
       "      <th></th>\n",
       "      <th>attribute</th>\n",
       "      <th>information_level</th>\n",
       "      <th>type</th>\n",
       "      <th>missing_or_unknown</th>\n",
       "    </tr>\n",
       "  </thead>\n",
       "  <tbody>\n",
       "    <tr>\n",
       "      <th>0</th>\n",
       "      <td>AGER_TYP</td>\n",
       "      <td>person</td>\n",
       "      <td>categorical</td>\n",
       "      <td>[-1,0]</td>\n",
       "    </tr>\n",
       "    <tr>\n",
       "      <th>1</th>\n",
       "      <td>ALTERSKATEGORIE_GROB</td>\n",
       "      <td>person</td>\n",
       "      <td>ordinal</td>\n",
       "      <td>[-1,0,9]</td>\n",
       "    </tr>\n",
       "    <tr>\n",
       "      <th>2</th>\n",
       "      <td>ANREDE_KZ</td>\n",
       "      <td>person</td>\n",
       "      <td>categorical</td>\n",
       "      <td>[-1,0]</td>\n",
       "    </tr>\n",
       "    <tr>\n",
       "      <th>3</th>\n",
       "      <td>CJT_GESAMTTYP</td>\n",
       "      <td>person</td>\n",
       "      <td>categorical</td>\n",
       "      <td>[0]</td>\n",
       "    </tr>\n",
       "    <tr>\n",
       "      <th>4</th>\n",
       "      <td>FINANZ_MINIMALIST</td>\n",
       "      <td>person</td>\n",
       "      <td>ordinal</td>\n",
       "      <td>[-1]</td>\n",
       "    </tr>\n",
       "    <tr>\n",
       "      <th>5</th>\n",
       "      <td>FINANZ_SPARER</td>\n",
       "      <td>person</td>\n",
       "      <td>ordinal</td>\n",
       "      <td>[-1]</td>\n",
       "    </tr>\n",
       "    <tr>\n",
       "      <th>6</th>\n",
       "      <td>FINANZ_VORSORGER</td>\n",
       "      <td>person</td>\n",
       "      <td>ordinal</td>\n",
       "      <td>[-1]</td>\n",
       "    </tr>\n",
       "    <tr>\n",
       "      <th>7</th>\n",
       "      <td>FINANZ_ANLEGER</td>\n",
       "      <td>person</td>\n",
       "      <td>ordinal</td>\n",
       "      <td>[-1]</td>\n",
       "    </tr>\n",
       "    <tr>\n",
       "      <th>8</th>\n",
       "      <td>FINANZ_UNAUFFAELLIGER</td>\n",
       "      <td>person</td>\n",
       "      <td>ordinal</td>\n",
       "      <td>[-1]</td>\n",
       "    </tr>\n",
       "    <tr>\n",
       "      <th>9</th>\n",
       "      <td>FINANZ_HAUSBAUER</td>\n",
       "      <td>person</td>\n",
       "      <td>ordinal</td>\n",
       "      <td>[-1]</td>\n",
       "    </tr>\n",
       "    <tr>\n",
       "      <th>10</th>\n",
       "      <td>FINANZTYP</td>\n",
       "      <td>person</td>\n",
       "      <td>categorical</td>\n",
       "      <td>[-1]</td>\n",
       "    </tr>\n",
       "    <tr>\n",
       "      <th>11</th>\n",
       "      <td>GEBURTSJAHR</td>\n",
       "      <td>person</td>\n",
       "      <td>numeric</td>\n",
       "      <td>[0]</td>\n",
       "    </tr>\n",
       "    <tr>\n",
       "      <th>12</th>\n",
       "      <td>GFK_URLAUBERTYP</td>\n",
       "      <td>person</td>\n",
       "      <td>categorical</td>\n",
       "      <td>[]</td>\n",
       "    </tr>\n",
       "    <tr>\n",
       "      <th>13</th>\n",
       "      <td>GREEN_AVANTGARDE</td>\n",
       "      <td>person</td>\n",
       "      <td>categorical</td>\n",
       "      <td>[]</td>\n",
       "    </tr>\n",
       "    <tr>\n",
       "      <th>14</th>\n",
       "      <td>HEALTH_TYP</td>\n",
       "      <td>person</td>\n",
       "      <td>ordinal</td>\n",
       "      <td>[-1,0]</td>\n",
       "    </tr>\n",
       "    <tr>\n",
       "      <th>15</th>\n",
       "      <td>LP_LEBENSPHASE_FEIN</td>\n",
       "      <td>person</td>\n",
       "      <td>mixed</td>\n",
       "      <td>[0]</td>\n",
       "    </tr>\n",
       "    <tr>\n",
       "      <th>16</th>\n",
       "      <td>LP_LEBENSPHASE_GROB</td>\n",
       "      <td>person</td>\n",
       "      <td>mixed</td>\n",
       "      <td>[0]</td>\n",
       "    </tr>\n",
       "    <tr>\n",
       "      <th>17</th>\n",
       "      <td>LP_FAMILIE_FEIN</td>\n",
       "      <td>person</td>\n",
       "      <td>categorical</td>\n",
       "      <td>[0]</td>\n",
       "    </tr>\n",
       "    <tr>\n",
       "      <th>18</th>\n",
       "      <td>LP_FAMILIE_GROB</td>\n",
       "      <td>person</td>\n",
       "      <td>categorical</td>\n",
       "      <td>[0]</td>\n",
       "    </tr>\n",
       "    <tr>\n",
       "      <th>19</th>\n",
       "      <td>LP_STATUS_FEIN</td>\n",
       "      <td>person</td>\n",
       "      <td>categorical</td>\n",
       "      <td>[0]</td>\n",
       "    </tr>\n",
       "    <tr>\n",
       "      <th>20</th>\n",
       "      <td>LP_STATUS_GROB</td>\n",
       "      <td>person</td>\n",
       "      <td>categorical</td>\n",
       "      <td>[0]</td>\n",
       "    </tr>\n",
       "    <tr>\n",
       "      <th>21</th>\n",
       "      <td>NATIONALITAET_KZ</td>\n",
       "      <td>person</td>\n",
       "      <td>categorical</td>\n",
       "      <td>[-1,0]</td>\n",
       "    </tr>\n",
       "    <tr>\n",
       "      <th>22</th>\n",
       "      <td>PRAEGENDE_JUGENDJAHRE</td>\n",
       "      <td>person</td>\n",
       "      <td>mixed</td>\n",
       "      <td>[-1,0]</td>\n",
       "    </tr>\n",
       "    <tr>\n",
       "      <th>23</th>\n",
       "      <td>RETOURTYP_BK_S</td>\n",
       "      <td>person</td>\n",
       "      <td>ordinal</td>\n",
       "      <td>[0]</td>\n",
       "    </tr>\n",
       "    <tr>\n",
       "      <th>24</th>\n",
       "      <td>SEMIO_SOZ</td>\n",
       "      <td>person</td>\n",
       "      <td>ordinal</td>\n",
       "      <td>[-1,9]</td>\n",
       "    </tr>\n",
       "    <tr>\n",
       "      <th>25</th>\n",
       "      <td>SEMIO_FAM</td>\n",
       "      <td>person</td>\n",
       "      <td>ordinal</td>\n",
       "      <td>[-1,9]</td>\n",
       "    </tr>\n",
       "    <tr>\n",
       "      <th>26</th>\n",
       "      <td>SEMIO_REL</td>\n",
       "      <td>person</td>\n",
       "      <td>ordinal</td>\n",
       "      <td>[-1,9]</td>\n",
       "    </tr>\n",
       "    <tr>\n",
       "      <th>27</th>\n",
       "      <td>SEMIO_MAT</td>\n",
       "      <td>person</td>\n",
       "      <td>ordinal</td>\n",
       "      <td>[-1,9]</td>\n",
       "    </tr>\n",
       "    <tr>\n",
       "      <th>28</th>\n",
       "      <td>SEMIO_VERT</td>\n",
       "      <td>person</td>\n",
       "      <td>ordinal</td>\n",
       "      <td>[-1,9]</td>\n",
       "    </tr>\n",
       "    <tr>\n",
       "      <th>29</th>\n",
       "      <td>SEMIO_LUST</td>\n",
       "      <td>person</td>\n",
       "      <td>ordinal</td>\n",
       "      <td>[-1,9]</td>\n",
       "    </tr>\n",
       "    <tr>\n",
       "      <th>...</th>\n",
       "      <td>...</td>\n",
       "      <td>...</td>\n",
       "      <td>...</td>\n",
       "      <td>...</td>\n",
       "    </tr>\n",
       "    <tr>\n",
       "      <th>55</th>\n",
       "      <td>OST_WEST_KZ</td>\n",
       "      <td>building</td>\n",
       "      <td>categorical</td>\n",
       "      <td>[-1]</td>\n",
       "    </tr>\n",
       "    <tr>\n",
       "      <th>56</th>\n",
       "      <td>WOHNLAGE</td>\n",
       "      <td>building</td>\n",
       "      <td>mixed</td>\n",
       "      <td>[-1]</td>\n",
       "    </tr>\n",
       "    <tr>\n",
       "      <th>57</th>\n",
       "      <td>CAMEO_DEUG_2015</td>\n",
       "      <td>microcell_rr4</td>\n",
       "      <td>categorical</td>\n",
       "      <td>[-1,X]</td>\n",
       "    </tr>\n",
       "    <tr>\n",
       "      <th>58</th>\n",
       "      <td>CAMEO_DEU_2015</td>\n",
       "      <td>microcell_rr4</td>\n",
       "      <td>categorical</td>\n",
       "      <td>[XX]</td>\n",
       "    </tr>\n",
       "    <tr>\n",
       "      <th>59</th>\n",
       "      <td>CAMEO_INTL_2015</td>\n",
       "      <td>microcell_rr4</td>\n",
       "      <td>mixed</td>\n",
       "      <td>[-1,XX]</td>\n",
       "    </tr>\n",
       "    <tr>\n",
       "      <th>60</th>\n",
       "      <td>KBA05_ANTG1</td>\n",
       "      <td>microcell_rr3</td>\n",
       "      <td>ordinal</td>\n",
       "      <td>[-1]</td>\n",
       "    </tr>\n",
       "    <tr>\n",
       "      <th>61</th>\n",
       "      <td>KBA05_ANTG2</td>\n",
       "      <td>microcell_rr3</td>\n",
       "      <td>ordinal</td>\n",
       "      <td>[-1]</td>\n",
       "    </tr>\n",
       "    <tr>\n",
       "      <th>62</th>\n",
       "      <td>KBA05_ANTG3</td>\n",
       "      <td>microcell_rr3</td>\n",
       "      <td>ordinal</td>\n",
       "      <td>[-1]</td>\n",
       "    </tr>\n",
       "    <tr>\n",
       "      <th>63</th>\n",
       "      <td>KBA05_ANTG4</td>\n",
       "      <td>microcell_rr3</td>\n",
       "      <td>ordinal</td>\n",
       "      <td>[-1]</td>\n",
       "    </tr>\n",
       "    <tr>\n",
       "      <th>64</th>\n",
       "      <td>KBA05_BAUMAX</td>\n",
       "      <td>microcell_rr3</td>\n",
       "      <td>mixed</td>\n",
       "      <td>[-1,0]</td>\n",
       "    </tr>\n",
       "    <tr>\n",
       "      <th>65</th>\n",
       "      <td>KBA05_GBZ</td>\n",
       "      <td>microcell_rr3</td>\n",
       "      <td>ordinal</td>\n",
       "      <td>[-1,0]</td>\n",
       "    </tr>\n",
       "    <tr>\n",
       "      <th>66</th>\n",
       "      <td>BALLRAUM</td>\n",
       "      <td>postcode</td>\n",
       "      <td>ordinal</td>\n",
       "      <td>[-1]</td>\n",
       "    </tr>\n",
       "    <tr>\n",
       "      <th>67</th>\n",
       "      <td>EWDICHTE</td>\n",
       "      <td>postcode</td>\n",
       "      <td>ordinal</td>\n",
       "      <td>[-1]</td>\n",
       "    </tr>\n",
       "    <tr>\n",
       "      <th>68</th>\n",
       "      <td>INNENSTADT</td>\n",
       "      <td>postcode</td>\n",
       "      <td>ordinal</td>\n",
       "      <td>[-1]</td>\n",
       "    </tr>\n",
       "    <tr>\n",
       "      <th>69</th>\n",
       "      <td>GEBAEUDETYP_RASTER</td>\n",
       "      <td>region_rr1</td>\n",
       "      <td>ordinal</td>\n",
       "      <td>[]</td>\n",
       "    </tr>\n",
       "    <tr>\n",
       "      <th>70</th>\n",
       "      <td>KKK</td>\n",
       "      <td>region_rr1</td>\n",
       "      <td>ordinal</td>\n",
       "      <td>[-1,0]</td>\n",
       "    </tr>\n",
       "    <tr>\n",
       "      <th>71</th>\n",
       "      <td>MOBI_REGIO</td>\n",
       "      <td>region_rr1</td>\n",
       "      <td>ordinal</td>\n",
       "      <td>[]</td>\n",
       "    </tr>\n",
       "    <tr>\n",
       "      <th>72</th>\n",
       "      <td>ONLINE_AFFINITAET</td>\n",
       "      <td>region_rr1</td>\n",
       "      <td>ordinal</td>\n",
       "      <td>[]</td>\n",
       "    </tr>\n",
       "    <tr>\n",
       "      <th>73</th>\n",
       "      <td>REGIOTYP</td>\n",
       "      <td>region_rr1</td>\n",
       "      <td>ordinal</td>\n",
       "      <td>[-1,0]</td>\n",
       "    </tr>\n",
       "    <tr>\n",
       "      <th>74</th>\n",
       "      <td>KBA13_ANZAHL_PKW</td>\n",
       "      <td>macrocell_plz8</td>\n",
       "      <td>numeric</td>\n",
       "      <td>[]</td>\n",
       "    </tr>\n",
       "    <tr>\n",
       "      <th>75</th>\n",
       "      <td>PLZ8_ANTG1</td>\n",
       "      <td>macrocell_plz8</td>\n",
       "      <td>ordinal</td>\n",
       "      <td>[-1]</td>\n",
       "    </tr>\n",
       "    <tr>\n",
       "      <th>76</th>\n",
       "      <td>PLZ8_ANTG2</td>\n",
       "      <td>macrocell_plz8</td>\n",
       "      <td>ordinal</td>\n",
       "      <td>[-1]</td>\n",
       "    </tr>\n",
       "    <tr>\n",
       "      <th>77</th>\n",
       "      <td>PLZ8_ANTG3</td>\n",
       "      <td>macrocell_plz8</td>\n",
       "      <td>ordinal</td>\n",
       "      <td>[-1]</td>\n",
       "    </tr>\n",
       "    <tr>\n",
       "      <th>78</th>\n",
       "      <td>PLZ8_ANTG4</td>\n",
       "      <td>macrocell_plz8</td>\n",
       "      <td>ordinal</td>\n",
       "      <td>[-1]</td>\n",
       "    </tr>\n",
       "    <tr>\n",
       "      <th>79</th>\n",
       "      <td>PLZ8_BAUMAX</td>\n",
       "      <td>macrocell_plz8</td>\n",
       "      <td>mixed</td>\n",
       "      <td>[-1,0]</td>\n",
       "    </tr>\n",
       "    <tr>\n",
       "      <th>80</th>\n",
       "      <td>PLZ8_HHZ</td>\n",
       "      <td>macrocell_plz8</td>\n",
       "      <td>ordinal</td>\n",
       "      <td>[-1]</td>\n",
       "    </tr>\n",
       "    <tr>\n",
       "      <th>81</th>\n",
       "      <td>PLZ8_GBZ</td>\n",
       "      <td>macrocell_plz8</td>\n",
       "      <td>ordinal</td>\n",
       "      <td>[-1]</td>\n",
       "    </tr>\n",
       "    <tr>\n",
       "      <th>82</th>\n",
       "      <td>ARBEIT</td>\n",
       "      <td>community</td>\n",
       "      <td>ordinal</td>\n",
       "      <td>[-1,9]</td>\n",
       "    </tr>\n",
       "    <tr>\n",
       "      <th>83</th>\n",
       "      <td>ORTSGR_KLS9</td>\n",
       "      <td>community</td>\n",
       "      <td>ordinal</td>\n",
       "      <td>[-1,0]</td>\n",
       "    </tr>\n",
       "    <tr>\n",
       "      <th>84</th>\n",
       "      <td>RELAT_AB</td>\n",
       "      <td>community</td>\n",
       "      <td>ordinal</td>\n",
       "      <td>[-1,9]</td>\n",
       "    </tr>\n",
       "  </tbody>\n",
       "</table>\n",
       "<p>85 rows × 4 columns</p>\n",
       "</div>"
      ],
      "text/plain": [
       "                attribute information_level         type missing_or_unknown\n",
       "0                AGER_TYP            person  categorical             [-1,0]\n",
       "1    ALTERSKATEGORIE_GROB            person      ordinal           [-1,0,9]\n",
       "2               ANREDE_KZ            person  categorical             [-1,0]\n",
       "3           CJT_GESAMTTYP            person  categorical                [0]\n",
       "4       FINANZ_MINIMALIST            person      ordinal               [-1]\n",
       "5           FINANZ_SPARER            person      ordinal               [-1]\n",
       "6        FINANZ_VORSORGER            person      ordinal               [-1]\n",
       "7          FINANZ_ANLEGER            person      ordinal               [-1]\n",
       "8   FINANZ_UNAUFFAELLIGER            person      ordinal               [-1]\n",
       "9        FINANZ_HAUSBAUER            person      ordinal               [-1]\n",
       "10              FINANZTYP            person  categorical               [-1]\n",
       "11            GEBURTSJAHR            person      numeric                [0]\n",
       "12        GFK_URLAUBERTYP            person  categorical                 []\n",
       "13       GREEN_AVANTGARDE            person  categorical                 []\n",
       "14             HEALTH_TYP            person      ordinal             [-1,0]\n",
       "15    LP_LEBENSPHASE_FEIN            person        mixed                [0]\n",
       "16    LP_LEBENSPHASE_GROB            person        mixed                [0]\n",
       "17        LP_FAMILIE_FEIN            person  categorical                [0]\n",
       "18        LP_FAMILIE_GROB            person  categorical                [0]\n",
       "19         LP_STATUS_FEIN            person  categorical                [0]\n",
       "20         LP_STATUS_GROB            person  categorical                [0]\n",
       "21       NATIONALITAET_KZ            person  categorical             [-1,0]\n",
       "22  PRAEGENDE_JUGENDJAHRE            person        mixed             [-1,0]\n",
       "23         RETOURTYP_BK_S            person      ordinal                [0]\n",
       "24              SEMIO_SOZ            person      ordinal             [-1,9]\n",
       "25              SEMIO_FAM            person      ordinal             [-1,9]\n",
       "26              SEMIO_REL            person      ordinal             [-1,9]\n",
       "27              SEMIO_MAT            person      ordinal             [-1,9]\n",
       "28             SEMIO_VERT            person      ordinal             [-1,9]\n",
       "29             SEMIO_LUST            person      ordinal             [-1,9]\n",
       "..                    ...               ...          ...                ...\n",
       "55            OST_WEST_KZ          building  categorical               [-1]\n",
       "56               WOHNLAGE          building        mixed               [-1]\n",
       "57        CAMEO_DEUG_2015     microcell_rr4  categorical             [-1,X]\n",
       "58         CAMEO_DEU_2015     microcell_rr4  categorical               [XX]\n",
       "59        CAMEO_INTL_2015     microcell_rr4        mixed            [-1,XX]\n",
       "60            KBA05_ANTG1     microcell_rr3      ordinal               [-1]\n",
       "61            KBA05_ANTG2     microcell_rr3      ordinal               [-1]\n",
       "62            KBA05_ANTG3     microcell_rr3      ordinal               [-1]\n",
       "63            KBA05_ANTG4     microcell_rr3      ordinal               [-1]\n",
       "64           KBA05_BAUMAX     microcell_rr3        mixed             [-1,0]\n",
       "65              KBA05_GBZ     microcell_rr3      ordinal             [-1,0]\n",
       "66               BALLRAUM          postcode      ordinal               [-1]\n",
       "67               EWDICHTE          postcode      ordinal               [-1]\n",
       "68             INNENSTADT          postcode      ordinal               [-1]\n",
       "69     GEBAEUDETYP_RASTER        region_rr1      ordinal                 []\n",
       "70                    KKK        region_rr1      ordinal             [-1,0]\n",
       "71             MOBI_REGIO        region_rr1      ordinal                 []\n",
       "72      ONLINE_AFFINITAET        region_rr1      ordinal                 []\n",
       "73               REGIOTYP        region_rr1      ordinal             [-1,0]\n",
       "74       KBA13_ANZAHL_PKW    macrocell_plz8      numeric                 []\n",
       "75             PLZ8_ANTG1    macrocell_plz8      ordinal               [-1]\n",
       "76             PLZ8_ANTG2    macrocell_plz8      ordinal               [-1]\n",
       "77             PLZ8_ANTG3    macrocell_plz8      ordinal               [-1]\n",
       "78             PLZ8_ANTG4    macrocell_plz8      ordinal               [-1]\n",
       "79            PLZ8_BAUMAX    macrocell_plz8        mixed             [-1,0]\n",
       "80               PLZ8_HHZ    macrocell_plz8      ordinal               [-1]\n",
       "81               PLZ8_GBZ    macrocell_plz8      ordinal               [-1]\n",
       "82                 ARBEIT         community      ordinal             [-1,9]\n",
       "83            ORTSGR_KLS9         community      ordinal             [-1,0]\n",
       "84               RELAT_AB         community      ordinal             [-1,9]\n",
       "\n",
       "[85 rows x 4 columns]"
      ]
     },
     "metadata": {},
     "output_type": "display_data"
    }
   ],
   "source": [
    "display(feat_info)\n"
   ]
  },
  {
   "cell_type": "markdown",
   "metadata": {},
   "source": [
    "> **Tip**: Add additional cells to keep everything in reasonably-sized chunks! Keyboard shortcut `esc --> a` (press escape to enter command mode, then press the 'A' key) adds a new cell before the active cell, and `esc --> b` adds a new cell after the active cell. If you need to convert an active cell to a markdown cell, use `esc --> m` and to convert to a code cell, use `esc --> y`. \n",
    "\n",
    "## Step 1: Preprocessing\n",
    "\n",
    "### Step 1.1: Assess Missing Data\n",
    "\n",
    "The feature summary file contains a summary of properties for each demographics data column. You will use this file to help you make cleaning decisions during this stage of the project. First of all, you should assess the demographics data in terms of missing data. Pay attention to the following points as you perform your analysis, and take notes on what you observe. Make sure that you fill in the **Discussion** cell with your findings and decisions at the end of each step that has one!\n",
    "\n",
    "#### Step 1.1.1: Convert Missing Value Codes to NaNs\n",
    "The fourth column of the feature attributes summary (loaded in above as `feat_info`) documents the codes from the data dictionary that indicate missing or unknown data. While the file encodes this as a list (e.g. `[-1,0]`), this will get read in as a string object. You'll need to do a little bit of parsing to make use of it to identify and clean the data. Convert data that matches a 'missing' or 'unknown' value code into a numpy NaN value. You might want to see how much data takes on a 'missing' or 'unknown' code, and how much data is naturally missing, as a point of interest.\n",
    "\n",
    "**As one more reminder, you are encouraged to add additional cells to break up your analysis into manageable chunks.**"
   ]
  },
  {
   "cell_type": "code",
   "execution_count": 8,
   "metadata": {},
   "outputs": [
    {
     "data": {
      "text/plain": [
       "array(['[-1,0]', '[-1,0,9]', '[-1,0]', '[0]', '[-1]'], dtype=object)"
      ]
     },
     "execution_count": 8,
     "metadata": {},
     "output_type": "execute_result"
    }
   ],
   "source": [
    "# Identify missing or unknown data values and convert them to NaNs.\n",
    "feat_info['missing_or_unknown'].head().values"
   ]
  },
  {
   "cell_type": "code",
   "execution_count": 9,
   "metadata": {
    "scrolled": true
   },
   "outputs": [],
   "source": [
    "#change the data type of 'missing_or_unknown' column from string to array so it can be easy to access and manipulate\n",
    "feat_info['missing_or_unknown'] = feat_info['missing_or_unknown'].str.strip('[]').str.split(',')"
   ]
  },
  {
   "cell_type": "code",
   "execution_count": 10,
   "metadata": {},
   "outputs": [
    {
     "data": {
      "text/plain": [
       "array([['-1', '0'], ['-1', '0', '9'], ['-1', '0'], ['0'], ['-1']], dtype=object)"
      ]
     },
     "execution_count": 10,
     "metadata": {},
     "output_type": "execute_result"
    }
   ],
   "source": [
    "feat_info['missing_or_unknown'].head().values"
   ]
  },
  {
   "cell_type": "code",
   "execution_count": 11,
   "metadata": {},
   "outputs": [
    {
     "data": {
      "text/plain": [
       "0        [-1, 0]\n",
       "1     [-1, 0, 9]\n",
       "2        [-1, 0]\n",
       "3            [0]\n",
       "4           [-1]\n",
       "5           [-1]\n",
       "6           [-1]\n",
       "7           [-1]\n",
       "8           [-1]\n",
       "9           [-1]\n",
       "10          [-1]\n",
       "11           [0]\n",
       "12            []\n",
       "13            []\n",
       "14       [-1, 0]\n",
       "15           [0]\n",
       "16           [0]\n",
       "17           [0]\n",
       "18           [0]\n",
       "19           [0]\n",
       "20           [0]\n",
       "21       [-1, 0]\n",
       "22       [-1, 0]\n",
       "23           [0]\n",
       "24       [-1, 9]\n",
       "25       [-1, 9]\n",
       "26       [-1, 9]\n",
       "27       [-1, 9]\n",
       "28       [-1, 9]\n",
       "29       [-1, 9]\n",
       "         ...    \n",
       "55          [-1]\n",
       "56          [-1]\n",
       "57       [-1, X]\n",
       "58          [XX]\n",
       "59      [-1, XX]\n",
       "60          [-1]\n",
       "61          [-1]\n",
       "62          [-1]\n",
       "63          [-1]\n",
       "64       [-1, 0]\n",
       "65       [-1, 0]\n",
       "66          [-1]\n",
       "67          [-1]\n",
       "68          [-1]\n",
       "69            []\n",
       "70       [-1, 0]\n",
       "71            []\n",
       "72            []\n",
       "73       [-1, 0]\n",
       "74            []\n",
       "75          [-1]\n",
       "76          [-1]\n",
       "77          [-1]\n",
       "78          [-1]\n",
       "79       [-1, 0]\n",
       "80          [-1]\n",
       "81          [-1]\n",
       "82       [-1, 9]\n",
       "83       [-1, 0]\n",
       "84       [-1, 9]\n",
       "Name: missing_or_unknown, Length: 85, dtype: object"
      ]
     },
     "execution_count": 11,
     "metadata": {},
     "output_type": "execute_result"
    }
   ],
   "source": [
    "feat_info['missing_or_unknown']"
   ]
  },
  {
   "cell_type": "code",
   "execution_count": 12,
   "metadata": {},
   "outputs": [
    {
     "data": {
      "text/plain": [
       "['-1', '0']"
      ]
     },
     "metadata": {},
     "output_type": "display_data"
    },
    {
     "data": {
      "text/plain": [
       "['-1', '0', '9']"
      ]
     },
     "metadata": {},
     "output_type": "display_data"
    },
    {
     "data": {
      "text/plain": [
       "['-1', '0']"
      ]
     },
     "metadata": {},
     "output_type": "display_data"
    },
    {
     "data": {
      "text/plain": [
       "['0']"
      ]
     },
     "metadata": {},
     "output_type": "display_data"
    },
    {
     "data": {
      "text/plain": [
       "['-1']"
      ]
     },
     "metadata": {},
     "output_type": "display_data"
    },
    {
     "data": {
      "text/plain": [
       "['-1']"
      ]
     },
     "metadata": {},
     "output_type": "display_data"
    },
    {
     "data": {
      "text/plain": [
       "['-1']"
      ]
     },
     "metadata": {},
     "output_type": "display_data"
    },
    {
     "data": {
      "text/plain": [
       "['-1']"
      ]
     },
     "metadata": {},
     "output_type": "display_data"
    },
    {
     "data": {
      "text/plain": [
       "['-1']"
      ]
     },
     "metadata": {},
     "output_type": "display_data"
    },
    {
     "data": {
      "text/plain": [
       "['-1']"
      ]
     },
     "metadata": {},
     "output_type": "display_data"
    },
    {
     "data": {
      "text/plain": [
       "['-1']"
      ]
     },
     "metadata": {},
     "output_type": "display_data"
    },
    {
     "data": {
      "text/plain": [
       "['0']"
      ]
     },
     "metadata": {},
     "output_type": "display_data"
    },
    {
     "data": {
      "text/plain": [
       "['']"
      ]
     },
     "metadata": {},
     "output_type": "display_data"
    },
    {
     "data": {
      "text/plain": [
       "['']"
      ]
     },
     "metadata": {},
     "output_type": "display_data"
    },
    {
     "data": {
      "text/plain": [
       "['-1', '0']"
      ]
     },
     "metadata": {},
     "output_type": "display_data"
    },
    {
     "data": {
      "text/plain": [
       "['0']"
      ]
     },
     "metadata": {},
     "output_type": "display_data"
    },
    {
     "data": {
      "text/plain": [
       "['0']"
      ]
     },
     "metadata": {},
     "output_type": "display_data"
    },
    {
     "data": {
      "text/plain": [
       "['0']"
      ]
     },
     "metadata": {},
     "output_type": "display_data"
    },
    {
     "data": {
      "text/plain": [
       "['0']"
      ]
     },
     "metadata": {},
     "output_type": "display_data"
    },
    {
     "data": {
      "text/plain": [
       "['0']"
      ]
     },
     "metadata": {},
     "output_type": "display_data"
    },
    {
     "data": {
      "text/plain": [
       "['0']"
      ]
     },
     "metadata": {},
     "output_type": "display_data"
    },
    {
     "data": {
      "text/plain": [
       "['-1', '0']"
      ]
     },
     "metadata": {},
     "output_type": "display_data"
    },
    {
     "data": {
      "text/plain": [
       "['-1', '0']"
      ]
     },
     "metadata": {},
     "output_type": "display_data"
    },
    {
     "data": {
      "text/plain": [
       "['0']"
      ]
     },
     "metadata": {},
     "output_type": "display_data"
    },
    {
     "data": {
      "text/plain": [
       "['-1', '9']"
      ]
     },
     "metadata": {},
     "output_type": "display_data"
    },
    {
     "data": {
      "text/plain": [
       "['-1', '9']"
      ]
     },
     "metadata": {},
     "output_type": "display_data"
    },
    {
     "data": {
      "text/plain": [
       "['-1', '9']"
      ]
     },
     "metadata": {},
     "output_type": "display_data"
    },
    {
     "data": {
      "text/plain": [
       "['-1', '9']"
      ]
     },
     "metadata": {},
     "output_type": "display_data"
    },
    {
     "data": {
      "text/plain": [
       "['-1', '9']"
      ]
     },
     "metadata": {},
     "output_type": "display_data"
    },
    {
     "data": {
      "text/plain": [
       "['-1', '9']"
      ]
     },
     "metadata": {},
     "output_type": "display_data"
    },
    {
     "data": {
      "text/plain": [
       "['-1', '9']"
      ]
     },
     "metadata": {},
     "output_type": "display_data"
    },
    {
     "data": {
      "text/plain": [
       "['-1', '9']"
      ]
     },
     "metadata": {},
     "output_type": "display_data"
    },
    {
     "data": {
      "text/plain": [
       "['-1', '9']"
      ]
     },
     "metadata": {},
     "output_type": "display_data"
    },
    {
     "data": {
      "text/plain": [
       "['-1', '9']"
      ]
     },
     "metadata": {},
     "output_type": "display_data"
    },
    {
     "data": {
      "text/plain": [
       "['-1', '9']"
      ]
     },
     "metadata": {},
     "output_type": "display_data"
    },
    {
     "data": {
      "text/plain": [
       "['-1', '9']"
      ]
     },
     "metadata": {},
     "output_type": "display_data"
    },
    {
     "data": {
      "text/plain": [
       "['-1', '9']"
      ]
     },
     "metadata": {},
     "output_type": "display_data"
    },
    {
     "data": {
      "text/plain": [
       "['-1', '9']"
      ]
     },
     "metadata": {},
     "output_type": "display_data"
    },
    {
     "data": {
      "text/plain": [
       "['-1']"
      ]
     },
     "metadata": {},
     "output_type": "display_data"
    },
    {
     "data": {
      "text/plain": [
       "['-1']"
      ]
     },
     "metadata": {},
     "output_type": "display_data"
    },
    {
     "data": {
      "text/plain": [
       "['-1', '0']"
      ]
     },
     "metadata": {},
     "output_type": "display_data"
    },
    {
     "data": {
      "text/plain": [
       "['-1']"
      ]
     },
     "metadata": {},
     "output_type": "display_data"
    },
    {
     "data": {
      "text/plain": [
       "['-1', '9']"
      ]
     },
     "metadata": {},
     "output_type": "display_data"
    },
    {
     "data": {
      "text/plain": [
       "['0']"
      ]
     },
     "metadata": {},
     "output_type": "display_data"
    },
    {
     "data": {
      "text/plain": [
       "['']"
      ]
     },
     "metadata": {},
     "output_type": "display_data"
    },
    {
     "data": {
      "text/plain": [
       "['']"
      ]
     },
     "metadata": {},
     "output_type": "display_data"
    },
    {
     "data": {
      "text/plain": [
       "['-1', '0']"
      ]
     },
     "metadata": {},
     "output_type": "display_data"
    },
    {
     "data": {
      "text/plain": [
       "['-1']"
      ]
     },
     "metadata": {},
     "output_type": "display_data"
    },
    {
     "data": {
      "text/plain": [
       "['-1', '0']"
      ]
     },
     "metadata": {},
     "output_type": "display_data"
    },
    {
     "data": {
      "text/plain": [
       "['-1', '0']"
      ]
     },
     "metadata": {},
     "output_type": "display_data"
    },
    {
     "data": {
      "text/plain": [
       "['0']"
      ]
     },
     "metadata": {},
     "output_type": "display_data"
    },
    {
     "data": {
      "text/plain": [
       "['']"
      ]
     },
     "metadata": {},
     "output_type": "display_data"
    },
    {
     "data": {
      "text/plain": [
       "['-1', '0']"
      ]
     },
     "metadata": {},
     "output_type": "display_data"
    },
    {
     "data": {
      "text/plain": [
       "['']"
      ]
     },
     "metadata": {},
     "output_type": "display_data"
    },
    {
     "data": {
      "text/plain": [
       "['0']"
      ]
     },
     "metadata": {},
     "output_type": "display_data"
    },
    {
     "data": {
      "text/plain": [
       "['-1']"
      ]
     },
     "metadata": {},
     "output_type": "display_data"
    },
    {
     "data": {
      "text/plain": [
       "['-1']"
      ]
     },
     "metadata": {},
     "output_type": "display_data"
    },
    {
     "data": {
      "text/plain": [
       "['-1', 'X']"
      ]
     },
     "metadata": {},
     "output_type": "display_data"
    },
    {
     "data": {
      "text/plain": [
       "['XX']"
      ]
     },
     "metadata": {},
     "output_type": "display_data"
    },
    {
     "data": {
      "text/plain": [
       "['-1', 'XX']"
      ]
     },
     "metadata": {},
     "output_type": "display_data"
    },
    {
     "data": {
      "text/plain": [
       "['-1']"
      ]
     },
     "metadata": {},
     "output_type": "display_data"
    },
    {
     "data": {
      "text/plain": [
       "['-1']"
      ]
     },
     "metadata": {},
     "output_type": "display_data"
    },
    {
     "data": {
      "text/plain": [
       "['-1']"
      ]
     },
     "metadata": {},
     "output_type": "display_data"
    },
    {
     "data": {
      "text/plain": [
       "['-1']"
      ]
     },
     "metadata": {},
     "output_type": "display_data"
    },
    {
     "data": {
      "text/plain": [
       "['-1', '0']"
      ]
     },
     "metadata": {},
     "output_type": "display_data"
    },
    {
     "data": {
      "text/plain": [
       "['-1', '0']"
      ]
     },
     "metadata": {},
     "output_type": "display_data"
    },
    {
     "data": {
      "text/plain": [
       "['-1']"
      ]
     },
     "metadata": {},
     "output_type": "display_data"
    },
    {
     "data": {
      "text/plain": [
       "['-1']"
      ]
     },
     "metadata": {},
     "output_type": "display_data"
    },
    {
     "data": {
      "text/plain": [
       "['-1']"
      ]
     },
     "metadata": {},
     "output_type": "display_data"
    },
    {
     "data": {
      "text/plain": [
       "['']"
      ]
     },
     "metadata": {},
     "output_type": "display_data"
    },
    {
     "data": {
      "text/plain": [
       "['-1', '0']"
      ]
     },
     "metadata": {},
     "output_type": "display_data"
    },
    {
     "data": {
      "text/plain": [
       "['']"
      ]
     },
     "metadata": {},
     "output_type": "display_data"
    },
    {
     "data": {
      "text/plain": [
       "['']"
      ]
     },
     "metadata": {},
     "output_type": "display_data"
    },
    {
     "data": {
      "text/plain": [
       "['-1', '0']"
      ]
     },
     "metadata": {},
     "output_type": "display_data"
    },
    {
     "data": {
      "text/plain": [
       "['']"
      ]
     },
     "metadata": {},
     "output_type": "display_data"
    },
    {
     "data": {
      "text/plain": [
       "['-1']"
      ]
     },
     "metadata": {},
     "output_type": "display_data"
    },
    {
     "data": {
      "text/plain": [
       "['-1']"
      ]
     },
     "metadata": {},
     "output_type": "display_data"
    },
    {
     "data": {
      "text/plain": [
       "['-1']"
      ]
     },
     "metadata": {},
     "output_type": "display_data"
    },
    {
     "data": {
      "text/plain": [
       "['-1']"
      ]
     },
     "metadata": {},
     "output_type": "display_data"
    },
    {
     "data": {
      "text/plain": [
       "['-1', '0']"
      ]
     },
     "metadata": {},
     "output_type": "display_data"
    },
    {
     "data": {
      "text/plain": [
       "['-1']"
      ]
     },
     "metadata": {},
     "output_type": "display_data"
    },
    {
     "data": {
      "text/plain": [
       "['-1']"
      ]
     },
     "metadata": {},
     "output_type": "display_data"
    },
    {
     "data": {
      "text/plain": [
       "['-1', '9']"
      ]
     },
     "metadata": {},
     "output_type": "display_data"
    },
    {
     "data": {
      "text/plain": [
       "['-1', '0']"
      ]
     },
     "metadata": {},
     "output_type": "display_data"
    },
    {
     "data": {
      "text/plain": [
       "['-1', '9']"
      ]
     },
     "metadata": {},
     "output_type": "display_data"
    }
   ],
   "source": [
    "for col in azdias.columns:\n",
    "    missing_or_unknown_values = feat_info[feat_info['attribute'] == col]['missing_or_unknown'].values[0]\n",
    "    display(missing_or_unknown_values)\n",
    "    if (not (len(missing_or_unknown_values) == 1 and missing_or_unknown_values[0] =='')):\n",
    "        for missing_value in missing_or_unknown_values:\n",
    "            if missing_value !='XX' and missing_value !='X':\n",
    "                missing_value = int(missing_value)\n",
    "            azdias[col] = azdias[col].map(lambda x: np.nan if x == missing_value else x)"
   ]
  },
  {
   "cell_type": "code",
   "execution_count": 13,
   "metadata": {},
   "outputs": [
    {
     "name": "stdout",
     "output_type": "stream",
     "text": [
      "feature name: AGER_TYP, unique values:\n"
     ]
    },
    {
     "data": {
      "text/plain": [
       "['-1', '0']"
      ]
     },
     "metadata": {},
     "output_type": "display_data"
    },
    {
     "data": {
      "text/plain": [
       "array([ nan,   2.,   3.,   1.])"
      ]
     },
     "metadata": {},
     "output_type": "display_data"
    },
    {
     "name": "stdout",
     "output_type": "stream",
     "text": [
      "feature name: ALTERSKATEGORIE_GROB, unique values:\n"
     ]
    },
    {
     "data": {
      "text/plain": [
       "['-1', '0', '9']"
      ]
     },
     "metadata": {},
     "output_type": "display_data"
    },
    {
     "data": {
      "text/plain": [
       "array([  2.,   1.,   3.,   4.,  nan])"
      ]
     },
     "metadata": {},
     "output_type": "display_data"
    },
    {
     "name": "stdout",
     "output_type": "stream",
     "text": [
      "feature name: ANREDE_KZ, unique values:\n"
     ]
    },
    {
     "data": {
      "text/plain": [
       "['-1', '0']"
      ]
     },
     "metadata": {},
     "output_type": "display_data"
    },
    {
     "data": {
      "text/plain": [
       "array([1, 2])"
      ]
     },
     "metadata": {},
     "output_type": "display_data"
    },
    {
     "name": "stdout",
     "output_type": "stream",
     "text": [
      "feature name: CJT_GESAMTTYP, unique values:\n"
     ]
    },
    {
     "data": {
      "text/plain": [
       "['0']"
      ]
     },
     "metadata": {},
     "output_type": "display_data"
    },
    {
     "data": {
      "text/plain": [
       "array([  2.,   5.,   3.,   4.,   1.,   6.,  nan])"
      ]
     },
     "metadata": {},
     "output_type": "display_data"
    },
    {
     "name": "stdout",
     "output_type": "stream",
     "text": [
      "feature name: FINANZ_MINIMALIST, unique values:\n"
     ]
    },
    {
     "data": {
      "text/plain": [
       "['-1']"
      ]
     },
     "metadata": {},
     "output_type": "display_data"
    },
    {
     "data": {
      "text/plain": [
       "array([3, 1, 4, 2, 5])"
      ]
     },
     "metadata": {},
     "output_type": "display_data"
    },
    {
     "name": "stdout",
     "output_type": "stream",
     "text": [
      "feature name: FINANZ_SPARER, unique values:\n"
     ]
    },
    {
     "data": {
      "text/plain": [
       "['-1']"
      ]
     },
     "metadata": {},
     "output_type": "display_data"
    },
    {
     "data": {
      "text/plain": [
       "array([4, 5, 2, 3, 1])"
      ]
     },
     "metadata": {},
     "output_type": "display_data"
    },
    {
     "name": "stdout",
     "output_type": "stream",
     "text": [
      "feature name: FINANZ_VORSORGER, unique values:\n"
     ]
    },
    {
     "data": {
      "text/plain": [
       "['-1']"
      ]
     },
     "metadata": {},
     "output_type": "display_data"
    },
    {
     "data": {
      "text/plain": [
       "array([3, 2, 1, 5, 4])"
      ]
     },
     "metadata": {},
     "output_type": "display_data"
    },
    {
     "name": "stdout",
     "output_type": "stream",
     "text": [
      "feature name: FINANZ_ANLEGER, unique values:\n"
     ]
    },
    {
     "data": {
      "text/plain": [
       "['-1']"
      ]
     },
     "metadata": {},
     "output_type": "display_data"
    },
    {
     "data": {
      "text/plain": [
       "array([5, 2, 1, 4, 3])"
      ]
     },
     "metadata": {},
     "output_type": "display_data"
    },
    {
     "name": "stdout",
     "output_type": "stream",
     "text": [
      "feature name: FINANZ_UNAUFFAELLIGER, unique values:\n"
     ]
    },
    {
     "data": {
      "text/plain": [
       "['-1']"
      ]
     },
     "metadata": {},
     "output_type": "display_data"
    },
    {
     "data": {
      "text/plain": [
       "array([5, 4, 3, 1, 2])"
      ]
     },
     "metadata": {},
     "output_type": "display_data"
    },
    {
     "name": "stdout",
     "output_type": "stream",
     "text": [
      "feature name: FINANZ_HAUSBAUER, unique values:\n"
     ]
    },
    {
     "data": {
      "text/plain": [
       "['-1']"
      ]
     },
     "metadata": {},
     "output_type": "display_data"
    },
    {
     "data": {
      "text/plain": [
       "array([3, 5, 2, 4, 1])"
      ]
     },
     "metadata": {},
     "output_type": "display_data"
    },
    {
     "name": "stdout",
     "output_type": "stream",
     "text": [
      "feature name: FINANZTYP, unique values:\n"
     ]
    },
    {
     "data": {
      "text/plain": [
       "['-1']"
      ]
     },
     "metadata": {},
     "output_type": "display_data"
    },
    {
     "data": {
      "text/plain": [
       "array([4, 1, 6, 5, 2, 3])"
      ]
     },
     "metadata": {},
     "output_type": "display_data"
    },
    {
     "name": "stdout",
     "output_type": "stream",
     "text": [
      "feature name: GEBURTSJAHR, unique values:\n"
     ]
    },
    {
     "data": {
      "text/plain": [
       "['0']"
      ]
     },
     "metadata": {},
     "output_type": "display_data"
    },
    {
     "data": {
      "text/plain": [
       "array([   nan,  1996.,  1979.,  1957.,  1963.,  1943.,  1964.,  1974.,\n",
       "        1975.,  1941.,  1993.,  1946.,  1988.,  1991.,  1966.,  1949.,\n",
       "        1982.,  1972.,  1990.,  1985.,  1989.,  1948.,  1935.,  1997.,\n",
       "        1994.,  1987.,  2002.,  1950.,  1965.,  1969.,  1978.,  1958.,\n",
       "        1944.,  1967.,  1977.,  1960.,  1970.,  1973.,  1971.,  1937.,\n",
       "        1947.,  1926.,  1954.,  1981.,  1962.,  1992.,  2008.,  1976.,\n",
       "        1928.,  1927.,  1968.,  1940.,  1952.,  1961.,  2006.,  1938.,\n",
       "        1945.,  1942.,  1984.,  1930.,  1980.,  1959.,  1986.,  1931.,\n",
       "        1955.,  1983.,  2010.,  1951.,  1921.,  1929.,  1939.,  2001.,\n",
       "        1995.,  1956.,  1953.,  2012.,  1934.,  1913.,  1914.,  1922.,\n",
       "        2004.,  1936.,  2009.,  1915.,  2003.,  2013.,  1998.,  2007.,\n",
       "        1932.,  2005.,  1923.,  1925.,  2015.,  1933.,  2017.,  2000.,\n",
       "        1999.,  2014.,  1920.,  1918.,  1924.,  2016.,  2011.,  1908.,\n",
       "        1919.,  1916.,  1917.,  1912.,  1911.,  1909.,  1910.,  1904.,\n",
       "        1906.,  1905.,  1900.,  1907.,  1902.])"
      ]
     },
     "metadata": {},
     "output_type": "display_data"
    },
    {
     "name": "stdout",
     "output_type": "stream",
     "text": [
      "feature name: GFK_URLAUBERTYP, unique values:\n"
     ]
    },
    {
     "data": {
      "text/plain": [
       "['']"
      ]
     },
     "metadata": {},
     "output_type": "display_data"
    },
    {
     "data": {
      "text/plain": [
       "array([ 10.,   1.,   5.,  12.,   9.,   3.,   8.,  11.,   4.,   2.,   7.,\n",
       "         6.,  nan])"
      ]
     },
     "metadata": {},
     "output_type": "display_data"
    },
    {
     "name": "stdout",
     "output_type": "stream",
     "text": [
      "feature name: GREEN_AVANTGARDE, unique values:\n"
     ]
    },
    {
     "data": {
      "text/plain": [
       "['']"
      ]
     },
     "metadata": {},
     "output_type": "display_data"
    },
    {
     "data": {
      "text/plain": [
       "array([0, 1])"
      ]
     },
     "metadata": {},
     "output_type": "display_data"
    },
    {
     "name": "stdout",
     "output_type": "stream",
     "text": [
      "feature name: HEALTH_TYP, unique values:\n"
     ]
    },
    {
     "data": {
      "text/plain": [
       "['-1', '0']"
      ]
     },
     "metadata": {},
     "output_type": "display_data"
    },
    {
     "data": {
      "text/plain": [
       "array([ nan,   3.,   2.,   1.])"
      ]
     },
     "metadata": {},
     "output_type": "display_data"
    },
    {
     "name": "stdout",
     "output_type": "stream",
     "text": [
      "feature name: LP_LEBENSPHASE_FEIN, unique values:\n"
     ]
    },
    {
     "data": {
      "text/plain": [
       "['0']"
      ]
     },
     "metadata": {},
     "output_type": "display_data"
    },
    {
     "data": {
      "text/plain": [
       "array([ 15.,  21.,   3.,  nan,  32.,   8.,   2.,   5.,  10.,   4.,   6.,\n",
       "        23.,  12.,  20.,   1.,  11.,  25.,  13.,   7.,  18.,  31.,  19.,\n",
       "        38.,  35.,  30.,  22.,  14.,  33.,  29.,  24.,  28.,  37.,  26.,\n",
       "        39.,  27.,  36.,   9.,  34.,  40.,  16.,  17.])"
      ]
     },
     "metadata": {},
     "output_type": "display_data"
    },
    {
     "name": "stdout",
     "output_type": "stream",
     "text": [
      "feature name: LP_LEBENSPHASE_GROB, unique values:\n"
     ]
    },
    {
     "data": {
      "text/plain": [
       "['0']"
      ]
     },
     "metadata": {},
     "output_type": "display_data"
    },
    {
     "data": {
      "text/plain": [
       "array([  4.,   6.,   1.,  nan,  10.,   2.,   3.,   5.,   7.,  12.,  11.,\n",
       "         9.,   8.])"
      ]
     },
     "metadata": {},
     "output_type": "display_data"
    },
    {
     "name": "stdout",
     "output_type": "stream",
     "text": [
      "feature name: LP_FAMILIE_FEIN, unique values:\n"
     ]
    },
    {
     "data": {
      "text/plain": [
       "['0']"
      ]
     },
     "metadata": {},
     "output_type": "display_data"
    },
    {
     "data": {
      "text/plain": [
       "array([  2.,   5.,   1.,  nan,  10.,   7.,  11.,   3.,   8.,   4.,   6.,\n",
       "         9.])"
      ]
     },
     "metadata": {},
     "output_type": "display_data"
    },
    {
     "name": "stdout",
     "output_type": "stream",
     "text": [
      "feature name: LP_FAMILIE_GROB, unique values:\n"
     ]
    },
    {
     "data": {
      "text/plain": [
       "['0']"
      ]
     },
     "metadata": {},
     "output_type": "display_data"
    },
    {
     "data": {
      "text/plain": [
       "array([  2.,   3.,   1.,  nan,   5.,   4.])"
      ]
     },
     "metadata": {},
     "output_type": "display_data"
    },
    {
     "name": "stdout",
     "output_type": "stream",
     "text": [
      "feature name: LP_STATUS_FEIN, unique values:\n"
     ]
    },
    {
     "data": {
      "text/plain": [
       "['0']"
      ]
     },
     "metadata": {},
     "output_type": "display_data"
    },
    {
     "data": {
      "text/plain": [
       "array([  1.,   2.,   3.,   9.,   4.,  10.,   5.,   8.,   6.,   7.,  nan])"
      ]
     },
     "metadata": {},
     "output_type": "display_data"
    },
    {
     "name": "stdout",
     "output_type": "stream",
     "text": [
      "feature name: LP_STATUS_GROB, unique values:\n"
     ]
    },
    {
     "data": {
      "text/plain": [
       "['0']"
      ]
     },
     "metadata": {},
     "output_type": "display_data"
    },
    {
     "data": {
      "text/plain": [
       "array([  1.,   2.,   4.,   5.,   3.,  nan])"
      ]
     },
     "metadata": {},
     "output_type": "display_data"
    },
    {
     "name": "stdout",
     "output_type": "stream",
     "text": [
      "feature name: NATIONALITAET_KZ, unique values:\n"
     ]
    },
    {
     "data": {
      "text/plain": [
       "['-1', '0']"
      ]
     },
     "metadata": {},
     "output_type": "display_data"
    },
    {
     "data": {
      "text/plain": [
       "array([ nan,   1.,   3.,   2.])"
      ]
     },
     "metadata": {},
     "output_type": "display_data"
    },
    {
     "name": "stdout",
     "output_type": "stream",
     "text": [
      "feature name: PRAEGENDE_JUGENDJAHRE, unique values:\n"
     ]
    },
    {
     "data": {
      "text/plain": [
       "['-1', '0']"
      ]
     },
     "metadata": {},
     "output_type": "display_data"
    },
    {
     "data": {
      "text/plain": [
       "array([ nan,  14.,  15.,   8.,   3.,  10.,  11.,   5.,   9.,   6.,   4.,\n",
       "         2.,   1.,  12.,  13.,   7.])"
      ]
     },
     "metadata": {},
     "output_type": "display_data"
    },
    {
     "name": "stdout",
     "output_type": "stream",
     "text": [
      "feature name: RETOURTYP_BK_S, unique values:\n"
     ]
    },
    {
     "data": {
      "text/plain": [
       "['0']"
      ]
     },
     "metadata": {},
     "output_type": "display_data"
    },
    {
     "data": {
      "text/plain": [
       "array([  5.,   1.,   3.,   2.,   4.,  nan])"
      ]
     },
     "metadata": {},
     "output_type": "display_data"
    },
    {
     "name": "stdout",
     "output_type": "stream",
     "text": [
      "feature name: SEMIO_SOZ, unique values:\n"
     ]
    },
    {
     "data": {
      "text/plain": [
       "['-1', '9']"
      ]
     },
     "metadata": {},
     "output_type": "display_data"
    },
    {
     "data": {
      "text/plain": [
       "array([2, 5, 4, 6, 7, 3, 1])"
      ]
     },
     "metadata": {},
     "output_type": "display_data"
    },
    {
     "name": "stdout",
     "output_type": "stream",
     "text": [
      "feature name: SEMIO_FAM, unique values:\n"
     ]
    },
    {
     "data": {
      "text/plain": [
       "['-1', '9']"
      ]
     },
     "metadata": {},
     "output_type": "display_data"
    },
    {
     "data": {
      "text/plain": [
       "array([6, 4, 1, 5, 7, 2, 3])"
      ]
     },
     "metadata": {},
     "output_type": "display_data"
    },
    {
     "name": "stdout",
     "output_type": "stream",
     "text": [
      "feature name: SEMIO_REL, unique values:\n"
     ]
    },
    {
     "data": {
      "text/plain": [
       "['-1', '9']"
      ]
     },
     "metadata": {},
     "output_type": "display_data"
    },
    {
     "data": {
      "text/plain": [
       "array([7, 4, 3, 2, 5, 1, 6])"
      ]
     },
     "metadata": {},
     "output_type": "display_data"
    },
    {
     "name": "stdout",
     "output_type": "stream",
     "text": [
      "feature name: SEMIO_MAT, unique values:\n"
     ]
    },
    {
     "data": {
      "text/plain": [
       "['-1', '9']"
      ]
     },
     "metadata": {},
     "output_type": "display_data"
    },
    {
     "data": {
      "text/plain": [
       "array([5, 3, 1, 2, 4, 7, 6])"
      ]
     },
     "metadata": {},
     "output_type": "display_data"
    },
    {
     "name": "stdout",
     "output_type": "stream",
     "text": [
      "feature name: SEMIO_VERT, unique values:\n"
     ]
    },
    {
     "data": {
      "text/plain": [
       "['-1', '9']"
      ]
     },
     "metadata": {},
     "output_type": "display_data"
    },
    {
     "data": {
      "text/plain": [
       "array([1, 4, 7, 2, 6, 5, 3])"
      ]
     },
     "metadata": {},
     "output_type": "display_data"
    },
    {
     "name": "stdout",
     "output_type": "stream",
     "text": [
      "feature name: SEMIO_LUST, unique values:\n"
     ]
    },
    {
     "data": {
      "text/plain": [
       "['-1', '9']"
      ]
     },
     "metadata": {},
     "output_type": "display_data"
    },
    {
     "data": {
      "text/plain": [
       "array([5, 2, 4, 6, 7, 3, 1])"
      ]
     },
     "metadata": {},
     "output_type": "display_data"
    },
    {
     "name": "stdout",
     "output_type": "stream",
     "text": [
      "feature name: SEMIO_ERL, unique values:\n"
     ]
    },
    {
     "data": {
      "text/plain": [
       "['-1', '9']"
      ]
     },
     "metadata": {},
     "output_type": "display_data"
    },
    {
     "data": {
      "text/plain": [
       "array([3, 2, 6, 7, 4, 5, 1])"
      ]
     },
     "metadata": {},
     "output_type": "display_data"
    },
    {
     "name": "stdout",
     "output_type": "stream",
     "text": [
      "feature name: SEMIO_KULT, unique values:\n"
     ]
    },
    {
     "data": {
      "text/plain": [
       "['-1', '9']"
      ]
     },
     "metadata": {},
     "output_type": "display_data"
    },
    {
     "data": {
      "text/plain": [
       "array([3, 4, 6, 5, 7, 1, 2])"
      ]
     },
     "metadata": {},
     "output_type": "display_data"
    },
    {
     "name": "stdout",
     "output_type": "stream",
     "text": [
      "feature name: SEMIO_RAT, unique values:\n"
     ]
    },
    {
     "data": {
      "text/plain": [
       "['-1', '9']"
      ]
     },
     "metadata": {},
     "output_type": "display_data"
    },
    {
     "data": {
      "text/plain": [
       "array([4, 6, 3, 2, 7, 5, 1])"
      ]
     },
     "metadata": {},
     "output_type": "display_data"
    },
    {
     "name": "stdout",
     "output_type": "stream",
     "text": [
      "feature name: SEMIO_KRIT, unique values:\n"
     ]
    },
    {
     "data": {
      "text/plain": [
       "['-1', '9']"
      ]
     },
     "metadata": {},
     "output_type": "display_data"
    },
    {
     "data": {
      "text/plain": [
       "array([7, 4, 3, 1, 5, 6, 2])"
      ]
     },
     "metadata": {},
     "output_type": "display_data"
    },
    {
     "name": "stdout",
     "output_type": "stream",
     "text": [
      "feature name: SEMIO_DOM, unique values:\n"
     ]
    },
    {
     "data": {
      "text/plain": [
       "['-1', '9']"
      ]
     },
     "metadata": {},
     "output_type": "display_data"
    },
    {
     "data": {
      "text/plain": [
       "array([6, 7, 4, 2, 1, 5, 3])"
      ]
     },
     "metadata": {},
     "output_type": "display_data"
    },
    {
     "name": "stdout",
     "output_type": "stream",
     "text": [
      "feature name: SEMIO_KAEM, unique values:\n"
     ]
    },
    {
     "data": {
      "text/plain": [
       "['-1', '9']"
      ]
     },
     "metadata": {},
     "output_type": "display_data"
    },
    {
     "data": {
      "text/plain": [
       "array([6, 4, 7, 5, 2, 3, 1])"
      ]
     },
     "metadata": {},
     "output_type": "display_data"
    },
    {
     "name": "stdout",
     "output_type": "stream",
     "text": [
      "feature name: SEMIO_PFLICHT, unique values:\n"
     ]
    },
    {
     "data": {
      "text/plain": [
       "['-1', '9']"
      ]
     },
     "metadata": {},
     "output_type": "display_data"
    },
    {
     "data": {
      "text/plain": [
       "array([5, 7, 3, 4, 1, 6, 2])"
      ]
     },
     "metadata": {},
     "output_type": "display_data"
    },
    {
     "name": "stdout",
     "output_type": "stream",
     "text": [
      "feature name: SEMIO_TRADV, unique values:\n"
     ]
    },
    {
     "data": {
      "text/plain": [
       "['-1', '9']"
      ]
     },
     "metadata": {},
     "output_type": "display_data"
    },
    {
     "data": {
      "text/plain": [
       "array([3, 6, 4, 2, 7, 5, 1])"
      ]
     },
     "metadata": {},
     "output_type": "display_data"
    },
    {
     "name": "stdout",
     "output_type": "stream",
     "text": [
      "feature name: SHOPPER_TYP, unique values:\n"
     ]
    },
    {
     "data": {
      "text/plain": [
       "['-1']"
      ]
     },
     "metadata": {},
     "output_type": "display_data"
    },
    {
     "data": {
      "text/plain": [
       "array([ nan,   3.,   2.,   1.,   0.])"
      ]
     },
     "metadata": {},
     "output_type": "display_data"
    },
    {
     "name": "stdout",
     "output_type": "stream",
     "text": [
      "feature name: SOHO_KZ, unique values:\n"
     ]
    },
    {
     "data": {
      "text/plain": [
       "['-1']"
      ]
     },
     "metadata": {},
     "output_type": "display_data"
    },
    {
     "data": {
      "text/plain": [
       "array([ nan,   1.,   0.])"
      ]
     },
     "metadata": {},
     "output_type": "display_data"
    },
    {
     "name": "stdout",
     "output_type": "stream",
     "text": [
      "feature name: TITEL_KZ, unique values:\n"
     ]
    },
    {
     "data": {
      "text/plain": [
       "['-1', '0']"
      ]
     },
     "metadata": {},
     "output_type": "display_data"
    },
    {
     "data": {
      "text/plain": [
       "array([ nan,   4.,   1.,   3.,   5.,   2.])"
      ]
     },
     "metadata": {},
     "output_type": "display_data"
    },
    {
     "name": "stdout",
     "output_type": "stream",
     "text": [
      "feature name: VERS_TYP, unique values:\n"
     ]
    },
    {
     "data": {
      "text/plain": [
       "['-1']"
      ]
     },
     "metadata": {},
     "output_type": "display_data"
    },
    {
     "data": {
      "text/plain": [
       "array([ nan,   2.,   1.])"
      ]
     },
     "metadata": {},
     "output_type": "display_data"
    },
    {
     "name": "stdout",
     "output_type": "stream",
     "text": [
      "feature name: ZABEOTYP, unique values:\n"
     ]
    },
    {
     "data": {
      "text/plain": [
       "['-1', '9']"
      ]
     },
     "metadata": {},
     "output_type": "display_data"
    },
    {
     "data": {
      "text/plain": [
       "array([3, 5, 4, 1, 6, 2])"
      ]
     },
     "metadata": {},
     "output_type": "display_data"
    },
    {
     "name": "stdout",
     "output_type": "stream",
     "text": [
      "feature name: ALTER_HH, unique values:\n"
     ]
    },
    {
     "data": {
      "text/plain": [
       "['0']"
      ]
     },
     "metadata": {},
     "output_type": "display_data"
    },
    {
     "data": {
      "text/plain": [
       "array([ nan,  17.,  13.,  20.,  10.,  14.,  16.,  21.,  11.,  19.,  15.,\n",
       "         9.,  18.,   8.,   7.,  12.,   4.,   3.,   6.,   5.,   2.,   1.])"
      ]
     },
     "metadata": {},
     "output_type": "display_data"
    },
    {
     "name": "stdout",
     "output_type": "stream",
     "text": [
      "feature name: ANZ_PERSONEN, unique values:\n"
     ]
    },
    {
     "data": {
      "text/plain": [
       "['']"
      ]
     },
     "metadata": {},
     "output_type": "display_data"
    },
    {
     "data": {
      "text/plain": [
       "array([ nan,   2.,   1.,   0.,   4.,   3.,   5.,   7.,   6.,   8.,  12.,\n",
       "         9.,  21.,  10.,  13.,  11.,  14.,  45.,  20.,  31.,  29.,  37.,\n",
       "        16.,  22.,  15.,  23.,  18.,  35.,  17.,  40.,  38.])"
      ]
     },
     "metadata": {},
     "output_type": "display_data"
    },
    {
     "name": "stdout",
     "output_type": "stream",
     "text": [
      "feature name: ANZ_TITEL, unique values:\n"
     ]
    },
    {
     "data": {
      "text/plain": [
       "['']"
      ]
     },
     "metadata": {},
     "output_type": "display_data"
    },
    {
     "data": {
      "text/plain": [
       "array([ nan,   0.,   1.,   2.,   4.,   3.,   6.])"
      ]
     },
     "metadata": {},
     "output_type": "display_data"
    },
    {
     "name": "stdout",
     "output_type": "stream",
     "text": [
      "feature name: HH_EINKOMMEN_SCORE, unique values:\n"
     ]
    },
    {
     "data": {
      "text/plain": [
       "['-1', '0']"
      ]
     },
     "metadata": {},
     "output_type": "display_data"
    },
    {
     "data": {
      "text/plain": [
       "array([  2.,   6.,   4.,   1.,   5.,   3.,  nan])"
      ]
     },
     "metadata": {},
     "output_type": "display_data"
    },
    {
     "name": "stdout",
     "output_type": "stream",
     "text": [
      "feature name: KK_KUNDENTYP, unique values:\n"
     ]
    },
    {
     "data": {
      "text/plain": [
       "['-1']"
      ]
     },
     "metadata": {},
     "output_type": "display_data"
    },
    {
     "data": {
      "text/plain": [
       "array([ nan,   1.,   3.,   6.,   4.,   2.,   5.])"
      ]
     },
     "metadata": {},
     "output_type": "display_data"
    },
    {
     "name": "stdout",
     "output_type": "stream",
     "text": [
      "feature name: W_KEIT_KIND_HH, unique values:\n"
     ]
    },
    {
     "data": {
      "text/plain": [
       "['-1', '0']"
      ]
     },
     "metadata": {},
     "output_type": "display_data"
    },
    {
     "data": {
      "text/plain": [
       "array([ nan,   3.,   2.,   6.,   5.,   4.,   1.])"
      ]
     },
     "metadata": {},
     "output_type": "display_data"
    },
    {
     "name": "stdout",
     "output_type": "stream",
     "text": [
      "feature name: WOHNDAUER_2008, unique values:\n"
     ]
    },
    {
     "data": {
      "text/plain": [
       "['-1', '0']"
      ]
     },
     "metadata": {},
     "output_type": "display_data"
    },
    {
     "data": {
      "text/plain": [
       "array([ nan,   9.,   8.,   3.,   4.,   5.,   6.,   2.,   7.,   1.])"
      ]
     },
     "metadata": {},
     "output_type": "display_data"
    },
    {
     "name": "stdout",
     "output_type": "stream",
     "text": [
      "feature name: ANZ_HAUSHALTE_AKTIV, unique values:\n"
     ]
    },
    {
     "data": {
      "text/plain": [
       "['0']"
      ]
     },
     "metadata": {},
     "output_type": "display_data"
    },
    {
     "data": {
      "text/plain": [
       "array([  nan,   11.,   10.,    1.,    3.,    5.,    4.,    6.,    2.,\n",
       "          9.,   14.,   13.,    8.,    7.,   44.,   25.,   36.,   16.,\n",
       "        272.,   33.,   15.,   12.,   22.,   21.,   20.,   67.,   23.,\n",
       "         18.,   27.,   24.,   31.,   39.,   19.,   30.,   17.,   29.,\n",
       "         61.,   54.,   88.,   49.,   60.,   38.,   34.,   48.,   35.,\n",
       "         62.,   26.,   45.,   42.,   28.,   77.,   47.,   50.,  236.,\n",
       "        137.,   43.,   52.,   41.,   76.,   63.,   32.,   40.,   37.,\n",
       "         59.,   53.,   57.,  118.,   66.,   95.,   78.,   70.,   46.,\n",
       "        185.,   73.,  154.,   80.,  102.,   92.,  126.,   94.,   71.,\n",
       "         68.,   81.,   69.,  121.,  258.,   58.,   86.,  124.,   85.,\n",
       "         90.,  128.,   51.,   72.,   64.,   56.,   83.,  150.,  259.,\n",
       "         91.,  160.,  134.,  169.,  246.,   82.,  114.,  183.,  116.,\n",
       "         74.,  143.,   99.,  216.,   98.,  125.,  112.,  123.,   55.,\n",
       "        120.,   75.,  141.,  103.,   87.,   89.,  223.,   93.,  179.,\n",
       "        135.,  149.,   97.,  101.,  110.,   79.,  111.,  109.,   65.,\n",
       "         84.,  367.,  162.,  195.,  107.,  119.,  331.,  122.,  161.,\n",
       "        157.,  175.,  177.,  136.,  104.,  316.,  127.,  100.,  180.,\n",
       "        155.,  133.,  178.,  176.,  108.,  353.,  131.,  130.,   96.,\n",
       "        256.,  117.,  146.,  211.,  199.,  140.,  200.,  106.,  285.,\n",
       "        263.,  314.,  253.,  163.,  377.,  171.,  148.,  191.,  243.,\n",
       "        153.,  145.,  174.,  172.,  190.,  142.,  317.,  244.,  189.,\n",
       "        286.,  105.,  170.,  215.,  321.,  113.,  115.,  156.,  129.,\n",
       "        242.,  132.,  280.,  159.,  138.,  158.,  267.,  151.,  164.,\n",
       "        187.,  206.,  266.,  265.,  209.,  196.,  139.,  193.,  184.,\n",
       "        210.,  260.,  366.,  194.,  318.,  344.,  277.,  595.,  197.,\n",
       "        247.,  165.,  283.,  326.,  181.,  186.,  438.,  222.,  144.,\n",
       "        378.,  237.,  152.,  208.,  274.,  430.,  202.,  214.,  231.,\n",
       "        219.,  225.,  230.,  198.,  224.,  333.,  168.,  221.,  523.,\n",
       "        254.,  305.,  166.,  252.,  445.,  147.,  301.,  213.,  536.,\n",
       "        220.,  249.,  290.,  515.,  276.,  241.,  204.,  250.,  218.,\n",
       "        226.,  201.,  240.,  404.,  348.,  328.,  228.,  304.,  167.,\n",
       "        346.,  205.,  207.,  293.,  255.,  307.,  414.,  311.,  347.,\n",
       "        379.,  395.,  229.,  232.])"
      ]
     },
     "metadata": {},
     "output_type": "display_data"
    },
    {
     "name": "stdout",
     "output_type": "stream",
     "text": [
      "feature name: ANZ_HH_TITEL, unique values:\n"
     ]
    },
    {
     "data": {
      "text/plain": [
       "['']"
      ]
     },
     "metadata": {},
     "output_type": "display_data"
    },
    {
     "data": {
      "text/plain": [
       "array([ nan,   0.,   1.,   5.,   2.,   3.,   7.,   4.,   6.,   9.,  15.,\n",
       "        14.,   8.,  11.,  10.,  12.,  13.,  20.,  16.,  17.,  23.,  18.])"
      ]
     },
     "metadata": {},
     "output_type": "display_data"
    },
    {
     "name": "stdout",
     "output_type": "stream",
     "text": [
      "feature name: GEBAEUDETYP, unique values:\n"
     ]
    },
    {
     "data": {
      "text/plain": [
       "['-1', '0']"
      ]
     },
     "metadata": {},
     "output_type": "display_data"
    },
    {
     "data": {
      "text/plain": [
       "array([ nan,   8.,   1.,   3.,   2.,   6.,   4.,   5.])"
      ]
     },
     "metadata": {},
     "output_type": "display_data"
    },
    {
     "name": "stdout",
     "output_type": "stream",
     "text": [
      "feature name: KONSUMNAEHE, unique values:\n"
     ]
    },
    {
     "data": {
      "text/plain": [
       "['']"
      ]
     },
     "metadata": {},
     "output_type": "display_data"
    },
    {
     "data": {
      "text/plain": [
       "array([ nan,   1.,   5.,   4.,   3.,   2.,   6.,   7.])"
      ]
     },
     "metadata": {},
     "output_type": "display_data"
    },
    {
     "name": "stdout",
     "output_type": "stream",
     "text": [
      "feature name: MIN_GEBAEUDEJAHR, unique values:\n"
     ]
    },
    {
     "data": {
      "text/plain": [
       "['0']"
      ]
     },
     "metadata": {},
     "output_type": "display_data"
    },
    {
     "data": {
      "text/plain": [
       "array([   nan,  1992.,  1997.,  2005.,  2009.,  1994.,  1996.,  2002.,\n",
       "        2015.,  1991.,  1993.,  1995.,  2003.,  2014.,  2008.,  2006.,\n",
       "        2000.,  1990.,  2004.,  1999.,  1998.,  2001.,  2007.,  2013.,\n",
       "        1989.,  2011.,  2012.,  2010.,  1987.,  1988.,  1985.,  2016.,\n",
       "        1986.])"
      ]
     },
     "metadata": {},
     "output_type": "display_data"
    },
    {
     "name": "stdout",
     "output_type": "stream",
     "text": [
      "feature name: OST_WEST_KZ, unique values:\n"
     ]
    },
    {
     "data": {
      "text/plain": [
       "['-1']"
      ]
     },
     "metadata": {},
     "output_type": "display_data"
    },
    {
     "data": {
      "text/plain": [
       "array([nan, 'W', 'O'], dtype=object)"
      ]
     },
     "metadata": {},
     "output_type": "display_data"
    },
    {
     "name": "stdout",
     "output_type": "stream",
     "text": [
      "feature name: WOHNLAGE, unique values:\n"
     ]
    },
    {
     "data": {
      "text/plain": [
       "['-1']"
      ]
     },
     "metadata": {},
     "output_type": "display_data"
    },
    {
     "data": {
      "text/plain": [
       "array([ nan,   4.,   2.,   7.,   3.,   5.,   1.,   8.,   0.])"
      ]
     },
     "metadata": {},
     "output_type": "display_data"
    },
    {
     "name": "stdout",
     "output_type": "stream",
     "text": [
      "feature name: CAMEO_DEUG_2015, unique values:\n"
     ]
    },
    {
     "data": {
      "text/plain": [
       "['-1', 'X']"
      ]
     },
     "metadata": {},
     "output_type": "display_data"
    },
    {
     "data": {
      "text/plain": [
       "array([nan, '8', '4', '2', '6', '1', '9', '5', '7', '3'], dtype=object)"
      ]
     },
     "metadata": {},
     "output_type": "display_data"
    },
    {
     "name": "stdout",
     "output_type": "stream",
     "text": [
      "feature name: CAMEO_DEU_2015, unique values:\n"
     ]
    },
    {
     "data": {
      "text/plain": [
       "['XX']"
      ]
     },
     "metadata": {},
     "output_type": "display_data"
    },
    {
     "data": {
      "text/plain": [
       "array([nan, '8A', '4C', '2A', '6B', '8C', '4A', '2D', '1A', '1E', '9D',\n",
       "       '5C', '8B', '7A', '5D', '9E', '9B', '1B', '3D', '4E', '4B', '3C',\n",
       "       '5A', '7B', '9A', '6D', '6E', '2C', '7C', '9C', '7D', '5E', '1D',\n",
       "       '8D', '6C', '6A', '5B', '4D', '3A', '2B', '7E', '3B', '6F', '5F',\n",
       "       '1C'], dtype=object)"
      ]
     },
     "metadata": {},
     "output_type": "display_data"
    },
    {
     "name": "stdout",
     "output_type": "stream",
     "text": [
      "feature name: CAMEO_INTL_2015, unique values:\n"
     ]
    },
    {
     "data": {
      "text/plain": [
       "['-1', 'XX']"
      ]
     },
     "metadata": {},
     "output_type": "display_data"
    },
    {
     "data": {
      "text/plain": [
       "array([nan, '51', '24', '12', '43', '54', '22', '14', '13', '15', '33',\n",
       "       '41', '34', '55', '25', '23', '31', '52', '35', '45', '44', '32'], dtype=object)"
      ]
     },
     "metadata": {},
     "output_type": "display_data"
    },
    {
     "name": "stdout",
     "output_type": "stream",
     "text": [
      "feature name: KBA05_ANTG1, unique values:\n"
     ]
    },
    {
     "data": {
      "text/plain": [
       "['-1']"
      ]
     },
     "metadata": {},
     "output_type": "display_data"
    },
    {
     "data": {
      "text/plain": [
       "array([ nan,   0.,   1.,   4.,   2.,   3.])"
      ]
     },
     "metadata": {},
     "output_type": "display_data"
    },
    {
     "name": "stdout",
     "output_type": "stream",
     "text": [
      "feature name: KBA05_ANTG2, unique values:\n"
     ]
    },
    {
     "data": {
      "text/plain": [
       "['-1']"
      ]
     },
     "metadata": {},
     "output_type": "display_data"
    },
    {
     "data": {
      "text/plain": [
       "array([ nan,   0.,   3.,   1.,   4.,   2.])"
      ]
     },
     "metadata": {},
     "output_type": "display_data"
    },
    {
     "name": "stdout",
     "output_type": "stream",
     "text": [
      "feature name: KBA05_ANTG3, unique values:\n"
     ]
    },
    {
     "data": {
      "text/plain": [
       "['-1']"
      ]
     },
     "metadata": {},
     "output_type": "display_data"
    },
    {
     "data": {
      "text/plain": [
       "array([ nan,   0.,   1.,   2.,   3.])"
      ]
     },
     "metadata": {},
     "output_type": "display_data"
    },
    {
     "name": "stdout",
     "output_type": "stream",
     "text": [
      "feature name: KBA05_ANTG4, unique values:\n"
     ]
    },
    {
     "data": {
      "text/plain": [
       "['-1']"
      ]
     },
     "metadata": {},
     "output_type": "display_data"
    },
    {
     "data": {
      "text/plain": [
       "array([ nan,   2.,   0.,   1.])"
      ]
     },
     "metadata": {},
     "output_type": "display_data"
    },
    {
     "name": "stdout",
     "output_type": "stream",
     "text": [
      "feature name: KBA05_BAUMAX, unique values:\n"
     ]
    },
    {
     "data": {
      "text/plain": [
       "['-1', '0']"
      ]
     },
     "metadata": {},
     "output_type": "display_data"
    },
    {
     "data": {
      "text/plain": [
       "array([ nan,   5.,   1.,   2.,   3.,   4.])"
      ]
     },
     "metadata": {},
     "output_type": "display_data"
    },
    {
     "name": "stdout",
     "output_type": "stream",
     "text": [
      "feature name: KBA05_GBZ, unique values:\n"
     ]
    },
    {
     "data": {
      "text/plain": [
       "['-1', '0']"
      ]
     },
     "metadata": {},
     "output_type": "display_data"
    },
    {
     "data": {
      "text/plain": [
       "array([ nan,   1.,   3.,   4.,   5.,   2.])"
      ]
     },
     "metadata": {},
     "output_type": "display_data"
    },
    {
     "name": "stdout",
     "output_type": "stream",
     "text": [
      "feature name: BALLRAUM, unique values:\n"
     ]
    },
    {
     "data": {
      "text/plain": [
       "['-1']"
      ]
     },
     "metadata": {},
     "output_type": "display_data"
    },
    {
     "data": {
      "text/plain": [
       "array([ nan,   6.,   2.,   4.,   3.,   7.,   1.,   5.])"
      ]
     },
     "metadata": {},
     "output_type": "display_data"
    },
    {
     "name": "stdout",
     "output_type": "stream",
     "text": [
      "feature name: EWDICHTE, unique values:\n"
     ]
    },
    {
     "data": {
      "text/plain": [
       "['-1']"
      ]
     },
     "metadata": {},
     "output_type": "display_data"
    },
    {
     "data": {
      "text/plain": [
       "array([ nan,   3.,   4.,   2.,   5.,   6.,   1.])"
      ]
     },
     "metadata": {},
     "output_type": "display_data"
    },
    {
     "name": "stdout",
     "output_type": "stream",
     "text": [
      "feature name: INNENSTADT, unique values:\n"
     ]
    },
    {
     "data": {
      "text/plain": [
       "['-1']"
      ]
     },
     "metadata": {},
     "output_type": "display_data"
    },
    {
     "data": {
      "text/plain": [
       "array([ nan,   8.,   4.,   6.,   1.,   7.,   3.,   2.,   5.])"
      ]
     },
     "metadata": {},
     "output_type": "display_data"
    },
    {
     "name": "stdout",
     "output_type": "stream",
     "text": [
      "feature name: GEBAEUDETYP_RASTER, unique values:\n"
     ]
    },
    {
     "data": {
      "text/plain": [
       "['']"
      ]
     },
     "metadata": {},
     "output_type": "display_data"
    },
    {
     "data": {
      "text/plain": [
       "array([ nan,   3.,   4.,   5.,   1.,   2.])"
      ]
     },
     "metadata": {},
     "output_type": "display_data"
    },
    {
     "name": "stdout",
     "output_type": "stream",
     "text": [
      "feature name: KKK, unique values:\n"
     ]
    },
    {
     "data": {
      "text/plain": [
       "['-1', '0']"
      ]
     },
     "metadata": {},
     "output_type": "display_data"
    },
    {
     "data": {
      "text/plain": [
       "array([ nan,   2.,   3.,   4.,   1.])"
      ]
     },
     "metadata": {},
     "output_type": "display_data"
    },
    {
     "name": "stdout",
     "output_type": "stream",
     "text": [
      "feature name: MOBI_REGIO, unique values:\n"
     ]
    },
    {
     "data": {
      "text/plain": [
       "['']"
      ]
     },
     "metadata": {},
     "output_type": "display_data"
    },
    {
     "data": {
      "text/plain": [
       "array([ nan,   1.,   3.,   4.,   5.,   2.,   6.])"
      ]
     },
     "metadata": {},
     "output_type": "display_data"
    },
    {
     "name": "stdout",
     "output_type": "stream",
     "text": [
      "feature name: ONLINE_AFFINITAET, unique values:\n"
     ]
    },
    {
     "data": {
      "text/plain": [
       "['']"
      ]
     },
     "metadata": {},
     "output_type": "display_data"
    },
    {
     "data": {
      "text/plain": [
       "array([  1.,   3.,   2.,   5.,   4.,   0.,  nan])"
      ]
     },
     "metadata": {},
     "output_type": "display_data"
    },
    {
     "name": "stdout",
     "output_type": "stream",
     "text": [
      "feature name: REGIOTYP, unique values:\n"
     ]
    },
    {
     "data": {
      "text/plain": [
       "['-1', '0']"
      ]
     },
     "metadata": {},
     "output_type": "display_data"
    },
    {
     "data": {
      "text/plain": [
       "array([ nan,   3.,   2.,   5.,   1.,   7.,   6.,   4.])"
      ]
     },
     "metadata": {},
     "output_type": "display_data"
    },
    {
     "name": "stdout",
     "output_type": "stream",
     "text": [
      "feature name: KBA13_ANZAHL_PKW, unique values:\n"
     ]
    },
    {
     "data": {
      "text/plain": [
       "['']"
      ]
     },
     "metadata": {},
     "output_type": "display_data"
    },
    {
     "data": {
      "text/plain": [
       "array([  nan,  963.,  712., ...,    2.,   30.,    7.])"
      ]
     },
     "metadata": {},
     "output_type": "display_data"
    },
    {
     "name": "stdout",
     "output_type": "stream",
     "text": [
      "feature name: PLZ8_ANTG1, unique values:\n"
     ]
    },
    {
     "data": {
      "text/plain": [
       "['-1']"
      ]
     },
     "metadata": {},
     "output_type": "display_data"
    },
    {
     "data": {
      "text/plain": [
       "array([ nan,   2.,   3.,   1.,   4.,   0.])"
      ]
     },
     "metadata": {},
     "output_type": "display_data"
    },
    {
     "name": "stdout",
     "output_type": "stream",
     "text": [
      "feature name: PLZ8_ANTG2, unique values:\n"
     ]
    },
    {
     "data": {
      "text/plain": [
       "['-1']"
      ]
     },
     "metadata": {},
     "output_type": "display_data"
    },
    {
     "data": {
      "text/plain": [
       "array([ nan,   3.,   2.,   4.,   1.,   0.])"
      ]
     },
     "metadata": {},
     "output_type": "display_data"
    },
    {
     "name": "stdout",
     "output_type": "stream",
     "text": [
      "feature name: PLZ8_ANTG3, unique values:\n"
     ]
    },
    {
     "data": {
      "text/plain": [
       "['-1']"
      ]
     },
     "metadata": {},
     "output_type": "display_data"
    },
    {
     "data": {
      "text/plain": [
       "array([ nan,   2.,   1.,   3.,   0.])"
      ]
     },
     "metadata": {},
     "output_type": "display_data"
    },
    {
     "name": "stdout",
     "output_type": "stream",
     "text": [
      "feature name: PLZ8_ANTG4, unique values:\n"
     ]
    },
    {
     "data": {
      "text/plain": [
       "['-1']"
      ]
     },
     "metadata": {},
     "output_type": "display_data"
    },
    {
     "data": {
      "text/plain": [
       "array([ nan,   1.,   0.,   2.])"
      ]
     },
     "metadata": {},
     "output_type": "display_data"
    },
    {
     "name": "stdout",
     "output_type": "stream",
     "text": [
      "feature name: PLZ8_BAUMAX, unique values:\n"
     ]
    },
    {
     "data": {
      "text/plain": [
       "['-1', '0']"
      ]
     },
     "metadata": {},
     "output_type": "display_data"
    },
    {
     "data": {
      "text/plain": [
       "array([ nan,   1.,   2.,   4.,   5.,   3.])"
      ]
     },
     "metadata": {},
     "output_type": "display_data"
    },
    {
     "name": "stdout",
     "output_type": "stream",
     "text": [
      "feature name: PLZ8_HHZ, unique values:\n"
     ]
    },
    {
     "data": {
      "text/plain": [
       "['-1']"
      ]
     },
     "metadata": {},
     "output_type": "display_data"
    },
    {
     "data": {
      "text/plain": [
       "array([ nan,   5.,   4.,   3.,   2.,   1.])"
      ]
     },
     "metadata": {},
     "output_type": "display_data"
    },
    {
     "name": "stdout",
     "output_type": "stream",
     "text": [
      "feature name: PLZ8_GBZ, unique values:\n"
     ]
    },
    {
     "data": {
      "text/plain": [
       "['-1']"
      ]
     },
     "metadata": {},
     "output_type": "display_data"
    },
    {
     "data": {
      "text/plain": [
       "array([ nan,   4.,   3.,   5.,   2.,   1.])"
      ]
     },
     "metadata": {},
     "output_type": "display_data"
    },
    {
     "name": "stdout",
     "output_type": "stream",
     "text": [
      "feature name: ARBEIT, unique values:\n"
     ]
    },
    {
     "data": {
      "text/plain": [
       "['-1', '9']"
      ]
     },
     "metadata": {},
     "output_type": "display_data"
    },
    {
     "data": {
      "text/plain": [
       "array([ nan,   3.,   2.,   4.,   1.,   5.])"
      ]
     },
     "metadata": {},
     "output_type": "display_data"
    },
    {
     "name": "stdout",
     "output_type": "stream",
     "text": [
      "feature name: ORTSGR_KLS9, unique values:\n"
     ]
    },
    {
     "data": {
      "text/plain": [
       "['-1', '0']"
      ]
     },
     "metadata": {},
     "output_type": "display_data"
    },
    {
     "data": {
      "text/plain": [
       "array([ nan,   5.,   3.,   6.,   4.,   8.,   2.,   7.,   9.,   1.])"
      ]
     },
     "metadata": {},
     "output_type": "display_data"
    },
    {
     "name": "stdout",
     "output_type": "stream",
     "text": [
      "feature name: RELAT_AB, unique values:\n"
     ]
    },
    {
     "data": {
      "text/plain": [
       "['-1', '9']"
      ]
     },
     "metadata": {},
     "output_type": "display_data"
    },
    {
     "data": {
      "text/plain": [
       "array([ nan,   4.,   2.,   3.,   5.,   1.])"
      ]
     },
     "metadata": {},
     "output_type": "display_data"
    }
   ],
   "source": [
    "for col in azdias.columns:\n",
    "    print(\"feature name: {}, unique values:\".format(col)) \n",
    "    display(feat_info[feat_info['attribute'] == col]['missing_or_unknown'].values[0])\n",
    "    display(azdias[col].unique())"
   ]
  },
  {
   "cell_type": "markdown",
   "metadata": {},
   "source": [
    "#### Step 1.1.2: Assess Missing Data in Each Column\n",
    "\n",
    "How much missing data is present in each column? There are a few columns that are outliers in terms of the proportion of values that are missing. You will want to use matplotlib's [`hist()`](https://matplotlib.org/api/_as_gen/matplotlib.pyplot.hist.html) function to visualize the distribution of missing value counts to find these columns. Identify and document these columns. While some of these columns might have justifications for keeping or re-encoding the data, for this project you should just remove them from the dataframe. (Feel free to make remarks about these outlier columns in the discussion, however!)\n",
    "\n",
    "For the remaining features, are there any patterns in which columns have, or share, missing data?"
   ]
  },
  {
   "cell_type": "code",
   "execution_count": 14,
   "metadata": {},
   "outputs": [
    {
     "data": {
      "text/plain": [
       "ZABEOTYP                  0.000000\n",
       "SEMIO_TRADV               0.000000\n",
       "SEMIO_PFLICHT             0.000000\n",
       "SEMIO_KAEM                0.000000\n",
       "SEMIO_DOM                 0.000000\n",
       "SEMIO_KRIT                0.000000\n",
       "SEMIO_RAT                 0.000000\n",
       "SEMIO_KULT                0.000000\n",
       "SEMIO_ERL                 0.000000\n",
       "SEMIO_LUST                0.000000\n",
       "SEMIO_VERT                0.000000\n",
       "SEMIO_MAT                 0.000000\n",
       "SEMIO_REL                 0.000000\n",
       "SEMIO_SOZ                 0.000000\n",
       "SEMIO_FAM                 0.000000\n",
       "FINANZ_VORSORGER          0.000000\n",
       "ANREDE_KZ                 0.000000\n",
       "FINANZ_MINIMALIST         0.000000\n",
       "FINANZ_SPARER             0.000000\n",
       "FINANZ_ANLEGER            0.000000\n",
       "FINANZ_UNAUFFAELLIGER     0.000000\n",
       "FINANZ_HAUSBAUER          0.000000\n",
       "GREEN_AVANTGARDE          0.000000\n",
       "FINANZTYP                 0.000000\n",
       "ALTERSKATEGORIE_GROB      0.323264\n",
       "GFK_URLAUBERTYP           0.544646\n",
       "LP_STATUS_GROB            0.544646\n",
       "LP_STATUS_FEIN            0.544646\n",
       "ONLINE_AFFINITAET         0.544646\n",
       "RETOURTYP_BK_S            0.544646\n",
       "                           ...    \n",
       "CAMEO_INTL_2015          11.147852\n",
       "ANZ_HAUSHALTE_AKTIV      11.176913\n",
       "KBA13_ANZAHL_PKW         11.871354\n",
       "PRAEGENDE_JUGENDJAHRE    12.136608\n",
       "NATIONALITAET_KZ         12.153551\n",
       "HEALTH_TYP               12.476816\n",
       "VERS_TYP                 12.476816\n",
       "SHOPPER_TYP              12.476816\n",
       "PLZ8_ANTG2               13.073637\n",
       "PLZ8_ANTG3               13.073637\n",
       "PLZ8_ANTG1               13.073637\n",
       "PLZ8_ANTG4               13.073637\n",
       "PLZ8_BAUMAX              13.073637\n",
       "PLZ8_HHZ                 13.073637\n",
       "PLZ8_GBZ                 13.073637\n",
       "KBA05_ANTG3              14.959701\n",
       "KBA05_ANTG2              14.959701\n",
       "KBA05_ANTG1              14.959701\n",
       "MOBI_REGIO               14.959701\n",
       "KBA05_GBZ                14.959701\n",
       "KBA05_ANTG4              14.959701\n",
       "W_KEIT_KIND_HH           16.605084\n",
       "KKK                      17.735668\n",
       "REGIOTYP                 17.735668\n",
       "ALTER_HH                 34.813699\n",
       "GEBURTSJAHR              44.020282\n",
       "KBA05_BAUMAX             53.468668\n",
       "KK_KUNDENTYP             65.596749\n",
       "AGER_TYP                 76.955435\n",
       "TITEL_KZ                 99.757636\n",
       "Length: 85, dtype: float64"
      ]
     },
     "metadata": {},
     "output_type": "display_data"
    }
   ],
   "source": [
    "# Perform an assessment of how much missing data there is in each column of the\n",
    "# dataset.\n",
    "missing_count = azdias.isna().sum()\n",
    "missing_perc = (missing_count / n_rows) * 100\n",
    "missing_perc = missing_perc.sort_values()\n",
    "display(missing_perc)"
   ]
  },
  {
   "cell_type": "code",
   "execution_count": 15,
   "metadata": {},
   "outputs": [
    {
     "data": {
      "image/png": "[encoded data removed]",
      "text/plain": [
       "<matplotlib.figure.Figure at 0x7f048801c828>"
      ]
     },
     "metadata": {
      "needs_background": "light"
     },
     "output_type": "display_data"
    }
   ],
   "source": [
    "plt.hist(missing_perc, bins=30)\n",
    "\n",
    "plt.xlabel('Missing values percentage (%)')\n",
    "plt.ylabel('Frequency')\n",
    "plt.grid(True)\n",
    "plt.show()"
   ]
  },
  {
   "cell_type": "code",
   "execution_count": 16,
   "metadata": {
    "scrolled": true
   },
   "outputs": [
    {
     "name": "stdout",
     "output_type": "stream",
     "text": [
      "number of columns wiht missing values is : 61/85\n",
      "number of columns that have greater than 20% of the data missing: 6\n"
     ]
    },
    {
     "data": {
      "text/plain": [
       "ALTER_HH        34.813699\n",
       "GEBURTSJAHR     44.020282\n",
       "KBA05_BAUMAX    53.468668\n",
       "KK_KUNDENTYP    65.596749\n",
       "AGER_TYP        76.955435\n",
       "TITEL_KZ        99.757636\n",
       "dtype: float64"
      ]
     },
     "metadata": {},
     "output_type": "display_data"
    }
   ],
   "source": [
    "# Investigate patterns in the amount of missing data in each column.\n",
    "\n",
    "above_20_missing_values = missing_perc[missing_perc>20]\n",
    "print('number of columns wiht missing values is : {}/{}'.format(missing_count[missing_count>0].count(),n_cols))\n",
    "print('number of columns that have greater than 20% of the data missing: {}'.format(above_20_missing_values.count()))\n",
    "display(above_20_missing_values)\n"
   ]
  },
  {
   "cell_type": "code",
   "execution_count": 17,
   "metadata": {},
   "outputs": [
    {
     "data": {
      "text/plain": [
       "(891221, 79)"
      ]
     },
     "metadata": {},
     "output_type": "display_data"
    }
   ],
   "source": [
    "# Remove the outlier columns from the dataset. (You'll perform other data\n",
    "# engineering tasks such as re-encoding and imputation later.)\n",
    "azdias = azdias.drop(above_20_missing_values.index.tolist(), axis=1)\n",
    "display(azdias.shape)"
   ]
  },
  {
   "cell_type": "code",
   "execution_count": 18,
   "metadata": {},
   "outputs": [],
   "source": [
    "missing = missing_count[missing_count>0].to_frame(\"values\")\n",
    "grouped = missing.groupby(missing['values'])"
   ]
  },
  {
   "cell_type": "code",
   "execution_count": 19,
   "metadata": {},
   "outputs": [
    {
     "data": {
      "text/plain": [
       "{2881: Index(['ALTERSKATEGORIE_GROB'], dtype='object'),\n",
       " 4854: Index(['CJT_GESAMTTYP', 'GFK_URLAUBERTYP', 'LP_STATUS_FEIN', 'LP_STATUS_GROB',\n",
       "        'RETOURTYP_BK_S', 'ONLINE_AFFINITAET'],\n",
       "       dtype='object'),\n",
       " 18348: Index(['HH_EINKOMMEN_SCORE'], dtype='object'),\n",
       " 73499: Index(['SOHO_KZ', 'ANZ_PERSONEN', 'ANZ_TITEL', 'WOHNDAUER_2008'], dtype='object'),\n",
       " 73969: Index(['KONSUMNAEHE'], dtype='object'),\n",
       " 77792: Index(['LP_FAMILIE_FEIN', 'LP_FAMILIE_GROB'], dtype='object'),\n",
       " 93148: Index(['GEBAEUDETYP', 'MIN_GEBAEUDEJAHR', 'OST_WEST_KZ', 'WOHNLAGE'], dtype='object'),\n",
       " 93155: Index(['GEBAEUDETYP_RASTER'], dtype='object'),\n",
       " 93740: Index(['BALLRAUM', 'EWDICHTE', 'INNENSTADT'], dtype='object'),\n",
       " 94572: Index(['LP_LEBENSPHASE_GROB'], dtype='object'),\n",
       " 97008: Index(['ANZ_HH_TITEL'], dtype='object'),\n",
       " 97274: Index(['ORTSGR_KLS9'], dtype='object'),\n",
       " 97375: Index(['ARBEIT', 'RELAT_AB'], dtype='object'),\n",
       " 97632: Index(['LP_LEBENSPHASE_FEIN'], dtype='object'),\n",
       " 99352: Index(['CAMEO_DEUG_2015', 'CAMEO_DEU_2015', 'CAMEO_INTL_2015'], dtype='object'),\n",
       " 99611: Index(['ANZ_HAUSHALTE_AKTIV'], dtype='object'),\n",
       " 105800: Index(['KBA13_ANZAHL_PKW'], dtype='object'),\n",
       " 108164: Index(['PRAEGENDE_JUGENDJAHRE'], dtype='object'),\n",
       " 108315: Index(['NATIONALITAET_KZ'], dtype='object'),\n",
       " 111196: Index(['HEALTH_TYP', 'SHOPPER_TYP', 'VERS_TYP'], dtype='object'),\n",
       " 116515: Index(['PLZ8_ANTG1', 'PLZ8_ANTG2', 'PLZ8_ANTG3', 'PLZ8_ANTG4', 'PLZ8_BAUMAX',\n",
       "        'PLZ8_HHZ', 'PLZ8_GBZ'],\n",
       "       dtype='object'),\n",
       " 133324: Index(['KBA05_ANTG1', 'KBA05_ANTG2', 'KBA05_ANTG3', 'KBA05_ANTG4', 'KBA05_GBZ',\n",
       "        'MOBI_REGIO'],\n",
       "       dtype='object'),\n",
       " 147988: Index(['W_KEIT_KIND_HH'], dtype='object'),\n",
       " 158064: Index(['KKK', 'REGIOTYP'], dtype='object'),\n",
       " 310267: Index(['ALTER_HH'], dtype='object'),\n",
       " 392318: Index(['GEBURTSJAHR'], dtype='object'),\n",
       " 476524: Index(['KBA05_BAUMAX'], dtype='object'),\n",
       " 584612: Index(['KK_KUNDENTYP'], dtype='object'),\n",
       " 685843: Index(['AGER_TYP'], dtype='object'),\n",
       " 889061: Index(['TITEL_KZ'], dtype='object')}"
      ]
     },
     "metadata": {},
     "output_type": "display_data"
    }
   ],
   "source": [
    "display(grouped.groups)"
   ]
  },
  {
   "cell_type": "markdown",
   "metadata": {},
   "source": [
    "#### Discussion 1.1.2: Assess Missing Data in Each Column\n",
    "\n",
    "(Double click this cell and replace this text with your own text, reporting your observations regarding the amount of missing data in each column. Are there any patterns in missing values? Which columns were removed from the dataset?)\n",
    "\n",
    " from the histogram above, it looks like most of the columns have less than 20% of missing values. There are only 3 outliers that exceeded this threshold: ['GEBURTSJAHR', 'KK_KUNDENTYP', AGER_TYP] ,and they were removed as instructed.\n",
    "\n",
    "grouping the coulumns by the number of missing values might give an indication of a relationship between the grouped columns.\n",
    "There might be many reasons behind this relationship, either becuase these columns give related information or their values were gathered at the same time using the same survey for example.\n",
    "\n",
    " 4854: ['CJT_GESAMTTYP', 'GFK_URLAUBERTYP', 'LP_LEBENSPHASE_FEIN',\n",
    "        'LP_LEBENSPHASE_GROB', 'LP_FAMILIE_FEIN', 'LP_FAMILIE_GROB',\n",
    "        'LP_STATUS_FEIN', 'LP_STATUS_GROB', 'RETOURTYP_BK_S',\n",
    "        'ONLINE_AFFINITAET']\n",
    "        \n",
    " 73499: ['SOHO_KZ', 'TITEL_KZ', 'ALTER_HH', 'ANZ_PERSONEN', 'ANZ_TITEL',\n",
    "        'WOHNDAUER_2008']\n",
    "        \n",
    " 93148: ['ANZ_HAUSHALTE_AKTIV', 'GEBAEUDETYP', 'MIN_GEBAEUDEJAHR', 'OST_WEST_KZ',\n",
    "        'WOHNLAGE']\n",
    "        \n",
    " 93740: ['BALLRAUM', 'EWDICHTE', 'INNENSTADT']\n",
    " \n",
    " 97216: ['ARBEIT', 'ORTSGR_KLS9', 'RELAT_AB']\n",
    " \n",
    " 98979: ['CAMEO_DEUG_2015', 'CAMEO_DEU_2015', 'CAMEO_INTL_2015']\n",
    " \n",
    " 111196: ['HEALTH_TYP', 'SHOPPER_TYP', 'VERS_TYP']\n",
    " \n",
    " 116515: ['PLZ8_ANTG1', 'PLZ8_ANTG2', 'PLZ8_ANTG3', 'PLZ8_ANTG4', 'PLZ8_BAUMAX',\n",
    "        'PLZ8_HHZ', 'PLZ8_GBZ']\n",
    "        \n",
    " 121196: ['KKK', 'REGIOTYP']\n",
    " \n",
    " 133324: ['KBA05_ANTG1', 'KBA05_ANTG2', 'KBA05_ANTG3', 'KBA05_ANTG4',\n",
    "        'KBA05_BAUMAX', 'KBA05_GBZ', 'MOBI_REGIO']\n",
    "   "
   ]
  },
  {
   "cell_type": "markdown",
   "metadata": {},
   "source": [
    "#### Step 1.1.3: Assess Missing Data in Each Row\n",
    "\n",
    "Now, you'll perform a similar assessment for the rows of the dataset. How much data is missing in each row? As with the columns, you should see some groups of points that have a very different numbers of missing values. Divide the data into two subsets: one for data points that are above some threshold for missing values, and a second subset for points below that threshold.\n",
    "\n",
    "In order to know what to do with the outlier rows, we should see if the distribution of data values on columns that are not missing data (or are missing very little data) are similar or different between the two groups. Select at least five of these columns and compare the distribution of values.\n",
    "- You can use seaborn's [`countplot()`](https://seaborn.pydata.org/generated/seaborn.countplot.html) function to create a bar chart of code frequencies and matplotlib's [`subplot()`](https://matplotlib.org/api/_as_gen/matplotlib.pyplot.subplot.html) function to put bar charts for the two subplots side by side.\n",
    "- To reduce repeated code, you might want to write a function that can perform this comparison, taking as one of its arguments a column to be compared.\n",
    "\n",
    "Depending on what you observe in your comparison, this will have implications on how you approach your conclusions later in the analysis. If the distributions of non-missing features look similar between the data with many missing values and the data with few or no missing values, then we could argue that simply dropping those points from the analysis won't present a major issue. On the other hand, if the data with many missing values looks very different from the data with few or no missing values, then we should make a note on those data as special. We'll revisit these data later on. **Either way, you should continue your analysis for now using just the subset of the data with few or no missing values.**"
   ]
  },
  {
   "cell_type": "code",
   "execution_count": 20,
   "metadata": {},
   "outputs": [
    {
     "data": {
      "text/plain": [
       "445610     0.000000\n",
       "540274     0.000000\n",
       "540275     0.000000\n",
       "540277     0.000000\n",
       "540280     0.000000\n",
       "540281     0.000000\n",
       "540283     0.000000\n",
       "540284     0.000000\n",
       "540286     0.000000\n",
       "540273     0.000000\n",
       "540287     0.000000\n",
       "540290     0.000000\n",
       "540291     0.000000\n",
       "540292     0.000000\n",
       "540293     0.000000\n",
       "540295     0.000000\n",
       "540296     0.000000\n",
       "540298     0.000000\n",
       "540299     0.000000\n",
       "540289     0.000000\n",
       "540300     0.000000\n",
       "540271     0.000000\n",
       "540269     0.000000\n",
       "540239     0.000000\n",
       "540240     0.000000\n",
       "540241     0.000000\n",
       "540242     0.000000\n",
       "540243     0.000000\n",
       "540244     0.000000\n",
       "540246     0.000000\n",
       "            ...    \n",
       "139521    55.294118\n",
       "690887    55.294118\n",
       "690878    55.294118\n",
       "690876    55.294118\n",
       "690871    55.294118\n",
       "139478    55.294118\n",
       "139236    55.294118\n",
       "691118    55.294118\n",
       "691129    55.294118\n",
       "691317    55.294118\n",
       "139243    55.294118\n",
       "139245    55.294118\n",
       "139248    55.294118\n",
       "139250    55.294118\n",
       "139255    55.294118\n",
       "139267    55.294118\n",
       "691122    55.294118\n",
       "691212    55.294118\n",
       "139323    55.294118\n",
       "691197    55.294118\n",
       "139332    55.294118\n",
       "691183    55.294118\n",
       "691171    55.294118\n",
       "691142    55.294118\n",
       "691141    55.294118\n",
       "139316    55.294118\n",
       "183108    55.294118\n",
       "472919    56.470588\n",
       "732775    57.647059\n",
       "643174    57.647059\n",
       "Length: 891221, dtype: float64"
      ]
     },
     "metadata": {},
     "output_type": "display_data"
    }
   ],
   "source": [
    "# How much data is missing in each row of the dataset?\n",
    "missing_count_rows = azdias.isna().sum(axis=1)\n",
    "missing_perc_rows = (missing_count_rows / n_cols) * 100\n",
    "missing_perc_rows = missing_perc_rows.sort_values()\n",
    "display(missing_perc_rows)"
   ]
  },
  {
   "cell_type": "code",
   "execution_count": 21,
   "metadata": {},
   "outputs": [
    {
     "data": {
      "image/png": "[encoded data removed]",
      "text/plain": [
       "<matplotlib.figure.Figure at 0x7f044d0439b0>"
      ]
     },
     "metadata": {
      "needs_background": "light"
     },
     "output_type": "display_data"
    }
   ],
   "source": [
    "plt.hist(missing_perc_rows, bins=30)\n",
    "\n",
    "plt.xlabel('Missing values percentage (%)')\n",
    "plt.ylabel('Frequency')\n",
    "plt.grid(True)\n",
    "plt.show()"
   ]
  },
  {
   "cell_type": "code",
   "execution_count": 22,
   "metadata": {},
   "outputs": [],
   "source": [
    "# Write code to divide the data into two subsets based on the number of missing\n",
    "# values in each row.\n",
    "\n",
    "below_30 = missing_perc_rows[missing_perc_rows<30].index\n",
    "above_30 = missing_perc_rows[missing_perc_rows>30].index\n",
    "azdias_below_30 =azdias.iloc[below_30,:]\n",
    "azdias_above_30 =azdias.iloc[above_30,:]"
   ]
  },
  {
   "cell_type": "code",
   "execution_count": 23,
   "metadata": {
    "scrolled": false
   },
   "outputs": [
    {
     "data": {
      "image/png": "[encoded data removed]",
      "text/plain": [
       "<matplotlib.figure.Figure at 0x7f044bb1a518>"
      ]
     },
     "metadata": {
      "needs_background": "light"
     },
     "output_type": "display_data"
    }
   ],
   "source": [
    "# Compare the distribution of values for at least five columns where there are\n",
    "# no or few missing values, between the two subsets.\n",
    "\n",
    "temp = missing_perc.index.tolist()\n",
    "n_columns = 10\n",
    "fig, ax = plt.subplots(nrows=n_columns, ncols=2, figsize = (15,20))\n",
    "fig.subplots_adjust(hspace = 1, wspace=.5)\n",
    "for i in range(n_columns):\n",
    "    sns.countplot(azdias_below_30[temp[i]], ax=ax[i][0])\n",
    "    ax[i][0].set_title('<30% missing values')\n",
    "    sns.countplot(azdias_above_30[temp[i]], ax=ax[i][1])\n",
    "    ax[i][1].set_title('>30% missing values')"
   ]
  },
  {
   "cell_type": "markdown",
   "metadata": {},
   "source": [
    "#### Discussion 1.1.3: Assess Missing Data in Each Row\n",
    "\n",
    "(Double-click this cell and replace this text with your own text, reporting your observations regarding missing data in rows. Are the data with lots of missing values are qualitatively different from data with few or no missing values?)\n",
    "For the columns I plotted above, there is an obvious difference between the column distribution when there are a lot of missing data and when there aren't. This can let us draw the conclusion that having many missing data in our dataset might result in false conclusions."
   ]
  },
  {
   "cell_type": "markdown",
   "metadata": {},
   "source": [
    "### Step 1.2: Select and Re-Encode Features\n",
    "\n",
    "Checking for missing data isn't the only way in which you can prepare a dataset for analysis. Since the unsupervised learning techniques to be used will only work on data that is encoded numerically, you need to make a few encoding changes or additional assumptions to be able to make progress. In addition, while almost all of the values in the dataset are encoded using numbers, not all of them represent numeric values. Check the third column of the feature summary (`feat_info`) for a summary of types of measurement.\n",
    "- For numeric and interval data, these features can be kept without changes.\n",
    "- Most of the variables in the dataset are ordinal in nature. While ordinal values may technically be non-linear in spacing, make the simplifying assumption that the ordinal variables can be treated as being interval in nature (that is, kept without any changes).\n",
    "- Special handling may be necessary for the remaining two variable types: categorical, and 'mixed'.\n",
    "\n",
    "In the first two parts of this sub-step, you will perform an investigation of the categorical and mixed-type features and make a decision on each of them, whether you will keep, drop, or re-encode each. Then, in the last part, you will create a new data frame with only the selected and engineered columns.\n",
    "\n",
    "Data wrangling is often the trickiest part of the data analysis process, and there's a lot of it to be done here. But stick with it: once you're done with this step, you'll be ready to get to the machine learning parts of the project!"
   ]
  },
  {
   "cell_type": "code",
   "execution_count": 24,
   "metadata": {},
   "outputs": [
    {
     "data": {
      "text/plain": [
       "ordinal        49\n",
       "categorical    21\n",
       "numeric         7\n",
       "mixed           7\n",
       "interval        1\n",
       "Name: type, dtype: int64"
      ]
     },
     "execution_count": 24,
     "metadata": {},
     "output_type": "execute_result"
    }
   ],
   "source": [
    "# How many features are there of each data type?\n",
    "feat_info.type.value_counts()"
   ]
  },
  {
   "cell_type": "markdown",
   "metadata": {},
   "source": [
    "#### Step 1.2.1: Re-Encode Categorical Features\n",
    "\n",
    "For categorical data, you would ordinarily need to encode the levels as dummy variables. Depending on the number of categories, perform one of the following:\n",
    "- For binary (two-level) categoricals that take numeric values, you can keep them without needing to do anything.\n",
    "- There is one binary variable that takes on non-numeric values. For this one, you need to re-encode the values as numbers or create a dummy variable.\n",
    "- For multi-level categoricals (three or more values), you can choose to encode the values using multiple dummy variables (e.g. via [OneHotEncoder](http://scikit-learn.org/stable/modules/generated/sklearn.preprocessing.OneHotEncoder.html)), or (to keep things straightforward) just drop them from the analysis. As always, document your choices in the Discussion section."
   ]
  },
  {
   "cell_type": "code",
   "execution_count": 25,
   "metadata": {},
   "outputs": [
    {
     "name": "stdout",
     "output_type": "stream",
     "text": [
      "Binary Features\n",
      "column ANREDE_KZ has 2 unique values of type int64 : [2 1]\n",
      "column GREEN_AVANTGARDE has 2 unique values of type int64 : [0 1]\n",
      "column SOHO_KZ has 2 unique values of type float64 : [ 0.  1.]\n",
      "column OST_WEST_KZ has 2 unique values of type object : ['W' 'O']\n",
      "Multi-level Features\n",
      "column CJT_GESAMTTYP has 7 unique values of type float64 : [  2.   6.   4.   3.   5.   1.  nan]\n",
      "column FINANZTYP has 6 unique values of type int64 : [2 6 4 5 1 3]\n",
      "column GFK_URLAUBERTYP has 13 unique values of type float64 : [  7.   8.   4.  11.   3.   9.   1.   5.  10.   2.  12.   6.  nan]\n",
      "column LP_FAMILIE_FEIN has 12 unique values of type float64 : [  2.   1.   5.  10.  11.   6.   8.   7.   3.   4.   9.  nan]\n",
      "column LP_FAMILIE_GROB has 6 unique values of type float64 : [  2.   1.   3.   5.   4.  nan]\n",
      "column LP_STATUS_FEIN has 11 unique values of type float64 : [  7.  10.   1.   9.   4.   5.   6.   3.   2.   8.  nan]\n",
      "column LP_STATUS_GROB has 6 unique values of type float64 : [  3.   5.   1.   4.   2.  nan]\n",
      "column NATIONALITAET_KZ has 4 unique values of type float64 : [  1.   3.   2.  nan]\n",
      "column SHOPPER_TYP has 5 unique values of type float64 : [  1.   2.   0.   3.  nan]\n",
      "column VERS_TYP has 3 unique values of type float64 : [  1.   2.  nan]\n",
      "column ZABEOTYP has 6 unique values of type int64 : [3 1 4 2 5 6]\n",
      "column GEBAEUDETYP has 7 unique values of type float64 : [ 1.  8.  3.  5.  2.  6.  4.]\n",
      "column CAMEO_DEUG_2015 has 10 unique values of type object : ['2' '1' '4' '8' '6' '9' '3' '5' '7' nan]\n",
      "column CAMEO_DEU_2015 has 45 unique values of type object : ['2B' '1E' '4C' '8A' '2D' '6B' '9A' '4B' '8C' '2A' '1D' '4D' '3D' '1A' '9D'\n",
      " '9E' '6C' '5D' '7A' '7B' '5C' '3C' '5F' '8B' '5A' '2C' '9B' '5E' '9C' '4A'\n",
      " '6E' '3A' '7D' '5B' '1B' '4E' '6A' '1C' '3B' '7C' '8D' '6D' '7E' '6F' nan]\n"
     ]
    }
   ],
   "source": [
    "# Assess categorical variables: which are binary, which are multi-level, and\n",
    "# which one needs to be re-encoded?\n",
    "remaining_features = feat_info[feat_info['attribute'].isin(azdias.columns.tolist())]\n",
    "categorical_features = remaining_features[remaining_features.type=='categorical'].attribute.values\n",
    "\n",
    "print(\"Binary Features\")\n",
    "for col in categorical_features:\n",
    "    if len(azdias_below_30[col].unique()) <= 2:\n",
    "        print(\"column {} has {} unique values of type {} : {}\".format(col,len(azdias_below_30[col].unique()), azdias_below_30[col].dtype, azdias_below_30[col].unique()))\n",
    "\n",
    "print(\"Multi-level Features\")\n",
    "for col in categorical_features:\n",
    "    if len(azdias_below_30[col].unique()) > 2:\n",
    "        print(\"column {} has {} unique values of type {} : {}\".format(col,len(azdias_below_30[col].unique()), azdias_below_30[col].dtype, azdias_below_30[col].unique()))\n",
    "        azdias_below_30 = azdias_below_30.drop(col, axis=1)\n"
   ]
  },
  {
   "cell_type": "code",
   "execution_count": 26,
   "metadata": {},
   "outputs": [],
   "source": [
    "# Re-encode categorical variable(s) to be kept in the analysis.\n",
    "\n",
    "azdias_below_30 = azdias_below_30.replace({'OST_WEST_KZ':{'W': 0, 'O': 1}})\n"
   ]
  },
  {
   "cell_type": "code",
   "execution_count": 27,
   "metadata": {},
   "outputs": [
    {
     "data": {
      "text/plain": [
       "(797961, 65)"
      ]
     },
     "execution_count": 27,
     "metadata": {},
     "output_type": "execute_result"
    }
   ],
   "source": [
    "azdias_below_30.shape"
   ]
  },
  {
   "cell_type": "markdown",
   "metadata": {},
   "source": [
    "#### Discussion 1.2.1: Re-Encode Categorical Features\n",
    "\n",
    "(Double-click this cell and replace this text with your own text, reporting your findings and decisions regarding categorical features. Which ones did you keep, which did you drop, and what engineering steps did you perform?)\n",
    "from the categorical features, there are 4 binary columns in the dataset and one of them needed encoding.\n",
    "there are 15 mutti-level features and they are all dropped from the dataset."
   ]
  },
  {
   "cell_type": "markdown",
   "metadata": {},
   "source": [
    "#### Step 1.2.2: Engineer Mixed-Type Features\n",
    "\n",
    "There are a handful of features that are marked as \"mixed\" in the feature summary that require special treatment in order to be included in the analysis. There are two in particular that deserve attention; the handling of the rest are up to your own choices:\n",
    "- \"PRAEGENDE_JUGENDJAHRE\" combines information on three dimensions: generation by decade, movement (mainstream vs. avantgarde), and nation (east vs. west). While there aren't enough levels to disentangle east from west, you should create two new variables to capture the other two dimensions: an interval-type variable for decade, and a binary variable for movement.\n",
    "- \"CAMEO_INTL_2015\" combines information on two axes: wealth and life stage. Break up the two-digit codes by their 'tens'-place and 'ones'-place digits into two new ordinal variables (which, for the purposes of this project, is equivalent to just treating them as their raw numeric values).\n",
    "- If you decide to keep or engineer new features around the other mixed-type features, make sure you note your steps in the Discussion section.\n",
    "\n",
    "Be sure to check `Data_Dictionary.md` for the details needed to finish these tasks."
   ]
  },
  {
   "cell_type": "code",
   "execution_count": 28,
   "metadata": {},
   "outputs": [
    {
     "data": {
      "text/plain": [
       "array([  3.,   6.,  11.,   8.,   1.,  14.,   5.,  15.,   9.,  10.,   4.,\n",
       "        13.,   2.,  12.,   7.,  nan])"
      ]
     },
     "metadata": {},
     "output_type": "display_data"
    }
   ],
   "source": [
    "# Investigate \"PRAEGENDE_JUGENDJAHRE\" and engineer two new variables.\n",
    "display(azdias_below_30['PRAEGENDE_JUGENDJAHRE'].unique())"
   ]
  },
  {
   "cell_type": "code",
   "execution_count": 29,
   "metadata": {},
   "outputs": [],
   "source": [
    "azdias_below_30['decade'] = azdias_below_30['PRAEGENDE_JUGENDJAHRE']\n",
    "decade_dict = {1:[1,2], 2:[3,4], 3:[5,6,7], 4:[8,9], 5:[10,11,12,13], 6:[14,15]}\n",
    "for x in decade_dict:\n",
    "     azdias_below_30['decade'] = azdias_below_30['decade'].replace(decade_dict[x], x)"
   ]
  },
  {
   "cell_type": "code",
   "execution_count": 30,
   "metadata": {},
   "outputs": [],
   "source": [
    "azdias_below_30['movement'] = azdias_below_30['PRAEGENDE_JUGENDJAHRE']\n",
    "movement_dict = {0:[1,3,5,8,10,12,14],1:[2,4,6,7,9,11,13,15]}\n",
    "for x in movement_dict:\n",
    "     azdias_below_30['movement'] = azdias_below_30['movement'].replace(movement_dict[x], x)"
   ]
  },
  {
   "cell_type": "code",
   "execution_count": 31,
   "metadata": {},
   "outputs": [
    {
     "data": {
      "text/plain": [
       "array(['13', '15', '24', '51', '14', '43', '52', '23', '54', '12', '25',\n",
       "       '55', '44', '34', '41', '33', '35', '31', '22', '45', '32', nan], dtype=object)"
      ]
     },
     "metadata": {},
     "output_type": "display_data"
    }
   ],
   "source": [
    "# Investigate \"CAMEO_INTL_2015\" and engineer two new variables.\n",
    "display(azdias_below_30['CAMEO_INTL_2015'].unique())\n"
   ]
  },
  {
   "cell_type": "code",
   "execution_count": 32,
   "metadata": {},
   "outputs": [],
   "source": [
    "azdias_below_30['life_stage'] = azdias_below_30['CAMEO_INTL_2015']\n",
    "azdias_below_30['wealth'] = azdias_below_30['CAMEO_INTL_2015']\n",
    "\n",
    "azdias_below_30['life_stage'] = azdias_below_30['life_stage'].map(lambda x: int( int(x) % 10) if  (not pd.isnull(x))  else x)\n",
    "azdias_below_30['wealth'] = pd.Series(map(lambda x, y: int((int(x) - int(y))/10) if  (not pd.isnull(x))  else x, azdias_below_30['wealth'], azdias_below_30['life_stage']))"
   ]
  },
  {
   "cell_type": "code",
   "execution_count": 33,
   "metadata": {},
   "outputs": [
    {
     "data": {
      "text/plain": [
       "array([  4.,   1.,   3.,   2.,   5.,  nan])"
      ]
     },
     "execution_count": 33,
     "metadata": {},
     "output_type": "execute_result"
    }
   ],
   "source": [
    "azdias_below_30['wealth'].unique()"
   ]
  },
  {
   "cell_type": "code",
   "execution_count": 34,
   "metadata": {},
   "outputs": [
    {
     "data": {
      "text/plain": [
       "array([  3.,   5.,   4.,   1.,   2.,  nan])"
      ]
     },
     "execution_count": 34,
     "metadata": {},
     "output_type": "execute_result"
    }
   ],
   "source": [
    "azdias_below_30['life_stage'].unique()"
   ]
  },
  {
   "cell_type": "code",
   "execution_count": 35,
   "metadata": {},
   "outputs": [],
   "source": [
    "mixed = feat_info[feat_info[\"type\"]==\"mixed\"][\"attribute\"]\n",
    "\n",
    "for col in mixed:\n",
    "    if (col in azdias_below_30.columns ):\n",
    "        azdias_below_30 = azdias_below_30.drop(col, axis=1)"
   ]
  },
  {
   "cell_type": "code",
   "execution_count": 36,
   "metadata": {},
   "outputs": [
    {
     "data": {
      "text/plain": [
       "(797961, 63)"
      ]
     },
     "execution_count": 36,
     "metadata": {},
     "output_type": "execute_result"
    }
   ],
   "source": [
    "azdias_below_30.shape"
   ]
  },
  {
   "cell_type": "markdown",
   "metadata": {},
   "source": [
    "#### Discussion 1.2.2: Engineer Mixed-Type Features\n",
    "\n",
    "(Double-click this cell and replace this text with your own text, reporting your findings and decisions regarding mixed-value features. Which ones did you keep, which did you drop, and what engineering steps did you perform?)\n",
    "I kept \"PRAEGENDE_JUGENDJAHRE\" & CAMEO_INTL_2015 and removed the rest of the mixed columns.\n"
   ]
  },
  {
   "cell_type": "markdown",
   "metadata": {},
   "source": [
    "#### Step 1.2.3: Complete Feature Selection\n",
    "\n",
    "In order to finish this step up, you need to make sure that your data frame now only has the columns that you want to keep. To summarize, the dataframe should consist of the following:\n",
    "- All numeric, interval, and ordinal type columns from the original dataset.\n",
    "- Binary categorical features (all numerically-encoded).\n",
    "- Engineered features from other multi-level categorical features and mixed features.\n",
    "\n",
    "Make sure that for any new columns that you have engineered, that you've excluded the original columns from the final dataset. Otherwise, their values will interfere with the analysis later on the project. For example, you should not keep \"PRAEGENDE_JUGENDJAHRE\", since its values won't be useful for the algorithm: only the values derived from it in the engineered features you created should be retained. As a reminder, your data should only be from **the subset with few or no missing values**."
   ]
  },
  {
   "cell_type": "code",
   "execution_count": 37,
   "metadata": {},
   "outputs": [],
   "source": [
    "# If there are other re-engineering tasks you need to perform, make sure you\n",
    "# take care of them here. (Dealing with missing data will come in step 2.1.)\n",
    "\n"
   ]
  },
  {
   "cell_type": "code",
   "execution_count": 38,
   "metadata": {},
   "outputs": [],
   "source": [
    "# Do whatever you need to in order to ensure that the dataframe only contains\n",
    "# the columns that should be passed to the algorithm functions.\n",
    "\n"
   ]
  },
  {
   "cell_type": "markdown",
   "metadata": {},
   "source": [
    "### Step 1.3: Create a Cleaning Function\n",
    "\n",
    "Even though you've finished cleaning up the general population demographics data, it's important to look ahead to the future and realize that you'll need to perform the same cleaning steps on the customer demographics data. In this substep, complete the function below to execute the main feature selection, encoding, and re-engineering steps you performed above. Then, when it comes to looking at the customer data in Step 3, you can just run this function on that DataFrame to get the trimmed dataset in a single step."
   ]
  },
  {
   "cell_type": "code",
   "execution_count": 67,
   "metadata": {},
   "outputs": [],
   "source": [
    "def clean_data(df):\n",
    "    \"\"\"\n",
    "    Perform feature trimming, re-encoding, and engineering for demographics\n",
    "    data\n",
    "    \n",
    "    INPUT: Demographics DataFrame\n",
    "    OUTPUT: Trimmed and cleaned demographics DataFrame\n",
    "    \"\"\"\n",
    "    \n",
    "    # Put in code here to execute all main cleaning steps:\n",
    "    # convert missing value codes into NaNs, ...\n",
    "      \n",
    "    for col in df.columns:\n",
    "        missing_or_unknown_values = feat_info[feat_info['attribute'] == col]['missing_or_unknown'].values[0]\n",
    "        if (not (len(missing_or_unknown_values) == 1 and missing_or_unknown_values[0] =='')):\n",
    "            for missing_value in missing_or_unknown_values:\n",
    "                if missing_value !='XX' and missing_value !='X':\n",
    "                    missing_value = int(missing_value)\n",
    "                df[col] = df[col].map(lambda x: np.nan if x == missing_value else x)\n",
    "    \n",
    "    # remove selected columns and rows, ...\n",
    "    \n",
    "    \n",
    "    to_be_removed_cols = ['ALTER_HH','GEBURTSJAHR', 'KBA05_BAUMAX', 'KK_KUNDENTYP', 'AGER_TYP', 'TITEL_KZ']\n",
    "    df = df.drop(to_be_removed_cols, axis=1)\n",
    "\n",
    "    n_rows,n_cols = df.shape\n",
    "    \n",
    "    missing_count_rows = df.isna().sum(axis=1)\n",
    "    missing_perc_rows = (missing_count_rows / n_cols) * 100\n",
    " \n",
    "    below_30 = missing_perc_rows[missing_perc_rows<30].index\n",
    "\n",
    "    df =df.iloc[below_30,:]\n",
    "\n",
    "    # select, re-encode, and engineer column values.\n",
    "    \n",
    "    for col in categorical_features:\n",
    "        if (col in df.columns ):\n",
    "            if (len(df[col].unique())) > 2:\n",
    "                df = df.drop(col, axis=1)\n",
    "\n",
    "    df = df.replace({'OST_WEST_KZ':{'W': 0, 'O': 1}})\n",
    "\n",
    "    df['decade'] = df['PRAEGENDE_JUGENDJAHRE']\n",
    "    decade_dict = {1:[1,2], 2:[3,4], 3:[5,6,7], 4:[8,9], 5:[10,11,12,13], 6:[14,15]}\n",
    "    for x in decade_dict:\n",
    "        df['decade'] = df['decade'].replace(decade_dict[x], x)\n",
    "    \n",
    "    df['movement'] = df['PRAEGENDE_JUGENDJAHRE']\n",
    "    movement_dict = {0:[1,3,5,8,10,12,14],1:[2,4,6,7,9,11,13,15]}\n",
    "    for x in movement_dict:\n",
    "        df['movement'] = df['movement'].replace(movement_dict[x], x)\n",
    "    \n",
    "    df['life_stage'] = df['CAMEO_INTL_2015']\n",
    "    df['wealth'] = df['CAMEO_INTL_2015']\n",
    "\n",
    "    df['life_stage'] = df['life_stage'].map(lambda x: int( int(x) % 10) if  (not pd.isnull(x))  else x)\n",
    "    df['wealth'] = pd.Series(map(lambda x, y: int((int(x) - int(y))/10) if  (not pd.isnull(x))  else x, df['wealth'], df['life_stage']))\n",
    "\n",
    "    for col in mixed:\n",
    "        if (col in df.columns ):\n",
    "            df = df.drop(col, axis=1)\n",
    "\n",
    "    \n",
    "    # Return the cleaned dataframe.\n",
    "    return df\n",
    "    "
   ]
  },
  {
   "cell_type": "markdown",
   "metadata": {},
   "source": [
    "## Step 2: Feature Transformation\n",
    "\n",
    "### Step 2.1: Apply Feature Scaling\n",
    "\n",
    "Before we apply dimensionality reduction techniques to the data, we need to perform feature scaling so that the principal component vectors are not influenced by the natural differences in scale for features. Starting from this part of the project, you'll want to keep an eye on the [API reference page for sklearn](http://scikit-learn.org/stable/modules/classes.html) to help you navigate to all of the classes and functions that you'll need. In this substep, you'll need to check the following:\n",
    "\n",
    "- sklearn requires that data not have missing values in order for its estimators to work properly. So, before applying the scaler to your data, make sure that you've cleaned the DataFrame of the remaining missing values. This can be as simple as just removing all data points with missing data, or applying an [Imputer](http://scikit-learn.org/stable/modules/generated/sklearn.preprocessing.Imputer.html) to replace all missing values. You might also try a more complicated procedure where you temporarily remove missing values in order to compute the scaling parameters before re-introducing those missing values and applying imputation. Think about how much missing data you have and what possible effects each approach might have on your analysis, and justify your decision in the discussion section below.\n",
    "- For the actual scaling function, a [StandardScaler](http://scikit-learn.org/stable/modules/generated/sklearn.preprocessing.StandardScaler.html) instance is suggested, scaling each feature to mean 0 and standard deviation 1.\n",
    "- For these classes, you can make use of the `.fit_transform()` method to both fit a procedure to the data as well as apply the transformation to the data at the same time. Don't forget to keep the fit sklearn objects handy, since you'll be applying them to the customer demographics data towards the end of the project."
   ]
  },
  {
   "cell_type": "code",
   "execution_count": 40,
   "metadata": {},
   "outputs": [
    {
     "data": {
      "text/html": [
       "<div>\n",
       "<style scoped>\n",
       "    .dataframe tbody tr th:only-of-type {\n",
       "        vertical-align: middle;\n",
       "    }\n",
       "\n",
       "    .dataframe tbody tr th {\n",
       "        vertical-align: top;\n",
       "    }\n",
       "\n",
       "    .dataframe thead th {\n",
       "        text-align: right;\n",
       "    }\n",
       "</style>\n",
       "<table border=\"1\" class=\"dataframe\">\n",
       "  <thead>\n",
       "    <tr style=\"text-align: right;\">\n",
       "      <th></th>\n",
       "      <th>ALTERSKATEGORIE_GROB</th>\n",
       "      <th>ANREDE_KZ</th>\n",
       "      <th>FINANZ_MINIMALIST</th>\n",
       "      <th>FINANZ_SPARER</th>\n",
       "      <th>FINANZ_VORSORGER</th>\n",
       "      <th>FINANZ_ANLEGER</th>\n",
       "      <th>FINANZ_UNAUFFAELLIGER</th>\n",
       "      <th>FINANZ_HAUSBAUER</th>\n",
       "      <th>GREEN_AVANTGARDE</th>\n",
       "      <th>HEALTH_TYP</th>\n",
       "      <th>...</th>\n",
       "      <th>PLZ8_ANTG4</th>\n",
       "      <th>PLZ8_HHZ</th>\n",
       "      <th>PLZ8_GBZ</th>\n",
       "      <th>ARBEIT</th>\n",
       "      <th>ORTSGR_KLS9</th>\n",
       "      <th>RELAT_AB</th>\n",
       "      <th>decade</th>\n",
       "      <th>movement</th>\n",
       "      <th>life_stage</th>\n",
       "      <th>wealth</th>\n",
       "    </tr>\n",
       "  </thead>\n",
       "  <tbody>\n",
       "    <tr>\n",
       "      <th>0</th>\n",
       "      <td>4.0</td>\n",
       "      <td>2.0</td>\n",
       "      <td>5.0</td>\n",
       "      <td>1.0</td>\n",
       "      <td>5.0</td>\n",
       "      <td>2.0</td>\n",
       "      <td>1.0</td>\n",
       "      <td>3.0</td>\n",
       "      <td>0.0</td>\n",
       "      <td>2.0</td>\n",
       "      <td>...</td>\n",
       "      <td>0.0</td>\n",
       "      <td>4.0</td>\n",
       "      <td>5.0</td>\n",
       "      <td>2.0</td>\n",
       "      <td>1.0</td>\n",
       "      <td>1.0</td>\n",
       "      <td>2.0</td>\n",
       "      <td>0.0</td>\n",
       "      <td>3.0</td>\n",
       "      <td>4.0</td>\n",
       "    </tr>\n",
       "    <tr>\n",
       "      <th>1</th>\n",
       "      <td>4.0</td>\n",
       "      <td>2.0</td>\n",
       "      <td>5.0</td>\n",
       "      <td>1.0</td>\n",
       "      <td>5.0</td>\n",
       "      <td>1.0</td>\n",
       "      <td>1.0</td>\n",
       "      <td>2.0</td>\n",
       "      <td>1.0</td>\n",
       "      <td>1.0</td>\n",
       "      <td>...</td>\n",
       "      <td>0.0</td>\n",
       "      <td>3.0</td>\n",
       "      <td>4.0</td>\n",
       "      <td>3.0</td>\n",
       "      <td>7.0</td>\n",
       "      <td>3.0</td>\n",
       "      <td>3.0</td>\n",
       "      <td>1.0</td>\n",
       "      <td>5.0</td>\n",
       "      <td>1.0</td>\n",
       "    </tr>\n",
       "    <tr>\n",
       "      <th>2</th>\n",
       "      <td>3.0</td>\n",
       "      <td>2.0</td>\n",
       "      <td>5.0</td>\n",
       "      <td>2.0</td>\n",
       "      <td>4.0</td>\n",
       "      <td>3.0</td>\n",
       "      <td>3.0</td>\n",
       "      <td>1.0</td>\n",
       "      <td>1.0</td>\n",
       "      <td>3.0</td>\n",
       "      <td>...</td>\n",
       "      <td>0.0</td>\n",
       "      <td>4.0</td>\n",
       "      <td>4.0</td>\n",
       "      <td>3.0</td>\n",
       "      <td>5.0</td>\n",
       "      <td>2.0</td>\n",
       "      <td>5.0</td>\n",
       "      <td>1.0</td>\n",
       "      <td>4.0</td>\n",
       "      <td>3.0</td>\n",
       "    </tr>\n",
       "    <tr>\n",
       "      <th>3</th>\n",
       "      <td>4.0</td>\n",
       "      <td>2.0</td>\n",
       "      <td>2.0</td>\n",
       "      <td>3.0</td>\n",
       "      <td>3.0</td>\n",
       "      <td>3.0</td>\n",
       "      <td>1.0</td>\n",
       "      <td>3.0</td>\n",
       "      <td>0.0</td>\n",
       "      <td>1.0</td>\n",
       "      <td>...</td>\n",
       "      <td>2.0</td>\n",
       "      <td>4.0</td>\n",
       "      <td>2.0</td>\n",
       "      <td>4.0</td>\n",
       "      <td>8.0</td>\n",
       "      <td>5.0</td>\n",
       "      <td>4.0</td>\n",
       "      <td>0.0</td>\n",
       "      <td>1.0</td>\n",
       "      <td>2.0</td>\n",
       "    </tr>\n",
       "    <tr>\n",
       "      <th>4</th>\n",
       "      <td>4.0</td>\n",
       "      <td>2.0</td>\n",
       "      <td>5.0</td>\n",
       "      <td>1.0</td>\n",
       "      <td>5.0</td>\n",
       "      <td>1.0</td>\n",
       "      <td>2.0</td>\n",
       "      <td>3.0</td>\n",
       "      <td>0.0</td>\n",
       "      <td>2.0</td>\n",
       "      <td>...</td>\n",
       "      <td>0.0</td>\n",
       "      <td>4.0</td>\n",
       "      <td>4.0</td>\n",
       "      <td>4.0</td>\n",
       "      <td>5.0</td>\n",
       "      <td>3.0</td>\n",
       "      <td>1.0</td>\n",
       "      <td>0.0</td>\n",
       "      <td>4.0</td>\n",
       "      <td>5.0</td>\n",
       "    </tr>\n",
       "  </tbody>\n",
       "</table>\n",
       "<p>5 rows × 63 columns</p>\n",
       "</div>"
      ],
      "text/plain": [
       "   ALTERSKATEGORIE_GROB  ANREDE_KZ  FINANZ_MINIMALIST  FINANZ_SPARER  \\\n",
       "0                   4.0        2.0                5.0            1.0   \n",
       "1                   4.0        2.0                5.0            1.0   \n",
       "2                   3.0        2.0                5.0            2.0   \n",
       "3                   4.0        2.0                2.0            3.0   \n",
       "4                   4.0        2.0                5.0            1.0   \n",
       "\n",
       "   FINANZ_VORSORGER  FINANZ_ANLEGER  FINANZ_UNAUFFAELLIGER  FINANZ_HAUSBAUER  \\\n",
       "0               5.0             2.0                    1.0               3.0   \n",
       "1               5.0             1.0                    1.0               2.0   \n",
       "2               4.0             3.0                    3.0               1.0   \n",
       "3               3.0             3.0                    1.0               3.0   \n",
       "4               5.0             1.0                    2.0               3.0   \n",
       "\n",
       "   GREEN_AVANTGARDE  HEALTH_TYP   ...    PLZ8_ANTG4  PLZ8_HHZ  PLZ8_GBZ  \\\n",
       "0               0.0         2.0   ...           0.0       4.0       5.0   \n",
       "1               1.0         1.0   ...           0.0       3.0       4.0   \n",
       "2               1.0         3.0   ...           0.0       4.0       4.0   \n",
       "3               0.0         1.0   ...           2.0       4.0       2.0   \n",
       "4               0.0         2.0   ...           0.0       4.0       4.0   \n",
       "\n",
       "   ARBEIT  ORTSGR_KLS9  RELAT_AB  decade  movement  life_stage  wealth  \n",
       "0     2.0          1.0       1.0     2.0       0.0         3.0     4.0  \n",
       "1     3.0          7.0       3.0     3.0       1.0         5.0     1.0  \n",
       "2     3.0          5.0       2.0     5.0       1.0         4.0     3.0  \n",
       "3     4.0          8.0       5.0     4.0       0.0         1.0     2.0  \n",
       "4     4.0          5.0       3.0     1.0       0.0         4.0     5.0  \n",
       "\n",
       "[5 rows x 63 columns]"
      ]
     },
     "metadata": {},
     "output_type": "display_data"
    }
   ],
   "source": [
    "# If you've not yet cleaned the dataset of all NaN values, then investigate and\n",
    "# do that now.\n",
    "missing_data_treatment = Imputer(strategy='most_frequent')\n",
    "azdias_treated = pd.DataFrame(missing_data_treatment.fit_transform(azdias_below_30))  \n",
    "azdias_treated.columns = azdias_below_30.columns\n",
    "\n",
    "display(azdias_treated.head())\n"
   ]
  },
  {
   "cell_type": "code",
   "execution_count": 41,
   "metadata": {
    "scrolled": true
   },
   "outputs": [
    {
     "data": {
      "text/html": [
       "<div>\n",
       "<style scoped>\n",
       "    .dataframe tbody tr th:only-of-type {\n",
       "        vertical-align: middle;\n",
       "    }\n",
       "\n",
       "    .dataframe tbody tr th {\n",
       "        vertical-align: top;\n",
       "    }\n",
       "\n",
       "    .dataframe thead th {\n",
       "        text-align: right;\n",
       "    }\n",
       "</style>\n",
       "<table border=\"1\" class=\"dataframe\">\n",
       "  <thead>\n",
       "    <tr style=\"text-align: right;\">\n",
       "      <th></th>\n",
       "      <th>ALTERSKATEGORIE_GROB</th>\n",
       "      <th>ANREDE_KZ</th>\n",
       "      <th>FINANZ_MINIMALIST</th>\n",
       "      <th>FINANZ_SPARER</th>\n",
       "      <th>FINANZ_VORSORGER</th>\n",
       "      <th>FINANZ_ANLEGER</th>\n",
       "      <th>FINANZ_UNAUFFAELLIGER</th>\n",
       "      <th>FINANZ_HAUSBAUER</th>\n",
       "      <th>GREEN_AVANTGARDE</th>\n",
       "      <th>HEALTH_TYP</th>\n",
       "      <th>...</th>\n",
       "      <th>PLZ8_ANTG4</th>\n",
       "      <th>PLZ8_HHZ</th>\n",
       "      <th>PLZ8_GBZ</th>\n",
       "      <th>ARBEIT</th>\n",
       "      <th>ORTSGR_KLS9</th>\n",
       "      <th>RELAT_AB</th>\n",
       "      <th>decade</th>\n",
       "      <th>movement</th>\n",
       "      <th>life_stage</th>\n",
       "      <th>wealth</th>\n",
       "    </tr>\n",
       "  </thead>\n",
       "  <tbody>\n",
       "    <tr>\n",
       "      <th>0</th>\n",
       "      <td>1.184102</td>\n",
       "      <td>0.957933</td>\n",
       "      <td>1.409077</td>\n",
       "      <td>-1.155482</td>\n",
       "      <td>1.138133</td>\n",
       "      <td>-0.570958</td>\n",
       "      <td>-1.184858</td>\n",
       "      <td>-0.081153</td>\n",
       "      <td>-0.530442</td>\n",
       "      <td>-0.311795</td>\n",
       "      <td>...</td>\n",
       "      <td>-0.934907</td>\n",
       "      <td>0.419647</td>\n",
       "      <td>1.485680</td>\n",
       "      <td>-1.173205</td>\n",
       "      <td>-1.868113</td>\n",
       "      <td>-1.526014</td>\n",
       "      <td>-1.633547</td>\n",
       "      <td>-0.530442</td>\n",
       "      <td>0.094986</td>\n",
       "      <td>0.365923</td>\n",
       "    </tr>\n",
       "    <tr>\n",
       "      <th>1</th>\n",
       "      <td>1.184102</td>\n",
       "      <td>0.957933</td>\n",
       "      <td>1.409077</td>\n",
       "      <td>-1.155482</td>\n",
       "      <td>1.138133</td>\n",
       "      <td>-1.249960</td>\n",
       "      <td>-1.184858</td>\n",
       "      <td>-0.791347</td>\n",
       "      <td>1.885219</td>\n",
       "      <td>-1.633781</td>\n",
       "      <td>...</td>\n",
       "      <td>-0.934907</td>\n",
       "      <td>-0.616420</td>\n",
       "      <td>0.574231</td>\n",
       "      <td>-0.171445</td>\n",
       "      <td>0.743444</td>\n",
       "      <td>-0.052103</td>\n",
       "      <td>-0.950625</td>\n",
       "      <td>1.885219</td>\n",
       "      <td>1.439010</td>\n",
       "      <td>-1.654045</td>\n",
       "    </tr>\n",
       "    <tr>\n",
       "      <th>2</th>\n",
       "      <td>0.200529</td>\n",
       "      <td>0.957933</td>\n",
       "      <td>1.409077</td>\n",
       "      <td>-0.482116</td>\n",
       "      <td>0.411859</td>\n",
       "      <td>0.108044</td>\n",
       "      <td>0.244259</td>\n",
       "      <td>-1.501540</td>\n",
       "      <td>1.885219</td>\n",
       "      <td>1.010191</td>\n",
       "      <td>...</td>\n",
       "      <td>-0.934907</td>\n",
       "      <td>0.419647</td>\n",
       "      <td>0.574231</td>\n",
       "      <td>-0.171445</td>\n",
       "      <td>-0.127075</td>\n",
       "      <td>-0.789058</td>\n",
       "      <td>0.415220</td>\n",
       "      <td>1.885219</td>\n",
       "      <td>0.766998</td>\n",
       "      <td>-0.307399</td>\n",
       "    </tr>\n",
       "    <tr>\n",
       "      <th>3</th>\n",
       "      <td>1.184102</td>\n",
       "      <td>0.957933</td>\n",
       "      <td>-0.768685</td>\n",
       "      <td>0.191250</td>\n",
       "      <td>-0.314415</td>\n",
       "      <td>0.108044</td>\n",
       "      <td>-1.184858</td>\n",
       "      <td>-0.081153</td>\n",
       "      <td>-0.530442</td>\n",
       "      <td>-1.633781</td>\n",
       "      <td>...</td>\n",
       "      <td>1.819722</td>\n",
       "      <td>0.419647</td>\n",
       "      <td>-1.248668</td>\n",
       "      <td>0.830315</td>\n",
       "      <td>1.178704</td>\n",
       "      <td>1.421808</td>\n",
       "      <td>-0.267702</td>\n",
       "      <td>-0.530442</td>\n",
       "      <td>-1.249039</td>\n",
       "      <td>-0.980722</td>\n",
       "    </tr>\n",
       "    <tr>\n",
       "      <th>4</th>\n",
       "      <td>1.184102</td>\n",
       "      <td>0.957933</td>\n",
       "      <td>1.409077</td>\n",
       "      <td>-1.155482</td>\n",
       "      <td>1.138133</td>\n",
       "      <td>-1.249960</td>\n",
       "      <td>-0.470299</td>\n",
       "      <td>-0.081153</td>\n",
       "      <td>-0.530442</td>\n",
       "      <td>-0.311795</td>\n",
       "      <td>...</td>\n",
       "      <td>-0.934907</td>\n",
       "      <td>0.419647</td>\n",
       "      <td>0.574231</td>\n",
       "      <td>0.830315</td>\n",
       "      <td>-0.127075</td>\n",
       "      <td>-0.052103</td>\n",
       "      <td>-2.316470</td>\n",
       "      <td>-0.530442</td>\n",
       "      <td>0.766998</td>\n",
       "      <td>1.039246</td>\n",
       "    </tr>\n",
       "  </tbody>\n",
       "</table>\n",
       "<p>5 rows × 63 columns</p>\n",
       "</div>"
      ],
      "text/plain": [
       "   ALTERSKATEGORIE_GROB  ANREDE_KZ  FINANZ_MINIMALIST  FINANZ_SPARER  \\\n",
       "0              1.184102   0.957933           1.409077      -1.155482   \n",
       "1              1.184102   0.957933           1.409077      -1.155482   \n",
       "2              0.200529   0.957933           1.409077      -0.482116   \n",
       "3              1.184102   0.957933          -0.768685       0.191250   \n",
       "4              1.184102   0.957933           1.409077      -1.155482   \n",
       "\n",
       "   FINANZ_VORSORGER  FINANZ_ANLEGER  FINANZ_UNAUFFAELLIGER  FINANZ_HAUSBAUER  \\\n",
       "0          1.138133       -0.570958              -1.184858         -0.081153   \n",
       "1          1.138133       -1.249960              -1.184858         -0.791347   \n",
       "2          0.411859        0.108044               0.244259         -1.501540   \n",
       "3         -0.314415        0.108044              -1.184858         -0.081153   \n",
       "4          1.138133       -1.249960              -0.470299         -0.081153   \n",
       "\n",
       "   GREEN_AVANTGARDE  HEALTH_TYP    ...     PLZ8_ANTG4  PLZ8_HHZ  PLZ8_GBZ  \\\n",
       "0         -0.530442   -0.311795    ...      -0.934907  0.419647  1.485680   \n",
       "1          1.885219   -1.633781    ...      -0.934907 -0.616420  0.574231   \n",
       "2          1.885219    1.010191    ...      -0.934907  0.419647  0.574231   \n",
       "3         -0.530442   -1.633781    ...       1.819722  0.419647 -1.248668   \n",
       "4         -0.530442   -0.311795    ...      -0.934907  0.419647  0.574231   \n",
       "\n",
       "     ARBEIT  ORTSGR_KLS9  RELAT_AB    decade  movement  life_stage    wealth  \n",
       "0 -1.173205    -1.868113 -1.526014 -1.633547 -0.530442    0.094986  0.365923  \n",
       "1 -0.171445     0.743444 -0.052103 -0.950625  1.885219    1.439010 -1.654045  \n",
       "2 -0.171445    -0.127075 -0.789058  0.415220  1.885219    0.766998 -0.307399  \n",
       "3  0.830315     1.178704  1.421808 -0.267702 -0.530442   -1.249039 -0.980722  \n",
       "4  0.830315    -0.127075 -0.052103 -2.316470 -0.530442    0.766998  1.039246  \n",
       "\n",
       "[5 rows x 63 columns]"
      ]
     },
     "metadata": {},
     "output_type": "display_data"
    }
   ],
   "source": [
    "# Apply feature scaling to the general population demographics data.\n",
    "\n",
    "data_scaler = StandardScaler() \n",
    "azdias_scaled = data_scaler.fit_transform(azdias_treated)\n",
    "azdias_scaled = pd.DataFrame(azdias_scaled)\n",
    "azdias_scaled.columns = azdias_below_30.columns\n",
    "\n",
    "display(azdias_scaled.head())\n"
   ]
  },
  {
   "cell_type": "markdown",
   "metadata": {},
   "source": [
    "### Discussion 2.1: Apply Feature Scaling\n",
    "\n",
    "(Double-click this cell and replace this text with your own text, reporting your decisions regarding feature scaling.)\n",
    "the missing values are replaced with the most frequent value in each column and all data are scaled"
   ]
  },
  {
   "cell_type": "markdown",
   "metadata": {},
   "source": [
    "### Step 2.2: Perform Dimensionality Reduction\n",
    "\n",
    "On your scaled data, you are now ready to apply dimensionality reduction techniques.\n",
    "\n",
    "- Use sklearn's [PCA](http://scikit-learn.org/stable/modules/generated/sklearn.decomposition.PCA.html) class to apply principal component analysis on the data, thus finding the vectors of maximal variance in the data. To start, you should not set any parameters (so all components are computed) or set a number of components that is at least half the number of features (so there's enough features to see the general trend in variability).\n",
    "- Check out the ratio of variance explained by each principal component as well as the cumulative variance explained. Try plotting the cumulative or sequential values using matplotlib's [`plot()`](https://matplotlib.org/api/_as_gen/matplotlib.pyplot.plot.html) function. Based on what you find, select a value for the number of transformed features you'll retain for the clustering part of the project.\n",
    "- Once you've made a choice for the number of components to keep, make sure you re-fit a PCA instance to perform the decided-on transformation."
   ]
  },
  {
   "cell_type": "code",
   "execution_count": 42,
   "metadata": {},
   "outputs": [],
   "source": [
    "# Apply PCA to the data.\n",
    "pca = PCA()\n",
    "azdias_pca = pca.fit_transform(azdias_scaled)"
   ]
  },
  {
   "cell_type": "code",
   "execution_count": 43,
   "metadata": {},
   "outputs": [
    {
     "data": {
      "image/png": "[encoded data removed]",
      "text/plain": [
       "<matplotlib.figure.Figure at 0x7f044960d3c8>"
      ]
     },
     "metadata": {
      "needs_background": "light"
     },
     "output_type": "display_data"
    }
   ],
   "source": [
    "# Investigate the variance accounted for by each principal component.\n",
    "plt.bar(range(len(pca.explained_variance_ratio_)), pca.explained_variance_ratio_)\n",
    "plt.title(\"The Variance Explained by Component\")\n",
    "plt.xlabel(\"PC\")\n",
    "plt.ylabel(\"Proportion of variance explained\")\n",
    "plt.show()"
   ]
  },
  {
   "cell_type": "code",
   "execution_count": 44,
   "metadata": {},
   "outputs": [
    {
     "data": {
      "image/png": "[encoded data removed]",
      "text/plain": [
       "<matplotlib.figure.Figure at 0x7f044bd9ebe0>"
      ]
     },
     "metadata": {
      "needs_background": "light"
     },
     "output_type": "display_data"
    }
   ],
   "source": [
    "plt.plot(np.cumsum(pca.explained_variance_ratio_))\n",
    "plt.xlabel('number of components')\n",
    "plt.ylabel('cumulative explained variance');\n"
   ]
  },
  {
   "cell_type": "code",
   "execution_count": 45,
   "metadata": {},
   "outputs": [],
   "source": [
    "# Re-apply PCA to the data while selecting for number of components to retain.\n",
    "\n",
    "pca_32 = PCA(n_components=32)\n",
    "azdias_pca_32 = pca_32.fit_transform(azdias_scaled)"
   ]
  },
  {
   "cell_type": "markdown",
   "metadata": {},
   "source": [
    "### Discussion 2.2: Perform Dimensionality Reduction\n",
    "\n",
    "(Double-click this cell and replace this text with your own text, reporting your findings and decisions regarding dimensionality reduction. How many principal components / transformed features are you retaining for the next step of the analysis?)\n",
    "I decided to reduce the number of features to exactly the half which proved to be enough to explain high propotion of the variance in the dataset as shown in the graph above."
   ]
  },
  {
   "cell_type": "markdown",
   "metadata": {},
   "source": [
    "### Step 2.3: Interpret Principal Components\n",
    "\n",
    "Now that we have our transformed principal components, it's a nice idea to check out the weight of each variable on the first few components to see if they can be interpreted in some fashion.\n",
    "\n",
    "As a reminder, each principal component is a unit vector that points in the direction of highest variance (after accounting for the variance captured by earlier principal components). The further a weight is from zero, the more the principal component is in the direction of the corresponding feature. If two features have large weights of the same sign (both positive or both negative), then increases in one tend expect to be associated with increases in the other. To contrast, features with different signs can be expected to show a negative correlation: increases in one variable should result in a decrease in the other.\n",
    "\n",
    "- To investigate the features, you should map each weight to their corresponding feature name, then sort the features according to weight. The most interesting features for each principal component, then, will be those at the beginning and end of the sorted list. Use the data dictionary document to help you understand these most prominent features, their relationships, and what a positive or negative value on the principal component might indicate.\n",
    "- You should investigate and interpret feature associations from the first three principal components in this substep. To help facilitate this, you should write a function that you can call at any time to print the sorted list of feature weights, for the *i*-th principal component. This might come in handy in the next step of the project, when you interpret the tendencies of the discovered clusters."
   ]
  },
  {
   "cell_type": "code",
   "execution_count": 46,
   "metadata": {},
   "outputs": [],
   "source": [
    "# Map weights for the first principal component to corresponding feature names\n",
    "# and then print the linked values, sorted by weight.\n",
    "# HINT: Try defining a function here or in a new cell that you can reuse in the\n",
    "# other cells.\n",
    "def pca_features_weights(ith, pca):\n",
    "    pc_list = pd.DataFrame(pca.components_, columns=list(azdias_scaled.columns))\n",
    "    pc_weights = pc_list.iloc[ith]\n",
    "    return pc_weights\n"
   ]
  },
  {
   "cell_type": "code",
   "execution_count": 47,
   "metadata": {
    "scrolled": true
   },
   "outputs": [
    {
     "data": {
      "text/plain": [
       "PLZ8_ANTG3               0.221177\n",
       "PLZ8_ANTG4               0.213245\n",
       "HH_EINKOMMEN_SCORE       0.196319\n",
       "ORTSGR_KLS9              0.194878\n",
       "EWDICHTE                 0.192623\n",
       "FINANZ_SPARER            0.175194\n",
       "FINANZ_HAUSBAUER         0.152082\n",
       "KBA05_ANTG4              0.150689\n",
       "PLZ8_ANTG2               0.150088\n",
       "SEMIO_PFLICHT            0.142388\n",
       "SEMIO_REL                0.140819\n",
       "ARBEIT                   0.138478\n",
       "decade                   0.134644\n",
       "KBA05_ANTG3              0.134213\n",
       "ANZ_HAUSHALTE_AKTIV      0.132914\n",
       "RELAT_AB                 0.131298\n",
       "SEMIO_RAT                0.117625\n",
       "SEMIO_TRADV              0.115736\n",
       "FINANZ_UNAUFFAELLIGER    0.102798\n",
       "SEMIO_MAT                0.097207\n",
       "SEMIO_FAM                0.095094\n",
       "FINANZ_ANLEGER           0.093073\n",
       "SEMIO_KULT               0.092384\n",
       "REGIOTYP                 0.058167\n",
       "OST_WEST_KZ              0.051822\n",
       "SEMIO_SOZ                0.050299\n",
       "HEALTH_TYP               0.046038\n",
       "PLZ8_HHZ                 0.042562\n",
       "KKK                      0.036771\n",
       "SEMIO_KAEM               0.034388\n",
       "                           ...   \n",
       "KBA05_ANTG2              0.012802\n",
       "ANREDE_KZ                0.003712\n",
       "wealth                   0.000442\n",
       "SOHO_KZ                 -0.001838\n",
       "SEMIO_KRIT              -0.003302\n",
       "ANZ_TITEL               -0.004401\n",
       "ONLINE_AFFINITAET       -0.026699\n",
       "RETOURTYP_BK_S          -0.035988\n",
       "SEMIO_VERT              -0.038024\n",
       "MIN_GEBAEUDEJAHR        -0.038874\n",
       "WOHNDAUER_2008          -0.067413\n",
       "KBA13_ANZAHL_PKW        -0.071858\n",
       "ANZ_PERSONEN            -0.074068\n",
       "SEMIO_LUST              -0.093531\n",
       "SEMIO_ERL               -0.099203\n",
       "GREEN_AVANTGARDE        -0.107688\n",
       "movement                -0.107688\n",
       "GEBAEUDETYP_RASTER      -0.116387\n",
       "life_stage              -0.122606\n",
       "BALLRAUM                -0.127678\n",
       "FINANZ_VORSORGER        -0.141952\n",
       "ALTERSKATEGORIE_GROB    -0.149839\n",
       "PLZ8_GBZ                -0.162786\n",
       "INNENSTADT              -0.163784\n",
       "KONSUMNAEHE             -0.164835\n",
       "KBA05_ANTG1             -0.211132\n",
       "KBA05_GBZ               -0.212225\n",
       "PLZ8_ANTG1              -0.220952\n",
       "MOBI_REGIO              -0.221581\n",
       "FINANZ_MINIMALIST       -0.232654\n",
       "Name: 0, Length: 63, dtype: float64"
      ]
     },
     "metadata": {},
     "output_type": "display_data"
    }
   ],
   "source": [
    "display(pca_features_weights(0,pca_32).sort_values(ascending=False))"
   ]
  },
  {
   "cell_type": "code",
   "execution_count": 48,
   "metadata": {},
   "outputs": [
    {
     "data": {
      "text/plain": [
       "ALTERSKATEGORIE_GROB     0.242960\n",
       "SEMIO_ERL                0.223024\n",
       "FINANZ_VORSORGER         0.216342\n",
       "SEMIO_LUST               0.171902\n",
       "RETOURTYP_BK_S           0.159013\n",
       "FINANZ_HAUSBAUER         0.137793\n",
       "SEMIO_KAEM               0.123557\n",
       "PLZ8_ANTG3               0.121071\n",
       "SEMIO_KRIT               0.120170\n",
       "EWDICHTE                 0.118985\n",
       "PLZ8_ANTG4               0.118332\n",
       "ORTSGR_KLS9              0.117921\n",
       "W_KEIT_KIND_HH           0.117647\n",
       "ANREDE_KZ                0.097148\n",
       "KBA05_ANTG4              0.090797\n",
       "ARBEIT                   0.085732\n",
       "PLZ8_ANTG2               0.083185\n",
       "RELAT_AB                 0.082626\n",
       "ANZ_HAUSHALTE_AKTIV      0.080098\n",
       "SEMIO_DOM                0.079641\n",
       "HH_EINKOMMEN_SCORE       0.079600\n",
       "KBA05_ANTG3              0.063847\n",
       "WOHNDAUER_2008           0.052008\n",
       "FINANZ_MINIMALIST        0.036153\n",
       "ANZ_HH_TITEL             0.036053\n",
       "OST_WEST_KZ              0.032658\n",
       "PLZ8_HHZ                 0.020675\n",
       "REGIOTYP                 0.016501\n",
       "ANZ_TITEL                0.006669\n",
       "KKK                      0.002308\n",
       "                           ...   \n",
       "life_stage              -0.011008\n",
       "movement                -0.027613\n",
       "GREEN_AVANTGARDE        -0.027613\n",
       "KBA13_ANZAHL_PKW        -0.045192\n",
       "MIN_GEBAEUDEJAHR        -0.052540\n",
       "HEALTH_TYP              -0.053932\n",
       "GEBAEUDETYP_RASTER      -0.059650\n",
       "ANZ_PERSONEN            -0.071971\n",
       "SEMIO_VERT              -0.079108\n",
       "BALLRAUM                -0.079594\n",
       "PLZ8_GBZ                -0.091703\n",
       "KONSUMNAEHE             -0.092003\n",
       "KBA05_ANTG1             -0.095481\n",
       "INNENSTADT              -0.097914\n",
       "SEMIO_SOZ               -0.100889\n",
       "MOBI_REGIO              -0.103225\n",
       "KBA05_GBZ               -0.114082\n",
       "PLZ8_ANTG1              -0.118607\n",
       "SEMIO_MAT               -0.152873\n",
       "SEMIO_RAT               -0.154620\n",
       "ONLINE_AFFINITAET       -0.168302\n",
       "SEMIO_FAM               -0.178199\n",
       "FINANZ_ANLEGER          -0.194858\n",
       "SEMIO_PFLICHT           -0.212721\n",
       "SEMIO_KULT              -0.214140\n",
       "FINANZ_SPARER           -0.215910\n",
       "FINANZ_UNAUFFAELLIGER   -0.216054\n",
       "SEMIO_TRADV             -0.217441\n",
       "decade                  -0.226637\n",
       "SEMIO_REL               -0.242262\n",
       "Name: 1, Length: 63, dtype: float64"
      ]
     },
     "metadata": {},
     "output_type": "display_data"
    }
   ],
   "source": [
    "# Map weights for the second principal component to corresponding feature names\n",
    "# and then print the linked values, sorted by weight.\n",
    "display(pca_features_weights(1,pca_32).sort_values(ascending=False))"
   ]
  },
  {
   "cell_type": "code",
   "execution_count": 49,
   "metadata": {},
   "outputs": [
    {
     "data": {
      "text/plain": [
       "SEMIO_VERT               0.343534\n",
       "SEMIO_SOZ                0.261816\n",
       "SEMIO_FAM                0.248462\n",
       "SEMIO_KULT               0.233059\n",
       "FINANZ_MINIMALIST        0.151822\n",
       "RETOURTYP_BK_S           0.110231\n",
       "FINANZ_VORSORGER         0.101855\n",
       "W_KEIT_KIND_HH           0.086578\n",
       "ALTERSKATEGORIE_GROB     0.079745\n",
       "SEMIO_REL                0.067334\n",
       "SEMIO_LUST               0.064870\n",
       "SEMIO_MAT                0.055632\n",
       "ORTSGR_KLS9              0.055446\n",
       "EWDICHTE                 0.054663\n",
       "PLZ8_ANTG4               0.053787\n",
       "PLZ8_ANTG3               0.053014\n",
       "movement                 0.046773\n",
       "GREEN_AVANTGARDE         0.046773\n",
       "ARBEIT                   0.040155\n",
       "RELAT_AB                 0.037166\n",
       "PLZ8_ANTG2               0.035654\n",
       "KBA05_ANTG4              0.033185\n",
       "WOHNDAUER_2008           0.032204\n",
       "ANZ_HAUSHALTE_AKTIV      0.029567\n",
       "OST_WEST_KZ              0.017120\n",
       "ANZ_HH_TITEL             0.015122\n",
       "KBA05_ANTG3              0.014144\n",
       "ANZ_TITEL                0.009866\n",
       "PLZ8_HHZ                 0.006874\n",
       "wealth                   0.001185\n",
       "                           ...   \n",
       "life_stage              -0.010548\n",
       "ANZ_PERSONEN            -0.012372\n",
       "HH_EINKOMMEN_SCORE      -0.014380\n",
       "KKK                     -0.016328\n",
       "MIN_GEBAEUDEJAHR        -0.019274\n",
       "KBA13_ANZAHL_PKW        -0.025293\n",
       "KBA05_ANTG1             -0.025761\n",
       "MOBI_REGIO              -0.030844\n",
       "KBA05_GBZ               -0.033190\n",
       "HEALTH_TYP              -0.034002\n",
       "GEBAEUDETYP_RASTER      -0.034869\n",
       "FINANZ_HAUSBAUER        -0.036511\n",
       "BALLRAUM                -0.041249\n",
       "PLZ8_GBZ                -0.043759\n",
       "KONSUMNAEHE             -0.044218\n",
       "INNENSTADT              -0.050285\n",
       "PLZ8_ANTG1              -0.053715\n",
       "ONLINE_AFFINITAET       -0.057273\n",
       "SEMIO_TRADV             -0.079503\n",
       "SEMIO_PFLICHT           -0.080167\n",
       "FINANZ_UNAUFFAELLIGER   -0.101446\n",
       "FINANZ_SPARER           -0.107001\n",
       "decade                  -0.112029\n",
       "SEMIO_ERL               -0.174707\n",
       "FINANZ_ANLEGER          -0.192270\n",
       "SEMIO_RAT               -0.217436\n",
       "SEMIO_KRIT              -0.274074\n",
       "SEMIO_DOM               -0.311721\n",
       "SEMIO_KAEM              -0.333143\n",
       "ANREDE_KZ               -0.366355\n",
       "Name: 2, Length: 63, dtype: float64"
      ]
     },
     "metadata": {},
     "output_type": "display_data"
    }
   ],
   "source": [
    "# Map weights for the third principal component to corresponding feature names\n",
    "# and then print the linked values, sorted by weight.\n",
    "display(pca_features_weights(2,pca_32).sort_values(ascending=False))"
   ]
  },
  {
   "cell_type": "markdown",
   "metadata": {},
   "source": [
    "### Discussion 2.3: Interpret Principal Components\n",
    "\n",
    "(Double-click this cell and replace this text with your own text, reporting your observations from detailed investigation of the first few principal components generated. Can we interpret positive and negative values from them in a meaningful way?)\n",
    "\n",
    "form the first principle component, we can see that, \n",
    "PLZ8_ANTG3, PLZ8_ANTG4 & HH_EINKOMMEN_SCORE are positively correlated with each other whereas they are negatively correlated with FINANZ_MINIMALIST & MOBI_REGIO. This might say that people who live in PLZ8 region where there is a high number of 6-10 & 10+ family houses, they tend to be poorer ,and have less financial interests and lower movement. (region & money)\n",
    "\n",
    "from the second principle component:\n",
    "ALTERSKATEGORIE_GROB, SEMIO_ERL, FINANZ_VORSORGER are positively correlated with each other whereas they are negatively correlated with SEMIO_REL, DECADE, SEMIO_TRADV. This might indicate that older people are less event-oriented, and more religious and traditional. the negative correlation between age and decade makes perfect sense as older people were born in older decades. (age and common characterstics)\n",
    "\n",
    "from the third principle component:\n",
    "SEMIO_VERT, SEMIO_SOZ, SEMIO_FAM & SEMIO_KULT are positively correlated with each other whereas they are negatively correlated with ANREDE_KZ, SEMIO_KAEM, SEMIO_DOM, SEMIO_KRIT & SEMIO_RAT. This indicates correlation between gender and common characterstics: the data might say if you're a female you are more likely to be dreamful, socially-minded, family-minded & culture-minded whereas if you're a man, you're more likely to be dominant-minded, critical-minded and rational.\n"
   ]
  },
  {
   "cell_type": "markdown",
   "metadata": {},
   "source": [
    "## Step 3: Clustering\n",
    "\n",
    "### Step 3.1: Apply Clustering to General Population\n",
    "\n",
    "You've assessed and cleaned the demographics data, then scaled and transformed them. Now, it's time to see how the data clusters in the principal components space. In this substep, you will apply k-means clustering to the dataset and use the average within-cluster distances from each point to their assigned cluster's centroid to decide on a number of clusters to keep.\n",
    "\n",
    "- Use sklearn's [KMeans](http://scikit-learn.org/stable/modules/generated/sklearn.cluster.KMeans.html#sklearn.cluster.KMeans) class to perform k-means clustering on the PCA-transformed data.\n",
    "- Then, compute the average difference from each point to its assigned cluster's center. **Hint**: The KMeans object's `.score()` method might be useful here, but note that in sklearn, scores tend to be defined so that larger is better. Try applying it to a small, toy dataset, or use an internet search to help your understanding.\n",
    "- Perform the above two steps for a number of different cluster counts. You can then see how the average distance decreases with an increasing number of clusters. However, each additional cluster provides a smaller net benefit. Use this fact to select a final number of clusters in which to group the data. **Warning**: because of the large size of the dataset, it can take a long time for the algorithm to resolve. The more clusters to fit, the longer the algorithm will take. You should test for cluster counts through at least 10 clusters to get the full picture, but you shouldn't need to test for a number of clusters above about 30.\n",
    "- Once you've selected a final number of clusters to use, re-fit a KMeans instance to perform the clustering operation. Make sure that you also obtain the cluster assignments for the general demographics data, since you'll be using them in the final Step 3.3."
   ]
  },
  {
   "cell_type": "code",
   "execution_count": 50,
   "metadata": {},
   "outputs": [],
   "source": [
    "#taken from Udacity lessons\n",
    "def get_kmeans_score(data, center):\n",
    "    kmeans = KMeans(n_clusters=center)\n",
    "    model = kmeans.fit(data)\n",
    "    score = np.abs(model.score(data))   \n",
    "    return score\n",
    "\n",
    "# Over a number of different cluster counts...\n",
    "\n",
    "\n",
    "    # run k-means clustering on the data and...\n",
    "    \n",
    "    \n",
    "    # compute the average within-cluster distances.\n",
    "    \n",
    "scores = []\n",
    "n_centers = list(range(1,25))\n",
    "\n",
    "for center in n_centers:\n",
    "    scores.append(get_kmeans_score(azdias_pca_32, center))"
   ]
  },
  {
   "cell_type": "code",
   "execution_count": 51,
   "metadata": {},
   "outputs": [
    {
     "data": {
      "image/png": "[encoded data removed]",
      "text/plain": [
       "<matplotlib.figure.Figure at 0x7f0488006438>"
      ]
     },
     "metadata": {
      "needs_background": "light"
     },
     "output_type": "display_data"
    }
   ],
   "source": [
    "# Investigate the change in within-cluster distance across number of clusters.\n",
    "# HINT: Use matplotlib's plot function to visualize this relationship.\n",
    "\n",
    "plt.plot(n_centers, scores, linestyle='--', marker='o', color='b');\n",
    "plt.xlabel('K');\n",
    "plt.ylabel('SSE');\n",
    "plt.title('SSE vs. K');"
   ]
  },
  {
   "cell_type": "code",
   "execution_count": 64,
   "metadata": {},
   "outputs": [],
   "source": [
    "# Re-fit the k-means model with the selected number of clusters and obtain\n",
    "# cluster predictions for the general population demographics data.\n",
    "kmeans_13 = KMeans(n_clusters=13)\n",
    "model_13 = kmeans_13.fit(azdias_pca_32)\n",
    "azdias_labels_13 = model_13.predict(azdias_pca_32)"
   ]
  },
  {
   "cell_type": "markdown",
   "metadata": {},
   "source": [
    "### Discussion 3.1: Apply Clustering to General Population\n",
    "\n",
    "(Double-click this cell and replace this text with your own text, reporting your findings and decisions regarding clustering. Into how many clusters have you decided to segment the population?)\n",
    "\n",
    "Based on the graph above, I decided to go with 13 clusters as this is where I can see the elbow is."
   ]
  },
  {
   "cell_type": "markdown",
   "metadata": {},
   "source": [
    "### Step 3.2: Apply All Steps to the Customer Data\n",
    "\n",
    "Now that you have clusters and cluster centers for the general population, it's time to see how the customer data maps on to those clusters. Take care to not confuse this for re-fitting all of the models to the customer data. Instead, you're going to use the fits from the general population to clean, transform, and cluster the customer data. In the last step of the project, you will interpret how the general population fits apply to the customer data.\n",
    "\n",
    "- Don't forget when loading in the customers data, that it is semicolon (`;`) delimited.\n",
    "- Apply the same feature wrangling, selection, and engineering steps to the customer demographics using the `clean_data()` function you created earlier. (You can assume that the customer demographics data has similar meaning behind missing data patterns as the general demographics data.)\n",
    "- Use the sklearn objects from the general demographics data, and apply their transformations to the customers data. That is, you should not be using a `.fit()` or `.fit_transform()` method to re-fit the old objects, nor should you be creating new sklearn objects! Carry the data through the feature scaling, PCA, and clustering steps, obtaining cluster assignments for all of the data in the customer demographics data."
   ]
  },
  {
   "cell_type": "code",
   "execution_count": 68,
   "metadata": {},
   "outputs": [],
   "source": [
    "# Load in the customer demographics data.\n",
    "customers = pd.read_csv('Udacity_CUSTOMERS_Subset.csv', delimiter=';')"
   ]
  },
  {
   "cell_type": "code",
   "execution_count": 69,
   "metadata": {},
   "outputs": [],
   "source": [
    "# Apply preprocessing, feature transformation, and clustering from the general\n",
    "# demographics onto the customer data, obtaining cluster predictions for the\n",
    "# customer demographics data.\n",
    "\n",
    "customers_clean = clean_data(customers)\n",
    "\n",
    "customers_treated = pd.DataFrame(missing_data_treatment.transform(customers_clean))  \n",
    "customers_treated.columns = customers_clean.columns\n",
    "\n",
    "customers_scaled = data_scaler.transform(customers_treated)\n",
    "customers_scaled = pd.DataFrame(customers_scaled)\n",
    "customers_scaled.columns = customers_clean.columns\n",
    "\n",
    "customers_pca_32 = pca_32.transform(customers_scaled)\n",
    "\n",
    "customers_labels = model_13.predict(customers_pca_32)"
   ]
  },
  {
   "cell_type": "code",
   "execution_count": 70,
   "metadata": {},
   "outputs": [],
   "source": [
    "def calculate_perc(labels):\n",
    "    unique_lables = np.unique(labels)\n",
    "    n_labels = len(unique_lables)\n",
    "    count_all = len(labels)\n",
    "    labels_perc = []\n",
    "    for i in range(n_labels):\n",
    "        count = (labels == i).sum()\n",
    "        perc = (count / count_all) * 100 \n",
    "        labels_perc.append(perc)\n",
    "    return dict(zip(unique_lables,labels_perc))"
   ]
  },
  {
   "cell_type": "markdown",
   "metadata": {},
   "source": [
    "### Step 3.3: Compare Customer Data to Demographics Data\n",
    "\n",
    "At this point, you have clustered data based on demographics of the general population of Germany, and seen how the customer data for a mail-order sales company maps onto those demographic clusters. In this final substep, you will compare the two cluster distributions to see where the strongest customer base for the company is.\n",
    "\n",
    "Consider the proportion of persons in each cluster for the general population, and the proportions for the customers. If we think the company's customer base to be universal, then the cluster assignment proportions should be fairly similar between the two. If there are only particular segments of the population that are interested in the company's products, then we should see a mismatch from one to the other. If there is a higher proportion of persons in a cluster for the customer data compared to the general population (e.g. 5% of persons are assigned to a cluster for the general population, but 15% of the customer data is closest to that cluster's centroid) then that suggests the people in that cluster to be a target audience for the company. On the other hand, the proportion of the data in a cluster being larger in the general population than the customer data (e.g. only 2% of customers closest to a population centroid that captures 6% of the data) suggests that group of persons to be outside of the target demographics.\n",
    "\n",
    "Take a look at the following points in this step:\n",
    "\n",
    "- Compute the proportion of data points in each cluster for the general population and the customer data. Visualizations will be useful here: both for the individual dataset proportions, but also to visualize the ratios in cluster representation between groups. Seaborn's [`countplot()`](https://seaborn.pydata.org/generated/seaborn.countplot.html) or [`barplot()`](https://seaborn.pydata.org/generated/seaborn.barplot.html) function could be handy.\n",
    "  - Recall the analysis you performed in step 1.1.3 of the project, where you separated out certain data points from the dataset if they had more than a specified threshold of missing values. If you found that this group was qualitatively different from the main bulk of the data, you should treat this as an additional data cluster in this analysis. Make sure that you account for the number of data points in this subset, for both the general population and customer datasets, when making your computations!\n",
    "- Which cluster or clusters are overrepresented in the customer dataset compared to the general population? Select at least one such cluster and infer what kind of people might be represented by that cluster. Use the principal component interpretations from step 2.3 or look at additional components to help you make this inference. Alternatively, you can use the `.inverse_transform()` method of the PCA and StandardScaler objects to transform centroids back to the original data space and interpret the retrieved values directly.\n",
    "- Perform a similar investigation for the underrepresented clusters. Which cluster or clusters are underrepresented in the customer dataset compared to the general population, and what kinds of people are typified by these clusters?"
   ]
  },
  {
   "cell_type": "code",
   "execution_count": 71,
   "metadata": {},
   "outputs": [
    {
     "data": {
      "text/plain": [
       "Text(0.5,1,'General Population')"
      ]
     },
     "execution_count": 71,
     "metadata": {},
     "output_type": "execute_result"
    },
    {
     "data": {
      "image/png": "[encoded data removed]",
      "text/plain": [
       "<matplotlib.figure.Figure at 0x7f044794be48>"
      ]
     },
     "metadata": {
      "needs_background": "light"
     },
     "output_type": "display_data"
    }
   ],
   "source": [
    "# Compare the proportion of data in each cluster for the customer data to the\n",
    "# proportion of data in each cluster for the general population.\n",
    "\n",
    "figure, axs = plt.subplots(nrows=1, ncols=2, figsize = (14,6))\n",
    "figure.subplots_adjust(hspace = 1, wspace=.5)\n",
    "\n",
    "sns.countplot(customers_labels, ax=axs[0])\n",
    "axs[0].set_title('mail-order Customers')\n",
    "sns.countplot(azdias_labels_13, ax=axs[1])\n",
    "axs[1].set_title('General Population')"
   ]
  },
  {
   "cell_type": "code",
   "execution_count": 72,
   "metadata": {},
   "outputs": [],
   "source": [
    "cutomers_perc = calculate_perc(customers_labels)\n",
    "azdias_perc = calculate_perc(azdias_labels_13)"
   ]
  },
  {
   "cell_type": "code",
   "execution_count": 73,
   "metadata": {},
   "outputs": [
    {
     "name": "stdout",
     "output_type": "stream",
     "text": [
      "cluster0, overrepresented by 0.1405767923470067 \n",
      "cluster1, overrepresented by 25.488839531545143 \n",
      "cluster2, overrepresented by 0.48543548840358763 \n",
      "cluster5, overrepresented by 7.871228536268335 \n",
      "cluster6, overrepresented by 4.726648798188749 \n"
     ]
    }
   ],
   "source": [
    "# What kinds of people are part of a cluster that is overrepresented in the\n",
    "# customer data compared to the general population?\n",
    "for i in range(len(azdias_perc)):\n",
    "    if(cutomers_perc[i]> azdias_perc[i]):\n",
    "        difference = cutomers_perc[i] - azdias_perc[i]\n",
    "        print(\"cluster{}, overrepresented by {} \".format(i, difference))"
   ]
  },
  {
   "cell_type": "code",
   "execution_count": 74,
   "metadata": {},
   "outputs": [],
   "source": [
    "cluster_1 = data_scaler.inverse_transform(pca_32.inverse_transform(model_13.cluster_centers_[1]))\n",
    "cluster_1_data = pd.Series(data = cluster_1, index = customers_clean.columns)"
   ]
  },
  {
   "cell_type": "code",
   "execution_count": 75,
   "metadata": {},
   "outputs": [
    {
     "data": {
      "text/plain": [
       "ALTERSKATEGORIE_GROB        3.0\n",
       "ANREDE_KZ                   1.0\n",
       "FINANZ_MINIMALIST           5.0\n",
       "FINANZ_SPARER               2.0\n",
       "FINANZ_VORSORGER            4.0\n",
       "FINANZ_ANLEGER              2.0\n",
       "FINANZ_UNAUFFAELLIGER       2.0\n",
       "FINANZ_HAUSBAUER            2.0\n",
       "GREEN_AVANTGARDE            1.0\n",
       "HEALTH_TYP                  2.0\n",
       "RETOURTYP_BK_S              4.0\n",
       "SEMIO_SOZ                   5.0\n",
       "SEMIO_FAM                   5.0\n",
       "SEMIO_REL                   4.0\n",
       "SEMIO_MAT                   4.0\n",
       "SEMIO_VERT                  6.0\n",
       "SEMIO_LUST                  5.0\n",
       "SEMIO_ERL                   4.0\n",
       "SEMIO_KULT                  5.0\n",
       "SEMIO_RAT                   3.0\n",
       "SEMIO_KRIT                  3.0\n",
       "SEMIO_DOM                   3.0\n",
       "SEMIO_KAEM                  3.0\n",
       "SEMIO_PFLICHT               3.0\n",
       "SEMIO_TRADV                 3.0\n",
       "SOHO_KZ                     0.0\n",
       "ANZ_PERSONEN                2.0\n",
       "ANZ_TITEL                   0.0\n",
       "HH_EINKOMMEN_SCORE          2.0\n",
       "W_KEIT_KIND_HH              4.0\n",
       "                          ...  \n",
       "KONSUMNAEHE                 3.0\n",
       "MIN_GEBAEUDEJAHR         1993.0\n",
       "OST_WEST_KZ                 0.0\n",
       "KBA05_ANTG1                 3.0\n",
       "KBA05_ANTG2                 1.0\n",
       "KBA05_ANTG3                 0.0\n",
       "KBA05_ANTG4                 0.0\n",
       "KBA05_GBZ                   4.0\n",
       "BALLRAUM                    4.0\n",
       "EWDICHTE                    4.0\n",
       "INNENSTADT                  5.0\n",
       "GEBAEUDETYP_RASTER          4.0\n",
       "KKK                         2.0\n",
       "MOBI_REGIO                  4.0\n",
       "ONLINE_AFFINITAET           3.0\n",
       "REGIOTYP                    4.0\n",
       "KBA13_ANZAHL_PKW          693.0\n",
       "PLZ8_ANTG1                  3.0\n",
       "PLZ8_ANTG2                  3.0\n",
       "PLZ8_ANTG3                  1.0\n",
       "PLZ8_ANTG4                  0.0\n",
       "PLZ8_HHZ                    4.0\n",
       "PLZ8_GBZ                    4.0\n",
       "ARBEIT                      3.0\n",
       "ORTSGR_KLS9                 5.0\n",
       "RELAT_AB                    3.0\n",
       "decade                      4.0\n",
       "movement                    1.0\n",
       "life_stage                  4.0\n",
       "wealth                      3.0\n",
       "Length: 63, dtype: float64"
      ]
     },
     "execution_count": 75,
     "metadata": {},
     "output_type": "execute_result"
    }
   ],
   "source": [
    "cluster_1_data.round()"
   ]
  },
  {
   "cell_type": "code",
   "execution_count": 76,
   "metadata": {},
   "outputs": [
    {
     "name": "stdout",
     "output_type": "stream",
     "text": [
      "cluster3, underrepresented by 7.01355402735379 \n",
      "cluster4, underrepresented by 9.041633835761234 \n",
      "cluster7, underrepresented by 4.835333459606368 \n",
      "cluster8, underrepresented by 1.6333341651962927 \n",
      "cluster9, underrepresented by 0.26798313316882805 \n",
      "cluster10, underrepresented by 5.903136713813242 \n",
      "cluster11, underrepresented by 1.9185085685637997 \n",
      "cluster12, underrepresented by 8.099245243289273 \n"
     ]
    }
   ],
   "source": [
    "# What kinds of people are part of a cluster that is underrepresented in the\n",
    "# customer data compared to the general population?\n",
    "for i in range(len(azdias_perc)):\n",
    "    if(cutomers_perc[i]< azdias_perc[i]):\n",
    "        difference =  azdias_perc[i] - cutomers_perc[i]\n",
    "        print(\"cluster{}, underrepresented by {} \".format(i, difference))\n"
   ]
  },
  {
   "cell_type": "code",
   "execution_count": 77,
   "metadata": {},
   "outputs": [],
   "source": [
    "cluster_4 = data_scaler.inverse_transform(pca_32.inverse_transform(model_13.cluster_centers_[4]))\n",
    "cluster_4_data = pd.Series(data = cluster_4, index = customers_clean.columns)"
   ]
  },
  {
   "cell_type": "code",
   "execution_count": 78,
   "metadata": {
    "scrolled": true
   },
   "outputs": [
    {
     "data": {
      "text/plain": [
       "ALTERSKATEGORIE_GROB        2.0\n",
       "ANREDE_KZ                   2.0\n",
       "FINANZ_MINIMALIST           2.0\n",
       "FINANZ_SPARER               4.0\n",
       "FINANZ_VORSORGER            2.0\n",
       "FINANZ_ANLEGER              4.0\n",
       "FINANZ_UNAUFFAELLIGER       4.0\n",
       "FINANZ_HAUSBAUER            3.0\n",
       "GREEN_AVANTGARDE            0.0\n",
       "HEALTH_TYP                  2.0\n",
       "RETOURTYP_BK_S              3.0\n",
       "SEMIO_SOZ                   3.0\n",
       "SEMIO_FAM                   4.0\n",
       "SEMIO_REL                   5.0\n",
       "SEMIO_MAT                   5.0\n",
       "SEMIO_VERT                  3.0\n",
       "SEMIO_LUST                  3.0\n",
       "SEMIO_ERL                   4.0\n",
       "SEMIO_KULT                  4.0\n",
       "SEMIO_RAT                   6.0\n",
       "SEMIO_KRIT                  5.0\n",
       "SEMIO_DOM                   6.0\n",
       "SEMIO_KAEM                  6.0\n",
       "SEMIO_PFLICHT               6.0\n",
       "SEMIO_TRADV                 6.0\n",
       "SOHO_KZ                     0.0\n",
       "ANZ_PERSONEN                2.0\n",
       "ANZ_TITEL                   0.0\n",
       "HH_EINKOMMEN_SCORE          4.0\n",
       "W_KEIT_KIND_HH              4.0\n",
       "                          ...  \n",
       "KONSUMNAEHE                 4.0\n",
       "MIN_GEBAEUDEJAHR         1994.0\n",
       "OST_WEST_KZ                 0.0\n",
       "KBA05_ANTG1                 2.0\n",
       "KBA05_ANTG2                 1.0\n",
       "KBA05_ANTG3                 0.0\n",
       "KBA05_ANTG4                 0.0\n",
       "KBA05_GBZ                   4.0\n",
       "BALLRAUM                    5.0\n",
       "EWDICHTE                    3.0\n",
       "INNENSTADT                  5.0\n",
       "GEBAEUDETYP_RASTER          4.0\n",
       "KKK                         3.0\n",
       "MOBI_REGIO                  4.0\n",
       "ONLINE_AFFINITAET           4.0\n",
       "REGIOTYP                    4.0\n",
       "KBA13_ANZAHL_PKW          721.0\n",
       "PLZ8_ANTG1                  3.0\n",
       "PLZ8_ANTG2                  2.0\n",
       "PLZ8_ANTG3                  1.0\n",
       "PLZ8_ANTG4                  0.0\n",
       "PLZ8_HHZ                    4.0\n",
       "PLZ8_GBZ                    4.0\n",
       "ARBEIT                      3.0\n",
       "ORTSGR_KLS9                 4.0\n",
       "RELAT_AB                    2.0\n",
       "decade                      6.0\n",
       "movement                    0.0\n",
       "life_stage                  3.0\n",
       "wealth                      3.0\n",
       "Length: 63, dtype: float64"
      ]
     },
     "execution_count": 78,
     "metadata": {},
     "output_type": "execute_result"
    }
   ],
   "source": [
    "cluster_4_data.round()"
   ]
  },
  {
   "cell_type": "markdown",
   "metadata": {},
   "source": [
    "### Discussion 3.3: Compare Customer Data to Demographics Data\n",
    "\n",
    "(Double-click this cell and replace this text with your own text, reporting findings and conclusions from the clustering analysis. Can we describe segments of the population that are relatively popular with the mail-order company, or relatively unpopular with the company?)\n",
    "relatively popular with the mail-order company: cluster 1: \n",
    "most of this segment:\n",
    "- men with an age range from 45 to 60\n",
    "- Older Families & Mature Couples\n",
    "- high money saver\n",
    "- very-low minimalist\n",
    "- comfortable households\n",
    "\n",
    "relatively unpopular with the company: cluster 4:\n",
    "most of this segment:\n",
    "- women in the age range from 30 to 45\n",
    "- families with school age children\n",
    "- low money saver\n",
    "- high minimalist\n",
    "- comfortable households\n",
    "\n",
    "It seems like there is more effort need to be made to attract people in cluster 4 and even other potential clusters\n"
   ]
  },
  {
   "cell_type": "markdown",
   "metadata": {},
   "source": [
    "> Congratulations on making it this far in the project! Before you finish, make sure to check through the entire notebook from top to bottom to make sure that your analysis follows a logical flow and all of your findings are documented in **Discussion** cells. Once you've checked over all of your work, you should export the notebook as an HTML document to submit for evaluation. You can do this from the menu, navigating to **File -> Download as -> HTML (.html)**. You will submit both that document and this notebook for your project submission."
   ]
  }
 ],
 "metadata": {
  "kernelspec": {
   "display_name": "Python 3",
   "language": "python",
   "name": "python3"
  },
  "language_info": {
   "codemirror_mode": {
    "name": "ipython",
    "version": 3
   },
   "file_extension": ".py",
   "mimetype": "text/x-python",
   "name": "python",
   "nbconvert_exporter": "python",
   "pygments_lexer": "ipython3",
   "version": "3.7.1"
  }
 },
 "nbformat": 4,
 "nbformat_minor": 2
}
